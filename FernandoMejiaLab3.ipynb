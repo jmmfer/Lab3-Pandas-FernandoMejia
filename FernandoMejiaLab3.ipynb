{
 "cells": [
  {
   "cell_type": "heading",
   "metadata": {},
   "level": 1,
   "source": [
    "\n",
    "<!-- ---------------------------------------------------- -->\n",
    "  <div class=\"col-sm-3 col-md-3 col-lg-3\">\n",
    "\t<!-- logo -->  \n",
    "    <div class=\"img-responsive\">\n",
    "      <img src=\"https://www.unimet.edu.ve/wp-content/uploads/2017/03/Logo-unimet-1.png\" title=\"Curso Análisis de Datos con Python\" alt=\"Curso Análisis de Datos con Python\">    \n",
    "    </div>\n",
    "\t<!-- logo -->\t\n",
    "  </div>\n",
    "<!-- ---------------------------------------------------- --> \n",
    "  <div class=\"col-sm-6 col-md-6 col-lg-6\">\n",
    "\t<!-- Pandas Tutorial -->  \n",
    "\t  <center>\n",
    "\t    <br>\n",
    "        <h1>Laboratorio 3 Pandas</h1>\n",
    " <h1>Análisis de Datos de La Liga 2019 - 2020</h1>\n",
    "        <br>\n",
    "        <br>\n",
    "\t  </center>\t\n",
    "    <!-- Pandas Tutorial -->\t\n",
    "\n",
    "  </div>\n",
    "<!-- ---------------------------------------------------- -->"
   ]
  },
  {
   "cell_type": "markdown",
   "metadata": {},
   "source": [
    "\n",
    "La temporada *2019-20 de La Liga*, fue la 89ª desde su creación. *Esta fue la segunda temporada de La Liga con VAR*.\n",
    "\n",
    "Como en temporadas anteriores, consta de un grupo único integrado por veinte clubes de toda la geografía española. Siguiendo un sistema de liga, los veinte equipos se enfrentarán todos contra todos en dos ocasiones, una en campo propio y otra en campo contrario, sumando un total de 38 jornadas. El orden de los encuentros se decidió por sorteo antes de empezar la competición.\n",
    "\n",
    " A falta de una jornada para el final, el Real Madrid se coronó campeón por trigesimocuarta vez en su historia.\n",
    "   \n",
    "* **SOBRE EL LABORATORIO:**\n",
    "\n",
    "En este laboratorio analizaremos el patrón en los datos que nos ayudarán a obtener más información sobre la temporada de La Liga.\n",
    "\n",
    "---"
   ]
  },
  {
   "cell_type": "markdown",
   "metadata": {},
   "source": [
    "### 1. Importación de Librerías:\n",
    "Importa las siguientes librerías:\n",
    "   * numpy : para operaciones.\n",
    "   * pandas: para manipulación de datos\n",
    "   * ipywidgets: añadir interactividad a las tablas\n",
    "   * IPython.display: mostrar tablas html"
   ]
  },
  {
   "cell_type": "code",
   "execution_count": 19,
   "metadata": {},
   "outputs": [],
   "source": [
    "import numpy as np\n",
    "import pandas as pd\n",
    "import ipywidgets as widgets\n",
    "from ipywidgets import interact, interact_manual\n",
    "from IPython.display import display, HTML"
   ]
  },
  {
   "cell_type": "markdown",
   "metadata": {},
   "source": [
    "### 2. Los Datos:\n",
    "\n",
    "El conjunto de datos contiene información sobre todos y cada uno de los partidos jugados en la temporada de La Liga 2019-20, y con la ayuda de los datos intentaremos obtener información sobre la temporada.\n",
    "  \n",
    "  El conjunto de datos se descarga desde: http://football-data.co.uk/data.php"
   ]
  },
  {
   "cell_type": "markdown",
   "metadata": {},
   "source": [
    "* La data contiene los siguientes campos:\n",
    "\n",
    "    * Div : División (Primera, Segunda) como he descargado sólo el de 1ra siempre aparecerá 1\n",
    "    * Date : Día del Partido (dd/mm/yy) \n",
    "    * HomeTeam : Equipo Local\n",
    "    * AwayTeam : Equipo Visitante \n",
    "    * FTHG : (Full Time Home Team Goals) Goles de Local en el tiempo completo\n",
    "    * FTAG : (Full Time Away Team Goals) Goles de Visitante en el tiempo completo\n",
    "    * FTR : (Full Time Result) Resultado Final en tiempo Completo (H=Home Win, D=Draw, A=Away Win)\n",
    "    * HTHG : (Half Time Home Team Goal) Goles del equipo local al medio tiempo\n",
    "    * HTAG : (Half Time Away Team) Goals Goles del equipo visitante al medio tiempo\n",
    "    * HTR : (Half Time Result) Resultado en el medio tiempo (H=Home Win, D=Draw, A=Away Win)\n",
    "    * HS : (Home Team Shots) Remates equipo local\n",
    "    * AS : (Away Team Shots) Remates equipo visitante\n",
    "    * HST : (Home Team Shots on Target) Remates equipo local al arco\n",
    "    * AST : (Away Team Shots on Target) Remates equipo visitante al arco\n",
    "    * HF : (Home Team Fouls) Faltas Cometidas equipo local \n",
    "    * AF : (Away Tema Fouls) Faltas Cometidas equipo visitante \n",
    "    * HC : (Home Team Corners) Corners equipo local\n",
    "    * AC : (Away Team Corners) Corners equipo visitante \n",
    "    * HY : (Home Team Yellow Cards) Tarjetas Amarillas equipo local\n",
    "    * AY : (Away Team Yellow Cards) Tarjetas Amarillas equipo visitante \n",
    "    * HR : (Home Team Red Cards) Tarjetas Rojas equipo local\n",
    "    * AR : (Away Team Red Cards) Tarjetas Rojas equipo visitante\n",
    "    \n",
    "\n",
    "* Nota: No estamos incluyendo las * columnas de apuestas * en nuestro proyecto."
   ]
  },
  {
   "source": [
    "* **Leer los datos del archivo SP1.csv.**"
   ],
   "cell_type": "markdown",
   "metadata": {}
  },
  {
   "cell_type": "code",
   "execution_count": 20,
   "metadata": {},
   "outputs": [],
   "source": [
    "df = pd.read_csv(\"SP1.csv\")"
   ]
  },
  {
   "source": [
    "* **Usa las funciones básicas para ver el conjunto de datos y la información sobre el conjunto de datos.**"
   ],
   "cell_type": "markdown",
   "metadata": {}
  },
  {
   "cell_type": "code",
   "execution_count": 21,
   "metadata": {},
   "outputs": [
    {
     "output_type": "execute_result",
     "data": {
      "text/plain": [
       "   Div        Date   Time    HomeTeam     AwayTeam  FTHG  FTAG FTR  HTHG  \\\n",
       "0  SP1  16/08/2019  20:00  Ath Bilbao    Barcelona     1     0   H     0   \n",
       "1  SP1  17/08/2019  16:00       Celta  Real Madrid     1     3   A     0   \n",
       "2  SP1  17/08/2019  18:00    Valencia     Sociedad     1     1   D     0   \n",
       "3  SP1  17/08/2019  19:00    Mallorca        Eibar     2     1   H     1   \n",
       "4  SP1  17/08/2019  20:00     Leganes      Osasuna     0     1   A     0   \n",
       "5  SP1  17/08/2019  20:00  Villarreal      Granada     4     4   D     1   \n",
       "6  SP1  18/08/2019  16:00      Alaves      Levante     1     0   H     0   \n",
       "7  SP1  18/08/2019  18:00     Espanol      Sevilla     0     2   A     0   \n",
       "8  SP1  18/08/2019  20:00       Betis   Valladolid     1     2   A     0   \n",
       "9  SP1  18/08/2019  21:00  Ath Madrid       Getafe     1     0   H     1   \n",
       "\n",
       "   HTAG  ... AvgC<2.5  AHCh  B365CAHH  B365CAHA  PCAHH  PCAHA  MaxCAHH  \\\n",
       "0     0  ...     1.97  0.75      1.93      2.00   1.91   2.01     2.02   \n",
       "1     1  ...     2.63  1.00      1.82      1.97   1.85   2.07     2.00   \n",
       "2     0  ...     1.82 -0.75      1.94      1.99   1.92   2.00     1.96   \n",
       "3     0  ...     1.66  0.00      2.11      1.82   2.09   1.83     2.12   \n",
       "4     0  ...     1.46 -0.50      1.89      2.04   1.90   2.01     1.95   \n",
       "5     1  ...     1.92 -1.00      1.96      1.97   1.96   1.96     1.98   \n",
       "6     0  ...     1.74 -0.25      2.08      1.85   2.08   1.84     2.09   \n",
       "7     1  ...     1.85  0.25      1.86      2.07   1.85   2.07     1.98   \n",
       "8     0  ...     1.83 -0.75      2.02      1.77   2.08   1.84     2.14   \n",
       "9     0  ...     1.59 -1.00      2.06      1.87   2.07   1.85     2.07   \n",
       "\n",
       "   MaxCAHA  AvgCAHH  AvgCAHA  \n",
       "0     2.03     1.91     1.98  \n",
       "1     2.20     1.82     2.06  \n",
       "2     2.12     1.89     2.00  \n",
       "3     1.88     2.07     1.83  \n",
       "4     2.06     1.90     1.99  \n",
       "5     2.12     1.93     1.95  \n",
       "6     1.97     2.04     1.85  \n",
       "7     2.11     1.84     2.05  \n",
       "8     1.92     2.08     1.81  \n",
       "9     2.10     1.97     1.91  \n",
       "\n",
       "[10 rows x 105 columns]"
      ],
      "text/html": "<div>\n<style scoped>\n    .dataframe tbody tr th:only-of-type {\n        vertical-align: middle;\n    }\n\n    .dataframe tbody tr th {\n        vertical-align: top;\n    }\n\n    .dataframe thead th {\n        text-align: right;\n    }\n</style>\n<table border=\"1\" class=\"dataframe\">\n  <thead>\n    <tr style=\"text-align: right;\">\n      <th></th>\n      <th>Div</th>\n      <th>Date</th>\n      <th>Time</th>\n      <th>HomeTeam</th>\n      <th>AwayTeam</th>\n      <th>FTHG</th>\n      <th>FTAG</th>\n      <th>FTR</th>\n      <th>HTHG</th>\n      <th>HTAG</th>\n      <th>...</th>\n      <th>AvgC&lt;2.5</th>\n      <th>AHCh</th>\n      <th>B365CAHH</th>\n      <th>B365CAHA</th>\n      <th>PCAHH</th>\n      <th>PCAHA</th>\n      <th>MaxCAHH</th>\n      <th>MaxCAHA</th>\n      <th>AvgCAHH</th>\n      <th>AvgCAHA</th>\n    </tr>\n  </thead>\n  <tbody>\n    <tr>\n      <td>0</td>\n      <td>SP1</td>\n      <td>16/08/2019</td>\n      <td>20:00</td>\n      <td>Ath Bilbao</td>\n      <td>Barcelona</td>\n      <td>1</td>\n      <td>0</td>\n      <td>H</td>\n      <td>0</td>\n      <td>0</td>\n      <td>...</td>\n      <td>1.97</td>\n      <td>0.75</td>\n      <td>1.93</td>\n      <td>2.00</td>\n      <td>1.91</td>\n      <td>2.01</td>\n      <td>2.02</td>\n      <td>2.03</td>\n      <td>1.91</td>\n      <td>1.98</td>\n    </tr>\n    <tr>\n      <td>1</td>\n      <td>SP1</td>\n      <td>17/08/2019</td>\n      <td>16:00</td>\n      <td>Celta</td>\n      <td>Real Madrid</td>\n      <td>1</td>\n      <td>3</td>\n      <td>A</td>\n      <td>0</td>\n      <td>1</td>\n      <td>...</td>\n      <td>2.63</td>\n      <td>1.00</td>\n      <td>1.82</td>\n      <td>1.97</td>\n      <td>1.85</td>\n      <td>2.07</td>\n      <td>2.00</td>\n      <td>2.20</td>\n      <td>1.82</td>\n      <td>2.06</td>\n    </tr>\n    <tr>\n      <td>2</td>\n      <td>SP1</td>\n      <td>17/08/2019</td>\n      <td>18:00</td>\n      <td>Valencia</td>\n      <td>Sociedad</td>\n      <td>1</td>\n      <td>1</td>\n      <td>D</td>\n      <td>0</td>\n      <td>0</td>\n      <td>...</td>\n      <td>1.82</td>\n      <td>-0.75</td>\n      <td>1.94</td>\n      <td>1.99</td>\n      <td>1.92</td>\n      <td>2.00</td>\n      <td>1.96</td>\n      <td>2.12</td>\n      <td>1.89</td>\n      <td>2.00</td>\n    </tr>\n    <tr>\n      <td>3</td>\n      <td>SP1</td>\n      <td>17/08/2019</td>\n      <td>19:00</td>\n      <td>Mallorca</td>\n      <td>Eibar</td>\n      <td>2</td>\n      <td>1</td>\n      <td>H</td>\n      <td>1</td>\n      <td>0</td>\n      <td>...</td>\n      <td>1.66</td>\n      <td>0.00</td>\n      <td>2.11</td>\n      <td>1.82</td>\n      <td>2.09</td>\n      <td>1.83</td>\n      <td>2.12</td>\n      <td>1.88</td>\n      <td>2.07</td>\n      <td>1.83</td>\n    </tr>\n    <tr>\n      <td>4</td>\n      <td>SP1</td>\n      <td>17/08/2019</td>\n      <td>20:00</td>\n      <td>Leganes</td>\n      <td>Osasuna</td>\n      <td>0</td>\n      <td>1</td>\n      <td>A</td>\n      <td>0</td>\n      <td>0</td>\n      <td>...</td>\n      <td>1.46</td>\n      <td>-0.50</td>\n      <td>1.89</td>\n      <td>2.04</td>\n      <td>1.90</td>\n      <td>2.01</td>\n      <td>1.95</td>\n      <td>2.06</td>\n      <td>1.90</td>\n      <td>1.99</td>\n    </tr>\n    <tr>\n      <td>5</td>\n      <td>SP1</td>\n      <td>17/08/2019</td>\n      <td>20:00</td>\n      <td>Villarreal</td>\n      <td>Granada</td>\n      <td>4</td>\n      <td>4</td>\n      <td>D</td>\n      <td>1</td>\n      <td>1</td>\n      <td>...</td>\n      <td>1.92</td>\n      <td>-1.00</td>\n      <td>1.96</td>\n      <td>1.97</td>\n      <td>1.96</td>\n      <td>1.96</td>\n      <td>1.98</td>\n      <td>2.12</td>\n      <td>1.93</td>\n      <td>1.95</td>\n    </tr>\n    <tr>\n      <td>6</td>\n      <td>SP1</td>\n      <td>18/08/2019</td>\n      <td>16:00</td>\n      <td>Alaves</td>\n      <td>Levante</td>\n      <td>1</td>\n      <td>0</td>\n      <td>H</td>\n      <td>0</td>\n      <td>0</td>\n      <td>...</td>\n      <td>1.74</td>\n      <td>-0.25</td>\n      <td>2.08</td>\n      <td>1.85</td>\n      <td>2.08</td>\n      <td>1.84</td>\n      <td>2.09</td>\n      <td>1.97</td>\n      <td>2.04</td>\n      <td>1.85</td>\n    </tr>\n    <tr>\n      <td>7</td>\n      <td>SP1</td>\n      <td>18/08/2019</td>\n      <td>18:00</td>\n      <td>Espanol</td>\n      <td>Sevilla</td>\n      <td>0</td>\n      <td>2</td>\n      <td>A</td>\n      <td>0</td>\n      <td>1</td>\n      <td>...</td>\n      <td>1.85</td>\n      <td>0.25</td>\n      <td>1.86</td>\n      <td>2.07</td>\n      <td>1.85</td>\n      <td>2.07</td>\n      <td>1.98</td>\n      <td>2.11</td>\n      <td>1.84</td>\n      <td>2.05</td>\n    </tr>\n    <tr>\n      <td>8</td>\n      <td>SP1</td>\n      <td>18/08/2019</td>\n      <td>20:00</td>\n      <td>Betis</td>\n      <td>Valladolid</td>\n      <td>1</td>\n      <td>2</td>\n      <td>A</td>\n      <td>0</td>\n      <td>0</td>\n      <td>...</td>\n      <td>1.83</td>\n      <td>-0.75</td>\n      <td>2.02</td>\n      <td>1.77</td>\n      <td>2.08</td>\n      <td>1.84</td>\n      <td>2.14</td>\n      <td>1.92</td>\n      <td>2.08</td>\n      <td>1.81</td>\n    </tr>\n    <tr>\n      <td>9</td>\n      <td>SP1</td>\n      <td>18/08/2019</td>\n      <td>21:00</td>\n      <td>Ath Madrid</td>\n      <td>Getafe</td>\n      <td>1</td>\n      <td>0</td>\n      <td>H</td>\n      <td>1</td>\n      <td>0</td>\n      <td>...</td>\n      <td>1.59</td>\n      <td>-1.00</td>\n      <td>2.06</td>\n      <td>1.87</td>\n      <td>2.07</td>\n      <td>1.85</td>\n      <td>2.07</td>\n      <td>2.10</td>\n      <td>1.97</td>\n      <td>1.91</td>\n    </tr>\n  </tbody>\n</table>\n<p>10 rows × 105 columns</p>\n</div>"
     },
     "metadata": {},
     "execution_count": 21
    }
   ],
   "source": [
    "df.head(10)"
   ]
  },
  {
   "cell_type": "markdown",
   "metadata": {},
   "source": [
    "* **Seleccionar las mejores columnas del conjunto de datos:**\n",
    "\n",
    "    * Como solo queremos las primeras 22 columnas, todas las otras columnas son básicamente las columnas de apuestas.\n",
    "    * Entonces dividiremos el marco de datos que nos dará el conjunto de datos que tiene las primeras 22 columnas."
   ]
  },
  {
   "cell_type": "code",
   "execution_count": 22,
   "metadata": {},
   "outputs": [
    {
     "output_type": "execute_result",
     "data": {
      "text/plain": [
       "     Div        Date   Time    HomeTeam     AwayTeam  FTHG  FTAG FTR  HTHG  \\\n",
       "0    SP1  16/08/2019  20:00  Ath Bilbao    Barcelona     1     0   H     0   \n",
       "1    SP1  17/08/2019  16:00       Celta  Real Madrid     1     3   A     0   \n",
       "2    SP1  17/08/2019  18:00    Valencia     Sociedad     1     1   D     0   \n",
       "3    SP1  17/08/2019  19:00    Mallorca        Eibar     2     1   H     1   \n",
       "4    SP1  17/08/2019  20:00     Leganes      Osasuna     0     1   A     0   \n",
       "..   ...         ...    ...         ...          ...   ...   ...  ..   ...   \n",
       "375  SP1  19/07/2020  20:00     Granada   Ath Bilbao     4     0   H     1   \n",
       "376  SP1  19/07/2020  20:00     Leganes  Real Madrid     2     2   D     1   \n",
       "377  SP1  19/07/2020  20:00     Levante       Getafe     1     0   H     0   \n",
       "378  SP1  19/07/2020  20:00     Osasuna     Mallorca     2     2   D     1   \n",
       "379  SP1  19/07/2020  20:00     Sevilla     Valencia     1     0   H     0   \n",
       "\n",
       "     HTAG  ...  AS  HST  AST  HF  AF  HC  AC  HY  AY  HR  \n",
       "0       0  ...  11    5    2  14   9   3   8   1   1   0  \n",
       "1       1  ...  17    4   11  17  12   6   4   5   2   0  \n",
       "2       0  ...  12    6    3  13  14   3   3   4   4   1  \n",
       "3       0  ...  11    4    5  13  14   9   3   2   3   0  \n",
       "4       0  ...   4    2    2  17  11   8   0   1   4   1  \n",
       "..    ...  ...  ..  ...  ...  ..  ..  ..  ..  ..  ..  ..  \n",
       "375     0  ...  11    6    3  10  11   2   3   1   2   0  \n",
       "376     1  ...   7    7    4   9  11   5   2   4   1   0  \n",
       "377     0  ...  13    4    4  10  12   6   8   2   4   0  \n",
       "378     1  ...  12    5    4  17  10   3   5   2   0   0  \n",
       "379     0  ...   8    4    2  11   6   4   7   0   1   0  \n",
       "\n",
       "[380 rows x 22 columns]"
      ],
      "text/html": "<div>\n<style scoped>\n    .dataframe tbody tr th:only-of-type {\n        vertical-align: middle;\n    }\n\n    .dataframe tbody tr th {\n        vertical-align: top;\n    }\n\n    .dataframe thead th {\n        text-align: right;\n    }\n</style>\n<table border=\"1\" class=\"dataframe\">\n  <thead>\n    <tr style=\"text-align: right;\">\n      <th></th>\n      <th>Div</th>\n      <th>Date</th>\n      <th>Time</th>\n      <th>HomeTeam</th>\n      <th>AwayTeam</th>\n      <th>FTHG</th>\n      <th>FTAG</th>\n      <th>FTR</th>\n      <th>HTHG</th>\n      <th>HTAG</th>\n      <th>...</th>\n      <th>AS</th>\n      <th>HST</th>\n      <th>AST</th>\n      <th>HF</th>\n      <th>AF</th>\n      <th>HC</th>\n      <th>AC</th>\n      <th>HY</th>\n      <th>AY</th>\n      <th>HR</th>\n    </tr>\n  </thead>\n  <tbody>\n    <tr>\n      <td>0</td>\n      <td>SP1</td>\n      <td>16/08/2019</td>\n      <td>20:00</td>\n      <td>Ath Bilbao</td>\n      <td>Barcelona</td>\n      <td>1</td>\n      <td>0</td>\n      <td>H</td>\n      <td>0</td>\n      <td>0</td>\n      <td>...</td>\n      <td>11</td>\n      <td>5</td>\n      <td>2</td>\n      <td>14</td>\n      <td>9</td>\n      <td>3</td>\n      <td>8</td>\n      <td>1</td>\n      <td>1</td>\n      <td>0</td>\n    </tr>\n    <tr>\n      <td>1</td>\n      <td>SP1</td>\n      <td>17/08/2019</td>\n      <td>16:00</td>\n      <td>Celta</td>\n      <td>Real Madrid</td>\n      <td>1</td>\n      <td>3</td>\n      <td>A</td>\n      <td>0</td>\n      <td>1</td>\n      <td>...</td>\n      <td>17</td>\n      <td>4</td>\n      <td>11</td>\n      <td>17</td>\n      <td>12</td>\n      <td>6</td>\n      <td>4</td>\n      <td>5</td>\n      <td>2</td>\n      <td>0</td>\n    </tr>\n    <tr>\n      <td>2</td>\n      <td>SP1</td>\n      <td>17/08/2019</td>\n      <td>18:00</td>\n      <td>Valencia</td>\n      <td>Sociedad</td>\n      <td>1</td>\n      <td>1</td>\n      <td>D</td>\n      <td>0</td>\n      <td>0</td>\n      <td>...</td>\n      <td>12</td>\n      <td>6</td>\n      <td>3</td>\n      <td>13</td>\n      <td>14</td>\n      <td>3</td>\n      <td>3</td>\n      <td>4</td>\n      <td>4</td>\n      <td>1</td>\n    </tr>\n    <tr>\n      <td>3</td>\n      <td>SP1</td>\n      <td>17/08/2019</td>\n      <td>19:00</td>\n      <td>Mallorca</td>\n      <td>Eibar</td>\n      <td>2</td>\n      <td>1</td>\n      <td>H</td>\n      <td>1</td>\n      <td>0</td>\n      <td>...</td>\n      <td>11</td>\n      <td>4</td>\n      <td>5</td>\n      <td>13</td>\n      <td>14</td>\n      <td>9</td>\n      <td>3</td>\n      <td>2</td>\n      <td>3</td>\n      <td>0</td>\n    </tr>\n    <tr>\n      <td>4</td>\n      <td>SP1</td>\n      <td>17/08/2019</td>\n      <td>20:00</td>\n      <td>Leganes</td>\n      <td>Osasuna</td>\n      <td>0</td>\n      <td>1</td>\n      <td>A</td>\n      <td>0</td>\n      <td>0</td>\n      <td>...</td>\n      <td>4</td>\n      <td>2</td>\n      <td>2</td>\n      <td>17</td>\n      <td>11</td>\n      <td>8</td>\n      <td>0</td>\n      <td>1</td>\n      <td>4</td>\n      <td>1</td>\n    </tr>\n    <tr>\n      <td>...</td>\n      <td>...</td>\n      <td>...</td>\n      <td>...</td>\n      <td>...</td>\n      <td>...</td>\n      <td>...</td>\n      <td>...</td>\n      <td>...</td>\n      <td>...</td>\n      <td>...</td>\n      <td>...</td>\n      <td>...</td>\n      <td>...</td>\n      <td>...</td>\n      <td>...</td>\n      <td>...</td>\n      <td>...</td>\n      <td>...</td>\n      <td>...</td>\n      <td>...</td>\n      <td>...</td>\n    </tr>\n    <tr>\n      <td>375</td>\n      <td>SP1</td>\n      <td>19/07/2020</td>\n      <td>20:00</td>\n      <td>Granada</td>\n      <td>Ath Bilbao</td>\n      <td>4</td>\n      <td>0</td>\n      <td>H</td>\n      <td>1</td>\n      <td>0</td>\n      <td>...</td>\n      <td>11</td>\n      <td>6</td>\n      <td>3</td>\n      <td>10</td>\n      <td>11</td>\n      <td>2</td>\n      <td>3</td>\n      <td>1</td>\n      <td>2</td>\n      <td>0</td>\n    </tr>\n    <tr>\n      <td>376</td>\n      <td>SP1</td>\n      <td>19/07/2020</td>\n      <td>20:00</td>\n      <td>Leganes</td>\n      <td>Real Madrid</td>\n      <td>2</td>\n      <td>2</td>\n      <td>D</td>\n      <td>1</td>\n      <td>1</td>\n      <td>...</td>\n      <td>7</td>\n      <td>7</td>\n      <td>4</td>\n      <td>9</td>\n      <td>11</td>\n      <td>5</td>\n      <td>2</td>\n      <td>4</td>\n      <td>1</td>\n      <td>0</td>\n    </tr>\n    <tr>\n      <td>377</td>\n      <td>SP1</td>\n      <td>19/07/2020</td>\n      <td>20:00</td>\n      <td>Levante</td>\n      <td>Getafe</td>\n      <td>1</td>\n      <td>0</td>\n      <td>H</td>\n      <td>0</td>\n      <td>0</td>\n      <td>...</td>\n      <td>13</td>\n      <td>4</td>\n      <td>4</td>\n      <td>10</td>\n      <td>12</td>\n      <td>6</td>\n      <td>8</td>\n      <td>2</td>\n      <td>4</td>\n      <td>0</td>\n    </tr>\n    <tr>\n      <td>378</td>\n      <td>SP1</td>\n      <td>19/07/2020</td>\n      <td>20:00</td>\n      <td>Osasuna</td>\n      <td>Mallorca</td>\n      <td>2</td>\n      <td>2</td>\n      <td>D</td>\n      <td>1</td>\n      <td>1</td>\n      <td>...</td>\n      <td>12</td>\n      <td>5</td>\n      <td>4</td>\n      <td>17</td>\n      <td>10</td>\n      <td>3</td>\n      <td>5</td>\n      <td>2</td>\n      <td>0</td>\n      <td>0</td>\n    </tr>\n    <tr>\n      <td>379</td>\n      <td>SP1</td>\n      <td>19/07/2020</td>\n      <td>20:00</td>\n      <td>Sevilla</td>\n      <td>Valencia</td>\n      <td>1</td>\n      <td>0</td>\n      <td>H</td>\n      <td>0</td>\n      <td>0</td>\n      <td>...</td>\n      <td>8</td>\n      <td>4</td>\n      <td>2</td>\n      <td>11</td>\n      <td>6</td>\n      <td>4</td>\n      <td>7</td>\n      <td>0</td>\n      <td>1</td>\n      <td>0</td>\n    </tr>\n  </tbody>\n</table>\n<p>380 rows × 22 columns</p>\n</div>"
     },
     "metadata": {},
     "execution_count": 22
    }
   ],
   "source": [
    "df = df.iloc[:,0:22]\n",
    "df"
   ]
  },
  {
   "cell_type": "markdown",
   "metadata": {},
   "source": [
    "### Revisar el tipo de dato y si hay datos nulos de las columnas"
   ]
  },
  {
   "cell_type": "code",
   "execution_count": 23,
   "metadata": {},
   "outputs": [
    {
     "output_type": "stream",
     "name": "stdout",
     "text": [
      "<class 'pandas.core.frame.DataFrame'>\nRangeIndex: 380 entries, 0 to 379\nData columns (total 22 columns):\nDiv         380 non-null object\nDate        380 non-null object\nTime        380 non-null object\nHomeTeam    380 non-null object\nAwayTeam    380 non-null object\nFTHG        380 non-null int64\nFTAG        380 non-null int64\nFTR         380 non-null object\nHTHG        380 non-null int64\nHTAG        380 non-null int64\nHTR         380 non-null object\nHS          380 non-null int64\nAS          380 non-null int64\nHST         380 non-null int64\nAST         380 non-null int64\nHF          380 non-null int64\nAF          380 non-null int64\nHC          380 non-null int64\nAC          380 non-null int64\nHY          380 non-null int64\nAY          380 non-null int64\nHR          380 non-null int64\ndtypes: int64(15), object(7)\nmemory usage: 65.4+ KB\n"
     ]
    }
   ],
   "source": [
    "df.info(null_counts = True, verbose=True)"
   ]
  },
  {
   "cell_type": "markdown",
   "metadata": {},
   "source": [
    "* Hay un total de 380 filas, lo que significa que se jugaron 380 partidos en toda la temporada.\n",
    "    * El dataframe contiene 22 columnas: 16 tienen valores enteros y 6 tienen valores de texto.\n",
    "    * Ninguna columna tiene valores de NaN."
   ]
  },
  {
   "cell_type": "markdown",
   "metadata": {},
   "source": [
    "### Ver resumen de estadísticas del dataframe"
   ]
  },
  {
   "cell_type": "code",
   "execution_count": 24,
   "metadata": {},
   "outputs": [
    {
     "output_type": "execute_result",
     "data": {
      "text/plain": [
       "             FTHG        FTAG        HTHG        HTAG          HS          AS  \\\n",
       "count  380.000000  380.000000  380.000000  380.000000  380.000000  380.000000   \n",
       "mean     1.436842    1.042105    0.602632    0.450000   12.463158   10.136842   \n",
       "std      1.199697    1.029033    0.829848    0.673764    4.690552    4.080614   \n",
       "min      0.000000    0.000000    0.000000    0.000000    3.000000    1.000000   \n",
       "25%      1.000000    0.000000    0.000000    0.000000    9.000000    7.000000   \n",
       "50%      1.000000    1.000000    0.000000    0.000000   12.000000   10.000000   \n",
       "75%      2.000000    2.000000    1.000000    1.000000   15.000000   12.250000   \n",
       "max      6.000000    5.000000    4.000000    3.000000   25.000000   24.000000   \n",
       "\n",
       "              HST         AST          HF          AF          HC          AC  \\\n",
       "count  380.000000  380.000000  380.000000  380.000000  380.000000  380.000000   \n",
       "mean     4.336842    3.510526   13.663158   13.789474    5.042105    4.194737   \n",
       "std      2.438091    1.959321    4.214839    3.935884    2.676649    2.322080   \n",
       "min      0.000000    0.000000    4.000000    5.000000    0.000000    0.000000   \n",
       "25%      3.000000    2.000000   11.000000   11.000000    3.000000    2.750000   \n",
       "50%      4.000000    3.000000   13.000000   13.000000    5.000000    4.000000   \n",
       "75%      6.000000    5.000000   16.000000   16.000000    7.000000    6.000000   \n",
       "max     17.000000   12.000000   28.000000   30.000000   14.000000   12.000000   \n",
       "\n",
       "               HY          AY          HR  \n",
       "count  380.000000  380.000000  380.000000  \n",
       "mean     2.547368    2.584211    0.100000  \n",
       "std      1.549659    1.480128    0.333685  \n",
       "min      0.000000    0.000000    0.000000  \n",
       "25%      1.000000    2.000000    0.000000  \n",
       "50%      2.000000    2.000000    0.000000  \n",
       "75%      4.000000    4.000000    0.000000  \n",
       "max      7.000000    8.000000    2.000000  "
      ],
      "text/html": "<div>\n<style scoped>\n    .dataframe tbody tr th:only-of-type {\n        vertical-align: middle;\n    }\n\n    .dataframe tbody tr th {\n        vertical-align: top;\n    }\n\n    .dataframe thead th {\n        text-align: right;\n    }\n</style>\n<table border=\"1\" class=\"dataframe\">\n  <thead>\n    <tr style=\"text-align: right;\">\n      <th></th>\n      <th>FTHG</th>\n      <th>FTAG</th>\n      <th>HTHG</th>\n      <th>HTAG</th>\n      <th>HS</th>\n      <th>AS</th>\n      <th>HST</th>\n      <th>AST</th>\n      <th>HF</th>\n      <th>AF</th>\n      <th>HC</th>\n      <th>AC</th>\n      <th>HY</th>\n      <th>AY</th>\n      <th>HR</th>\n    </tr>\n  </thead>\n  <tbody>\n    <tr>\n      <td>count</td>\n      <td>380.000000</td>\n      <td>380.000000</td>\n      <td>380.000000</td>\n      <td>380.000000</td>\n      <td>380.000000</td>\n      <td>380.000000</td>\n      <td>380.000000</td>\n      <td>380.000000</td>\n      <td>380.000000</td>\n      <td>380.000000</td>\n      <td>380.000000</td>\n      <td>380.000000</td>\n      <td>380.000000</td>\n      <td>380.000000</td>\n      <td>380.000000</td>\n    </tr>\n    <tr>\n      <td>mean</td>\n      <td>1.436842</td>\n      <td>1.042105</td>\n      <td>0.602632</td>\n      <td>0.450000</td>\n      <td>12.463158</td>\n      <td>10.136842</td>\n      <td>4.336842</td>\n      <td>3.510526</td>\n      <td>13.663158</td>\n      <td>13.789474</td>\n      <td>5.042105</td>\n      <td>4.194737</td>\n      <td>2.547368</td>\n      <td>2.584211</td>\n      <td>0.100000</td>\n    </tr>\n    <tr>\n      <td>std</td>\n      <td>1.199697</td>\n      <td>1.029033</td>\n      <td>0.829848</td>\n      <td>0.673764</td>\n      <td>4.690552</td>\n      <td>4.080614</td>\n      <td>2.438091</td>\n      <td>1.959321</td>\n      <td>4.214839</td>\n      <td>3.935884</td>\n      <td>2.676649</td>\n      <td>2.322080</td>\n      <td>1.549659</td>\n      <td>1.480128</td>\n      <td>0.333685</td>\n    </tr>\n    <tr>\n      <td>min</td>\n      <td>0.000000</td>\n      <td>0.000000</td>\n      <td>0.000000</td>\n      <td>0.000000</td>\n      <td>3.000000</td>\n      <td>1.000000</td>\n      <td>0.000000</td>\n      <td>0.000000</td>\n      <td>4.000000</td>\n      <td>5.000000</td>\n      <td>0.000000</td>\n      <td>0.000000</td>\n      <td>0.000000</td>\n      <td>0.000000</td>\n      <td>0.000000</td>\n    </tr>\n    <tr>\n      <td>25%</td>\n      <td>1.000000</td>\n      <td>0.000000</td>\n      <td>0.000000</td>\n      <td>0.000000</td>\n      <td>9.000000</td>\n      <td>7.000000</td>\n      <td>3.000000</td>\n      <td>2.000000</td>\n      <td>11.000000</td>\n      <td>11.000000</td>\n      <td>3.000000</td>\n      <td>2.750000</td>\n      <td>1.000000</td>\n      <td>2.000000</td>\n      <td>0.000000</td>\n    </tr>\n    <tr>\n      <td>50%</td>\n      <td>1.000000</td>\n      <td>1.000000</td>\n      <td>0.000000</td>\n      <td>0.000000</td>\n      <td>12.000000</td>\n      <td>10.000000</td>\n      <td>4.000000</td>\n      <td>3.000000</td>\n      <td>13.000000</td>\n      <td>13.000000</td>\n      <td>5.000000</td>\n      <td>4.000000</td>\n      <td>2.000000</td>\n      <td>2.000000</td>\n      <td>0.000000</td>\n    </tr>\n    <tr>\n      <td>75%</td>\n      <td>2.000000</td>\n      <td>2.000000</td>\n      <td>1.000000</td>\n      <td>1.000000</td>\n      <td>15.000000</td>\n      <td>12.250000</td>\n      <td>6.000000</td>\n      <td>5.000000</td>\n      <td>16.000000</td>\n      <td>16.000000</td>\n      <td>7.000000</td>\n      <td>6.000000</td>\n      <td>4.000000</td>\n      <td>4.000000</td>\n      <td>0.000000</td>\n    </tr>\n    <tr>\n      <td>max</td>\n      <td>6.000000</td>\n      <td>5.000000</td>\n      <td>4.000000</td>\n      <td>3.000000</td>\n      <td>25.000000</td>\n      <td>24.000000</td>\n      <td>17.000000</td>\n      <td>12.000000</td>\n      <td>28.000000</td>\n      <td>30.000000</td>\n      <td>14.000000</td>\n      <td>12.000000</td>\n      <td>7.000000</td>\n      <td>8.000000</td>\n      <td>2.000000</td>\n    </tr>\n  </tbody>\n</table>\n</div>"
     },
     "metadata": {},
     "execution_count": 24
    }
   ],
   "source": [
    "df.describe()"
   ]
  },
  {
   "cell_type": "markdown",
   "metadata": {},
   "source": [
    "* **Borra la columna Div que indica la primera división.**"
   ]
  },
  {
   "cell_type": "code",
   "execution_count": 25,
   "metadata": {},
   "outputs": [
    {
     "output_type": "execute_result",
     "data": {
      "text/plain": [
       "           Date   Time    HomeTeam     AwayTeam  FTHG  FTAG FTR  HTHG  HTAG  \\\n",
       "0    16/08/2019  20:00  Ath Bilbao    Barcelona     1     0   H     0     0   \n",
       "1    17/08/2019  16:00       Celta  Real Madrid     1     3   A     0     1   \n",
       "2    17/08/2019  18:00    Valencia     Sociedad     1     1   D     0     0   \n",
       "3    17/08/2019  19:00    Mallorca        Eibar     2     1   H     1     0   \n",
       "4    17/08/2019  20:00     Leganes      Osasuna     0     1   A     0     0   \n",
       "..          ...    ...         ...          ...   ...   ...  ..   ...   ...   \n",
       "375  19/07/2020  20:00     Granada   Ath Bilbao     4     0   H     1     0   \n",
       "376  19/07/2020  20:00     Leganes  Real Madrid     2     2   D     1     1   \n",
       "377  19/07/2020  20:00     Levante       Getafe     1     0   H     0     0   \n",
       "378  19/07/2020  20:00     Osasuna     Mallorca     2     2   D     1     1   \n",
       "379  19/07/2020  20:00     Sevilla     Valencia     1     0   H     0     0   \n",
       "\n",
       "    HTR  ...  AS  HST  AST  HF  AF  HC  AC  HY  AY  HR  \n",
       "0     D  ...  11    5    2  14   9   3   8   1   1   0  \n",
       "1     A  ...  17    4   11  17  12   6   4   5   2   0  \n",
       "2     D  ...  12    6    3  13  14   3   3   4   4   1  \n",
       "3     H  ...  11    4    5  13  14   9   3   2   3   0  \n",
       "4     D  ...   4    2    2  17  11   8   0   1   4   1  \n",
       "..   ..  ...  ..  ...  ...  ..  ..  ..  ..  ..  ..  ..  \n",
       "375   H  ...  11    6    3  10  11   2   3   1   2   0  \n",
       "376   D  ...   7    7    4   9  11   5   2   4   1   0  \n",
       "377   D  ...  13    4    4  10  12   6   8   2   4   0  \n",
       "378   D  ...  12    5    4  17  10   3   5   2   0   0  \n",
       "379   D  ...   8    4    2  11   6   4   7   0   1   0  \n",
       "\n",
       "[380 rows x 21 columns]"
      ],
      "text/html": "<div>\n<style scoped>\n    .dataframe tbody tr th:only-of-type {\n        vertical-align: middle;\n    }\n\n    .dataframe tbody tr th {\n        vertical-align: top;\n    }\n\n    .dataframe thead th {\n        text-align: right;\n    }\n</style>\n<table border=\"1\" class=\"dataframe\">\n  <thead>\n    <tr style=\"text-align: right;\">\n      <th></th>\n      <th>Date</th>\n      <th>Time</th>\n      <th>HomeTeam</th>\n      <th>AwayTeam</th>\n      <th>FTHG</th>\n      <th>FTAG</th>\n      <th>FTR</th>\n      <th>HTHG</th>\n      <th>HTAG</th>\n      <th>HTR</th>\n      <th>...</th>\n      <th>AS</th>\n      <th>HST</th>\n      <th>AST</th>\n      <th>HF</th>\n      <th>AF</th>\n      <th>HC</th>\n      <th>AC</th>\n      <th>HY</th>\n      <th>AY</th>\n      <th>HR</th>\n    </tr>\n  </thead>\n  <tbody>\n    <tr>\n      <td>0</td>\n      <td>16/08/2019</td>\n      <td>20:00</td>\n      <td>Ath Bilbao</td>\n      <td>Barcelona</td>\n      <td>1</td>\n      <td>0</td>\n      <td>H</td>\n      <td>0</td>\n      <td>0</td>\n      <td>D</td>\n      <td>...</td>\n      <td>11</td>\n      <td>5</td>\n      <td>2</td>\n      <td>14</td>\n      <td>9</td>\n      <td>3</td>\n      <td>8</td>\n      <td>1</td>\n      <td>1</td>\n      <td>0</td>\n    </tr>\n    <tr>\n      <td>1</td>\n      <td>17/08/2019</td>\n      <td>16:00</td>\n      <td>Celta</td>\n      <td>Real Madrid</td>\n      <td>1</td>\n      <td>3</td>\n      <td>A</td>\n      <td>0</td>\n      <td>1</td>\n      <td>A</td>\n      <td>...</td>\n      <td>17</td>\n      <td>4</td>\n      <td>11</td>\n      <td>17</td>\n      <td>12</td>\n      <td>6</td>\n      <td>4</td>\n      <td>5</td>\n      <td>2</td>\n      <td>0</td>\n    </tr>\n    <tr>\n      <td>2</td>\n      <td>17/08/2019</td>\n      <td>18:00</td>\n      <td>Valencia</td>\n      <td>Sociedad</td>\n      <td>1</td>\n      <td>1</td>\n      <td>D</td>\n      <td>0</td>\n      <td>0</td>\n      <td>D</td>\n      <td>...</td>\n      <td>12</td>\n      <td>6</td>\n      <td>3</td>\n      <td>13</td>\n      <td>14</td>\n      <td>3</td>\n      <td>3</td>\n      <td>4</td>\n      <td>4</td>\n      <td>1</td>\n    </tr>\n    <tr>\n      <td>3</td>\n      <td>17/08/2019</td>\n      <td>19:00</td>\n      <td>Mallorca</td>\n      <td>Eibar</td>\n      <td>2</td>\n      <td>1</td>\n      <td>H</td>\n      <td>1</td>\n      <td>0</td>\n      <td>H</td>\n      <td>...</td>\n      <td>11</td>\n      <td>4</td>\n      <td>5</td>\n      <td>13</td>\n      <td>14</td>\n      <td>9</td>\n      <td>3</td>\n      <td>2</td>\n      <td>3</td>\n      <td>0</td>\n    </tr>\n    <tr>\n      <td>4</td>\n      <td>17/08/2019</td>\n      <td>20:00</td>\n      <td>Leganes</td>\n      <td>Osasuna</td>\n      <td>0</td>\n      <td>1</td>\n      <td>A</td>\n      <td>0</td>\n      <td>0</td>\n      <td>D</td>\n      <td>...</td>\n      <td>4</td>\n      <td>2</td>\n      <td>2</td>\n      <td>17</td>\n      <td>11</td>\n      <td>8</td>\n      <td>0</td>\n      <td>1</td>\n      <td>4</td>\n      <td>1</td>\n    </tr>\n    <tr>\n      <td>...</td>\n      <td>...</td>\n      <td>...</td>\n      <td>...</td>\n      <td>...</td>\n      <td>...</td>\n      <td>...</td>\n      <td>...</td>\n      <td>...</td>\n      <td>...</td>\n      <td>...</td>\n      <td>...</td>\n      <td>...</td>\n      <td>...</td>\n      <td>...</td>\n      <td>...</td>\n      <td>...</td>\n      <td>...</td>\n      <td>...</td>\n      <td>...</td>\n      <td>...</td>\n      <td>...</td>\n    </tr>\n    <tr>\n      <td>375</td>\n      <td>19/07/2020</td>\n      <td>20:00</td>\n      <td>Granada</td>\n      <td>Ath Bilbao</td>\n      <td>4</td>\n      <td>0</td>\n      <td>H</td>\n      <td>1</td>\n      <td>0</td>\n      <td>H</td>\n      <td>...</td>\n      <td>11</td>\n      <td>6</td>\n      <td>3</td>\n      <td>10</td>\n      <td>11</td>\n      <td>2</td>\n      <td>3</td>\n      <td>1</td>\n      <td>2</td>\n      <td>0</td>\n    </tr>\n    <tr>\n      <td>376</td>\n      <td>19/07/2020</td>\n      <td>20:00</td>\n      <td>Leganes</td>\n      <td>Real Madrid</td>\n      <td>2</td>\n      <td>2</td>\n      <td>D</td>\n      <td>1</td>\n      <td>1</td>\n      <td>D</td>\n      <td>...</td>\n      <td>7</td>\n      <td>7</td>\n      <td>4</td>\n      <td>9</td>\n      <td>11</td>\n      <td>5</td>\n      <td>2</td>\n      <td>4</td>\n      <td>1</td>\n      <td>0</td>\n    </tr>\n    <tr>\n      <td>377</td>\n      <td>19/07/2020</td>\n      <td>20:00</td>\n      <td>Levante</td>\n      <td>Getafe</td>\n      <td>1</td>\n      <td>0</td>\n      <td>H</td>\n      <td>0</td>\n      <td>0</td>\n      <td>D</td>\n      <td>...</td>\n      <td>13</td>\n      <td>4</td>\n      <td>4</td>\n      <td>10</td>\n      <td>12</td>\n      <td>6</td>\n      <td>8</td>\n      <td>2</td>\n      <td>4</td>\n      <td>0</td>\n    </tr>\n    <tr>\n      <td>378</td>\n      <td>19/07/2020</td>\n      <td>20:00</td>\n      <td>Osasuna</td>\n      <td>Mallorca</td>\n      <td>2</td>\n      <td>2</td>\n      <td>D</td>\n      <td>1</td>\n      <td>1</td>\n      <td>D</td>\n      <td>...</td>\n      <td>12</td>\n      <td>5</td>\n      <td>4</td>\n      <td>17</td>\n      <td>10</td>\n      <td>3</td>\n      <td>5</td>\n      <td>2</td>\n      <td>0</td>\n      <td>0</td>\n    </tr>\n    <tr>\n      <td>379</td>\n      <td>19/07/2020</td>\n      <td>20:00</td>\n      <td>Sevilla</td>\n      <td>Valencia</td>\n      <td>1</td>\n      <td>0</td>\n      <td>H</td>\n      <td>0</td>\n      <td>0</td>\n      <td>D</td>\n      <td>...</td>\n      <td>8</td>\n      <td>4</td>\n      <td>2</td>\n      <td>11</td>\n      <td>6</td>\n      <td>4</td>\n      <td>7</td>\n      <td>0</td>\n      <td>1</td>\n      <td>0</td>\n    </tr>\n  </tbody>\n</table>\n<p>380 rows × 21 columns</p>\n</div>"
     },
     "metadata": {},
     "execution_count": 25
    }
   ],
   "source": [
    "df = df.drop(\"Div\", axis=1)\n",
    "df"
   ]
  },
  {
   "cell_type": "markdown",
   "metadata": {},
   "source": [
    "* **Revisa el tipo de dato de la columna Date.**"
   ]
  },
  {
   "cell_type": "code",
   "execution_count": 26,
   "metadata": {},
   "outputs": [
    {
     "output_type": "execute_result",
     "data": {
      "text/plain": [
       "str"
      ]
     },
     "metadata": {},
     "execution_count": 26
    }
   ],
   "source": [
    "type(df[\"Date\"][0])"
   ]
  },
  {
   "cell_type": "markdown",
   "metadata": {},
   "source": [
    " * **cambia el tipo de dato a timestamp object con to_datetime**"
   ]
  },
  {
   "cell_type": "code",
   "execution_count": 27,
   "metadata": {},
   "outputs": [],
   "source": [
    "df[\"Date\"] = pd.to_datetime(df[\"Date\"])"
   ]
  },
  {
   "cell_type": "markdown",
   "metadata": {},
   "source": [
    "* **Revisa nuevamente el tipo de dato de la columna Date.**"
   ]
  },
  {
   "cell_type": "code",
   "execution_count": 28,
   "metadata": {},
   "outputs": [
    {
     "output_type": "execute_result",
     "data": {
      "text/plain": [
       "pandas._libs.tslibs.timestamps.Timestamp"
      ]
     },
     "metadata": {},
     "execution_count": 28
    }
   ],
   "source": [
    "type(df[\"Date\"][0])"
   ]
  },
  {
   "cell_type": "markdown",
   "metadata": {},
   "source": [
    "* **Crear 3 nuevas columnas:**\n",
    "    * Goles en casa en la segunda mitad (SHHG)\n",
    "    * Goles de vistante en la segunda mitad (SHAG) \n",
    "    * Resultado de la segunda mitad (SHR) (Gano visitante poner una A, gano home poner H, empate poner D)"
   ]
  },
  {
   "cell_type": "code",
   "execution_count": 29,
   "metadata": {},
   "outputs": [
    {
     "output_type": "execute_result",
     "data": {
      "text/plain": [
       "       HomeTeam     AwayTeam  SHHG\n",
       "0    Ath Bilbao    Barcelona     1\n",
       "1         Celta  Real Madrid     1\n",
       "2      Valencia     Sociedad     1\n",
       "3      Mallorca        Eibar     1\n",
       "4       Leganes      Osasuna     0\n",
       "..          ...          ...   ...\n",
       "375     Granada   Ath Bilbao     3\n",
       "376     Leganes  Real Madrid     1\n",
       "377     Levante       Getafe     1\n",
       "378     Osasuna     Mallorca     1\n",
       "379     Sevilla     Valencia     1\n",
       "\n",
       "[380 rows x 3 columns]"
      ],
      "text/html": "<div>\n<style scoped>\n    .dataframe tbody tr th:only-of-type {\n        vertical-align: middle;\n    }\n\n    .dataframe tbody tr th {\n        vertical-align: top;\n    }\n\n    .dataframe thead th {\n        text-align: right;\n    }\n</style>\n<table border=\"1\" class=\"dataframe\">\n  <thead>\n    <tr style=\"text-align: right;\">\n      <th></th>\n      <th>HomeTeam</th>\n      <th>AwayTeam</th>\n      <th>SHHG</th>\n    </tr>\n  </thead>\n  <tbody>\n    <tr>\n      <td>0</td>\n      <td>Ath Bilbao</td>\n      <td>Barcelona</td>\n      <td>1</td>\n    </tr>\n    <tr>\n      <td>1</td>\n      <td>Celta</td>\n      <td>Real Madrid</td>\n      <td>1</td>\n    </tr>\n    <tr>\n      <td>2</td>\n      <td>Valencia</td>\n      <td>Sociedad</td>\n      <td>1</td>\n    </tr>\n    <tr>\n      <td>3</td>\n      <td>Mallorca</td>\n      <td>Eibar</td>\n      <td>1</td>\n    </tr>\n    <tr>\n      <td>4</td>\n      <td>Leganes</td>\n      <td>Osasuna</td>\n      <td>0</td>\n    </tr>\n    <tr>\n      <td>...</td>\n      <td>...</td>\n      <td>...</td>\n      <td>...</td>\n    </tr>\n    <tr>\n      <td>375</td>\n      <td>Granada</td>\n      <td>Ath Bilbao</td>\n      <td>3</td>\n    </tr>\n    <tr>\n      <td>376</td>\n      <td>Leganes</td>\n      <td>Real Madrid</td>\n      <td>1</td>\n    </tr>\n    <tr>\n      <td>377</td>\n      <td>Levante</td>\n      <td>Getafe</td>\n      <td>1</td>\n    </tr>\n    <tr>\n      <td>378</td>\n      <td>Osasuna</td>\n      <td>Mallorca</td>\n      <td>1</td>\n    </tr>\n    <tr>\n      <td>379</td>\n      <td>Sevilla</td>\n      <td>Valencia</td>\n      <td>1</td>\n    </tr>\n  </tbody>\n</table>\n<p>380 rows × 3 columns</p>\n</div>"
     },
     "metadata": {},
     "execution_count": 29
    }
   ],
   "source": [
    "df[\"SHHG\"] = df[\"FTHG\"]-df[\"HTHG\"]\n",
    "df[[\"HomeTeam\", \"AwayTeam\", \"SHHG\"]]"
   ]
  },
  {
   "cell_type": "code",
   "execution_count": 30,
   "metadata": {},
   "outputs": [
    {
     "output_type": "execute_result",
     "data": {
      "text/plain": [
       "       HomeTeam     AwayTeam  SHAG\n",
       "0    Ath Bilbao    Barcelona     0\n",
       "1         Celta  Real Madrid     2\n",
       "2      Valencia     Sociedad     1\n",
       "3      Mallorca        Eibar     1\n",
       "4       Leganes      Osasuna     1\n",
       "..          ...          ...   ...\n",
       "375     Granada   Ath Bilbao     0\n",
       "376     Leganes  Real Madrid     1\n",
       "377     Levante       Getafe     0\n",
       "378     Osasuna     Mallorca     1\n",
       "379     Sevilla     Valencia     0\n",
       "\n",
       "[380 rows x 3 columns]"
      ],
      "text/html": "<div>\n<style scoped>\n    .dataframe tbody tr th:only-of-type {\n        vertical-align: middle;\n    }\n\n    .dataframe tbody tr th {\n        vertical-align: top;\n    }\n\n    .dataframe thead th {\n        text-align: right;\n    }\n</style>\n<table border=\"1\" class=\"dataframe\">\n  <thead>\n    <tr style=\"text-align: right;\">\n      <th></th>\n      <th>HomeTeam</th>\n      <th>AwayTeam</th>\n      <th>SHAG</th>\n    </tr>\n  </thead>\n  <tbody>\n    <tr>\n      <td>0</td>\n      <td>Ath Bilbao</td>\n      <td>Barcelona</td>\n      <td>0</td>\n    </tr>\n    <tr>\n      <td>1</td>\n      <td>Celta</td>\n      <td>Real Madrid</td>\n      <td>2</td>\n    </tr>\n    <tr>\n      <td>2</td>\n      <td>Valencia</td>\n      <td>Sociedad</td>\n      <td>1</td>\n    </tr>\n    <tr>\n      <td>3</td>\n      <td>Mallorca</td>\n      <td>Eibar</td>\n      <td>1</td>\n    </tr>\n    <tr>\n      <td>4</td>\n      <td>Leganes</td>\n      <td>Osasuna</td>\n      <td>1</td>\n    </tr>\n    <tr>\n      <td>...</td>\n      <td>...</td>\n      <td>...</td>\n      <td>...</td>\n    </tr>\n    <tr>\n      <td>375</td>\n      <td>Granada</td>\n      <td>Ath Bilbao</td>\n      <td>0</td>\n    </tr>\n    <tr>\n      <td>376</td>\n      <td>Leganes</td>\n      <td>Real Madrid</td>\n      <td>1</td>\n    </tr>\n    <tr>\n      <td>377</td>\n      <td>Levante</td>\n      <td>Getafe</td>\n      <td>0</td>\n    </tr>\n    <tr>\n      <td>378</td>\n      <td>Osasuna</td>\n      <td>Mallorca</td>\n      <td>1</td>\n    </tr>\n    <tr>\n      <td>379</td>\n      <td>Sevilla</td>\n      <td>Valencia</td>\n      <td>0</td>\n    </tr>\n  </tbody>\n</table>\n<p>380 rows × 3 columns</p>\n</div>"
     },
     "metadata": {},
     "execution_count": 30
    }
   ],
   "source": [
    "df[\"SHAG\"] = df[\"FTAG\"]-df[\"HTAG\"]\n",
    "df[[\"HomeTeam\", \"AwayTeam\", \"SHAG\"]]"
   ]
  },
  {
   "cell_type": "code",
   "execution_count": 31,
   "metadata": {},
   "outputs": [
    {
     "output_type": "execute_result",
     "data": {
      "text/plain": [
       "       HomeTeam     AwayTeam SHR\n",
       "0    Ath Bilbao    Barcelona   H\n",
       "1         Celta  Real Madrid   A\n",
       "2      Valencia     Sociedad   D\n",
       "3      Mallorca        Eibar   D\n",
       "4       Leganes      Osasuna   A\n",
       "..          ...          ...  ..\n",
       "375     Granada   Ath Bilbao   H\n",
       "376     Leganes  Real Madrid   D\n",
       "377     Levante       Getafe   H\n",
       "378     Osasuna     Mallorca   D\n",
       "379     Sevilla     Valencia   H\n",
       "\n",
       "[380 rows x 3 columns]"
      ],
      "text/html": "<div>\n<style scoped>\n    .dataframe tbody tr th:only-of-type {\n        vertical-align: middle;\n    }\n\n    .dataframe tbody tr th {\n        vertical-align: top;\n    }\n\n    .dataframe thead th {\n        text-align: right;\n    }\n</style>\n<table border=\"1\" class=\"dataframe\">\n  <thead>\n    <tr style=\"text-align: right;\">\n      <th></th>\n      <th>HomeTeam</th>\n      <th>AwayTeam</th>\n      <th>SHR</th>\n    </tr>\n  </thead>\n  <tbody>\n    <tr>\n      <td>0</td>\n      <td>Ath Bilbao</td>\n      <td>Barcelona</td>\n      <td>H</td>\n    </tr>\n    <tr>\n      <td>1</td>\n      <td>Celta</td>\n      <td>Real Madrid</td>\n      <td>A</td>\n    </tr>\n    <tr>\n      <td>2</td>\n      <td>Valencia</td>\n      <td>Sociedad</td>\n      <td>D</td>\n    </tr>\n    <tr>\n      <td>3</td>\n      <td>Mallorca</td>\n      <td>Eibar</td>\n      <td>D</td>\n    </tr>\n    <tr>\n      <td>4</td>\n      <td>Leganes</td>\n      <td>Osasuna</td>\n      <td>A</td>\n    </tr>\n    <tr>\n      <td>...</td>\n      <td>...</td>\n      <td>...</td>\n      <td>...</td>\n    </tr>\n    <tr>\n      <td>375</td>\n      <td>Granada</td>\n      <td>Ath Bilbao</td>\n      <td>H</td>\n    </tr>\n    <tr>\n      <td>376</td>\n      <td>Leganes</td>\n      <td>Real Madrid</td>\n      <td>D</td>\n    </tr>\n    <tr>\n      <td>377</td>\n      <td>Levante</td>\n      <td>Getafe</td>\n      <td>H</td>\n    </tr>\n    <tr>\n      <td>378</td>\n      <td>Osasuna</td>\n      <td>Mallorca</td>\n      <td>D</td>\n    </tr>\n    <tr>\n      <td>379</td>\n      <td>Sevilla</td>\n      <td>Valencia</td>\n      <td>H</td>\n    </tr>\n  </tbody>\n</table>\n<p>380 rows × 3 columns</p>\n</div>"
     },
     "metadata": {},
     "execution_count": 31
    }
   ],
   "source": [
    "def shr(a,h):\n",
    "    if a > h: \n",
    "        return 'A' \n",
    "    elif a < h:\n",
    "        return 'H' \n",
    "    else: \n",
    "        return 'D'\n",
    "df[\"SHR\"] = df.apply(lambda x: shr(x[\"SHAG\"],x[\"SHHG\"]), axis=1)\n",
    "df[[\"HomeTeam\", \"AwayTeam\", \"SHR\"]]"
   ]
  },
  {
   "cell_type": "markdown",
   "metadata": {},
   "source": [
    "* El proceso de limpieza de datos se ha realizado. Ahora podemos avanzar y hacer la tabla de la liga basada en el conjunto de datos que tenemos.\n"
   ]
  },
  {
   "cell_type": "markdown",
   "metadata": {},
   "source": [
    "### Total de partidos jugados en la temporada"
   ]
  },
  {
   "cell_type": "code",
   "execution_count": 32,
   "metadata": {},
   "outputs": [
    {
     "output_type": "stream",
     "name": "stdout",
     "text": [
      "Se jugaron: 380 partidos\n"
     ]
    }
   ],
   "source": [
    "total_partidos = len(df)\n",
    "print(\"Se jugaron: \"+str(total_partidos)+\" partidos\")\n"
   ]
  },
  {
   "cell_type": "markdown",
   "metadata": {},
   "source": [
    "### Porcentajes de partidos ganados por el equipo local, empatados y ganados por el equipo visitante"
   ]
  },
  {
   "cell_type": "code",
   "execution_count": 33,
   "metadata": {},
   "outputs": [
    {
     "output_type": "stream",
     "name": "stdout",
     "text": [
      "Partidos ganados por el equipo local: 174 (45.79%)\nPartidos empatados: 105 (27.63%)\nPartidos ganados por el equipo visitante: 101 (26.58%)\n"
     ]
    }
   ],
   "source": [
    "ganados_h = df[df[\"FTR\"] ==\"H\"][\"FTR\"].count()\n",
    "h_rate = ganados_h/total_partidos*100\n",
    "empatados = df[df[\"FTR\"] ==\"D\"][\"FTR\"].count()\n",
    "d_rate = empatados/total_partidos*100\n",
    "ganados_a = df[df[\"FTR\"] ==\"A\"][\"FTR\"].count()\n",
    "a_rate = ganados_a/total_partidos*100\n",
    "print(f'Partidos ganados por el equipo local: {ganados_h} ({h_rate:.2f}%)')\n",
    "print(f'Partidos empatados: {empatados} ({d_rate:.2f}%)')\n",
    "print(f'Partidos ganados por el equipo visitante: {ganados_a} ({a_rate:.2f}%)')"
   ]
  },
  {
   "cell_type": "markdown",
   "metadata": {},
   "source": [
    "### Crea un dataframe con una columna partidos que diga: (ganados, empatados o perdidados) y  otro con el porcentaje de la anterior celda "
   ]
  },
  {
   "cell_type": "code",
   "execution_count": 34,
   "metadata": {},
   "outputs": [
    {
     "output_type": "execute_result",
     "data": {
      "text/plain": [
       "    Partidos  Porcentaje\n",
       "0    Ganados   45.789474\n",
       "1  Empatados   27.631579\n",
       "2   Perdidos   26.578947"
      ],
      "text/html": "<div>\n<style scoped>\n    .dataframe tbody tr th:only-of-type {\n        vertical-align: middle;\n    }\n\n    .dataframe tbody tr th {\n        vertical-align: top;\n    }\n\n    .dataframe thead th {\n        text-align: right;\n    }\n</style>\n<table border=\"1\" class=\"dataframe\">\n  <thead>\n    <tr style=\"text-align: right;\">\n      <th></th>\n      <th>Partidos</th>\n      <th>Porcentaje</th>\n    </tr>\n  </thead>\n  <tbody>\n    <tr>\n      <td>0</td>\n      <td>Ganados</td>\n      <td>45.789474</td>\n    </tr>\n    <tr>\n      <td>1</td>\n      <td>Empatados</td>\n      <td>27.631579</td>\n    </tr>\n    <tr>\n      <td>2</td>\n      <td>Perdidos</td>\n      <td>26.578947</td>\n    </tr>\n  </tbody>\n</table>\n</div>"
     },
     "metadata": {},
     "execution_count": 34
    }
   ],
   "source": [
    "df_ganados = pd.DataFrame({\"Partidos\":[\"Ganados\",\"Empatados\",\"Perdidos\"],\"Porcentaje\":[h_rate,d_rate,a_rate]})\n",
    "df_ganados"
   ]
  },
  {
   "cell_type": "markdown",
   "metadata": {},
   "source": [
    "### Crear una pie chart con pandas del anterior dataframe "
   ]
  },
  {
   "cell_type": "code",
   "execution_count": 35,
   "metadata": {},
   "outputs": [
    {
     "output_type": "execute_result",
     "data": {
      "text/plain": [
       "<matplotlib.axes._subplots.AxesSubplot at 0x25f154580c8>"
      ]
     },
     "metadata": {},
     "execution_count": 35
    },
    {
     "output_type": "display_data",
     "data": {
      "text/plain": "<Figure size 432x288 with 1 Axes>",
      "image/svg+xml": "<?xml version=\"1.0\" encoding=\"utf-8\" standalone=\"no\"?>\r\n<!DOCTYPE svg PUBLIC \"-//W3C//DTD SVG 1.1//EN\"\r\n  \"http://www.w3.org/Graphics/SVG/1.1/DTD/svg11.dtd\">\r\n<!-- Created with matplotlib (https://matplotlib.org/) -->\r\n<svg height=\"231.84pt\" version=\"1.1\" viewBox=\"0 0 272.134756 231.84\" width=\"272.134756pt\" xmlns=\"http://www.w3.org/2000/svg\" xmlns:xlink=\"http://www.w3.org/1999/xlink\">\r\n <defs>\r\n  <style type=\"text/css\">\r\n*{stroke-linecap:butt;stroke-linejoin:round;}\r\n  </style>\r\n </defs>\r\n <g id=\"figure_1\">\r\n  <g id=\"patch_1\">\r\n   <path d=\"M 0 231.84 \r\nL 272.134756 231.84 \r\nL 272.134756 0 \r\nL 0 0 \r\nz\r\n\" style=\"fill:none;\"/>\r\n  </g>\r\n  <g id=\"axes_1\">\r\n   <g id=\"patch_2\">\r\n    <path d=\"M 233.816041 115.92 \r\nC 233.816041 103.287255 231.063795 90.804863 225.751274 79.343477 \r\nC 220.438752 67.882092 212.692412 57.714536 203.052566 49.550002 \r\nC 193.41272 41.385468 182.108831 35.418303 169.929352 32.064718 \r\nC 157.749873 28.711133 144.984719 28.050958 132.524268 30.130238 \r\nL 146.840041 115.92 \r\nL 233.816041 115.92 \r\nz\r\n\" style=\"fill:#1f77b4;\"/>\r\n   </g>\r\n   <g id=\"patch_3\">\r\n    <path d=\"M 132.524268 30.130238 \r\nC 111.736899 33.599035 92.902574 44.507666 79.549702 60.812515 \r\nC 66.196831 77.117365 59.214792 97.732436 59.911595 118.795715 \r\nC 60.608398 139.858995 68.937632 159.967547 83.338904 175.35425 \r\nC 97.740176 190.740954 117.254279 200.380965 138.225454 202.46833 \r\nL 146.840041 115.92 \r\nL 132.524268 30.130238 \r\nz\r\n\" style=\"fill:#ff7f0e;\"/>\r\n   </g>\r\n   <g id=\"patch_4\">\r\n    <path d=\"M 138.225454 202.46833 \r\nC 150.313698 203.671533 162.521008 202.328942 174.058805 198.527285 \r\nC 185.596601 194.725628 196.210973 188.548569 205.216245 180.395138 \r\nC 214.221516 172.241708 221.419509 162.291338 226.34524 151.186811 \r\nC 231.270971 140.082284 233.816041 128.067977 233.816041 115.92 \r\nL 146.840041 115.92 \r\nL 138.225454 202.46833 \r\nz\r\n\" style=\"fill:#2ca02c;\"/>\r\n   </g>\r\n   <g id=\"matplotlib.axis_1\"/>\r\n   <g id=\"matplotlib.axis_2\">\r\n    <g id=\"text_1\">\r\n     <!-- Porcentaje -->\r\n     <defs>\r\n      <path d=\"M 19.671875 64.796875 \r\nL 19.671875 37.40625 \r\nL 32.078125 37.40625 \r\nQ 38.96875 37.40625 42.71875 40.96875 \r\nQ 46.484375 44.53125 46.484375 51.125 \r\nQ 46.484375 57.671875 42.71875 61.234375 \r\nQ 38.96875 64.796875 32.078125 64.796875 \r\nz\r\nM 9.8125 72.90625 \r\nL 32.078125 72.90625 \r\nQ 44.34375 72.90625 50.609375 67.359375 \r\nQ 56.890625 61.8125 56.890625 51.125 \r\nQ 56.890625 40.328125 50.609375 34.8125 \r\nQ 44.34375 29.296875 32.078125 29.296875 \r\nL 19.671875 29.296875 \r\nL 19.671875 0 \r\nL 9.8125 0 \r\nz\r\n\" id=\"DejaVuSans-80\"/>\r\n      <path d=\"M 30.609375 48.390625 \r\nQ 23.390625 48.390625 19.1875 42.75 \r\nQ 14.984375 37.109375 14.984375 27.296875 \r\nQ 14.984375 17.484375 19.15625 11.84375 \r\nQ 23.34375 6.203125 30.609375 6.203125 \r\nQ 37.796875 6.203125 41.984375 11.859375 \r\nQ 46.1875 17.53125 46.1875 27.296875 \r\nQ 46.1875 37.015625 41.984375 42.703125 \r\nQ 37.796875 48.390625 30.609375 48.390625 \r\nz\r\nM 30.609375 56 \r\nQ 42.328125 56 49.015625 48.375 \r\nQ 55.71875 40.765625 55.71875 27.296875 \r\nQ 55.71875 13.875 49.015625 6.21875 \r\nQ 42.328125 -1.421875 30.609375 -1.421875 \r\nQ 18.84375 -1.421875 12.171875 6.21875 \r\nQ 5.515625 13.875 5.515625 27.296875 \r\nQ 5.515625 40.765625 12.171875 48.375 \r\nQ 18.84375 56 30.609375 56 \r\nz\r\n\" id=\"DejaVuSans-111\"/>\r\n      <path d=\"M 41.109375 46.296875 \r\nQ 39.59375 47.171875 37.8125 47.578125 \r\nQ 36.03125 48 33.890625 48 \r\nQ 26.265625 48 22.1875 43.046875 \r\nQ 18.109375 38.09375 18.109375 28.8125 \r\nL 18.109375 0 \r\nL 9.078125 0 \r\nL 9.078125 54.6875 \r\nL 18.109375 54.6875 \r\nL 18.109375 46.1875 \r\nQ 20.953125 51.171875 25.484375 53.578125 \r\nQ 30.03125 56 36.53125 56 \r\nQ 37.453125 56 38.578125 55.875 \r\nQ 39.703125 55.765625 41.0625 55.515625 \r\nz\r\n\" id=\"DejaVuSans-114\"/>\r\n      <path d=\"M 48.78125 52.59375 \r\nL 48.78125 44.1875 \r\nQ 44.96875 46.296875 41.140625 47.34375 \r\nQ 37.3125 48.390625 33.40625 48.390625 \r\nQ 24.65625 48.390625 19.8125 42.84375 \r\nQ 14.984375 37.3125 14.984375 27.296875 \r\nQ 14.984375 17.28125 19.8125 11.734375 \r\nQ 24.65625 6.203125 33.40625 6.203125 \r\nQ 37.3125 6.203125 41.140625 7.25 \r\nQ 44.96875 8.296875 48.78125 10.40625 \r\nL 48.78125 2.09375 \r\nQ 45.015625 0.34375 40.984375 -0.53125 \r\nQ 36.96875 -1.421875 32.421875 -1.421875 \r\nQ 20.0625 -1.421875 12.78125 6.34375 \r\nQ 5.515625 14.109375 5.515625 27.296875 \r\nQ 5.515625 40.671875 12.859375 48.328125 \r\nQ 20.21875 56 33.015625 56 \r\nQ 37.15625 56 41.109375 55.140625 \r\nQ 45.0625 54.296875 48.78125 52.59375 \r\nz\r\n\" id=\"DejaVuSans-99\"/>\r\n      <path d=\"M 56.203125 29.59375 \r\nL 56.203125 25.203125 \r\nL 14.890625 25.203125 \r\nQ 15.484375 15.921875 20.484375 11.0625 \r\nQ 25.484375 6.203125 34.421875 6.203125 \r\nQ 39.59375 6.203125 44.453125 7.46875 \r\nQ 49.3125 8.734375 54.109375 11.28125 \r\nL 54.109375 2.78125 \r\nQ 49.265625 0.734375 44.1875 -0.34375 \r\nQ 39.109375 -1.421875 33.890625 -1.421875 \r\nQ 20.796875 -1.421875 13.15625 6.1875 \r\nQ 5.515625 13.8125 5.515625 26.8125 \r\nQ 5.515625 40.234375 12.765625 48.109375 \r\nQ 20.015625 56 32.328125 56 \r\nQ 43.359375 56 49.78125 48.890625 \r\nQ 56.203125 41.796875 56.203125 29.59375 \r\nz\r\nM 47.21875 32.234375 \r\nQ 47.125 39.59375 43.09375 43.984375 \r\nQ 39.0625 48.390625 32.421875 48.390625 \r\nQ 24.90625 48.390625 20.390625 44.140625 \r\nQ 15.875 39.890625 15.1875 32.171875 \r\nz\r\n\" id=\"DejaVuSans-101\"/>\r\n      <path d=\"M 54.890625 33.015625 \r\nL 54.890625 0 \r\nL 45.90625 0 \r\nL 45.90625 32.71875 \r\nQ 45.90625 40.484375 42.875 44.328125 \r\nQ 39.84375 48.1875 33.796875 48.1875 \r\nQ 26.515625 48.1875 22.3125 43.546875 \r\nQ 18.109375 38.921875 18.109375 30.90625 \r\nL 18.109375 0 \r\nL 9.078125 0 \r\nL 9.078125 54.6875 \r\nL 18.109375 54.6875 \r\nL 18.109375 46.1875 \r\nQ 21.34375 51.125 25.703125 53.5625 \r\nQ 30.078125 56 35.796875 56 \r\nQ 45.21875 56 50.046875 50.171875 \r\nQ 54.890625 44.34375 54.890625 33.015625 \r\nz\r\n\" id=\"DejaVuSans-110\"/>\r\n      <path d=\"M 18.3125 70.21875 \r\nL 18.3125 54.6875 \r\nL 36.8125 54.6875 \r\nL 36.8125 47.703125 \r\nL 18.3125 47.703125 \r\nL 18.3125 18.015625 \r\nQ 18.3125 11.328125 20.140625 9.421875 \r\nQ 21.96875 7.515625 27.59375 7.515625 \r\nL 36.8125 7.515625 \r\nL 36.8125 0 \r\nL 27.59375 0 \r\nQ 17.1875 0 13.234375 3.875 \r\nQ 9.28125 7.765625 9.28125 18.015625 \r\nL 9.28125 47.703125 \r\nL 2.6875 47.703125 \r\nL 2.6875 54.6875 \r\nL 9.28125 54.6875 \r\nL 9.28125 70.21875 \r\nz\r\n\" id=\"DejaVuSans-116\"/>\r\n      <path d=\"M 34.28125 27.484375 \r\nQ 23.390625 27.484375 19.1875 25 \r\nQ 14.984375 22.515625 14.984375 16.5 \r\nQ 14.984375 11.71875 18.140625 8.90625 \r\nQ 21.296875 6.109375 26.703125 6.109375 \r\nQ 34.1875 6.109375 38.703125 11.40625 \r\nQ 43.21875 16.703125 43.21875 25.484375 \r\nL 43.21875 27.484375 \r\nz\r\nM 52.203125 31.203125 \r\nL 52.203125 0 \r\nL 43.21875 0 \r\nL 43.21875 8.296875 \r\nQ 40.140625 3.328125 35.546875 0.953125 \r\nQ 30.953125 -1.421875 24.3125 -1.421875 \r\nQ 15.921875 -1.421875 10.953125 3.296875 \r\nQ 6 8.015625 6 15.921875 \r\nQ 6 25.140625 12.171875 29.828125 \r\nQ 18.359375 34.515625 30.609375 34.515625 \r\nL 43.21875 34.515625 \r\nL 43.21875 35.40625 \r\nQ 43.21875 41.609375 39.140625 45 \r\nQ 35.0625 48.390625 27.6875 48.390625 \r\nQ 23 48.390625 18.546875 47.265625 \r\nQ 14.109375 46.140625 10.015625 43.890625 \r\nL 10.015625 52.203125 \r\nQ 14.9375 54.109375 19.578125 55.046875 \r\nQ 24.21875 56 28.609375 56 \r\nQ 40.484375 56 46.34375 49.84375 \r\nQ 52.203125 43.703125 52.203125 31.203125 \r\nz\r\n\" id=\"DejaVuSans-97\"/>\r\n      <path d=\"M 9.421875 54.6875 \r\nL 18.40625 54.6875 \r\nL 18.40625 -0.984375 \r\nQ 18.40625 -11.421875 14.421875 -16.109375 \r\nQ 10.453125 -20.796875 1.609375 -20.796875 \r\nL -1.8125 -20.796875 \r\nL -1.8125 -13.1875 \r\nL 0.59375 -13.1875 \r\nQ 5.71875 -13.1875 7.5625 -10.8125 \r\nQ 9.421875 -8.453125 9.421875 -0.984375 \r\nz\r\nM 9.421875 75.984375 \r\nL 18.40625 75.984375 \r\nL 18.40625 64.59375 \r\nL 9.421875 64.59375 \r\nz\r\n\" id=\"DejaVuSans-106\"/>\r\n     </defs>\r\n     <g transform=\"translate(32.040354 142.530156)rotate(-90)scale(0.1 -0.1)\">\r\n      <use xlink:href=\"#DejaVuSans-80\"/>\r\n      <use x=\"60.255859\" xlink:href=\"#DejaVuSans-111\"/>\r\n      <use x=\"121.4375\" xlink:href=\"#DejaVuSans-114\"/>\r\n      <use x=\"162.519531\" xlink:href=\"#DejaVuSans-99\"/>\r\n      <use x=\"217.5\" xlink:href=\"#DejaVuSans-101\"/>\r\n      <use x=\"279.023438\" xlink:href=\"#DejaVuSans-110\"/>\r\n      <use x=\"342.402344\" xlink:href=\"#DejaVuSans-116\"/>\r\n      <use x=\"381.611328\" xlink:href=\"#DejaVuSans-97\"/>\r\n      <use x=\"442.890625\" xlink:href=\"#DejaVuSans-106\"/>\r\n      <use x=\"470.673828\" xlink:href=\"#DejaVuSans-101\"/>\r\n     </g>\r\n    </g>\r\n   </g>\r\n   <g id=\"text_2\">\r\n    <!-- Empatados -->\r\n    <defs>\r\n     <path d=\"M 9.8125 72.90625 \r\nL 55.90625 72.90625 \r\nL 55.90625 64.59375 \r\nL 19.671875 64.59375 \r\nL 19.671875 43.015625 \r\nL 54.390625 43.015625 \r\nL 54.390625 34.71875 \r\nL 19.671875 34.71875 \r\nL 19.671875 8.296875 \r\nL 56.78125 8.296875 \r\nL 56.78125 0 \r\nL 9.8125 0 \r\nz\r\n\" id=\"DejaVuSans-69\"/>\r\n     <path d=\"M 52 44.1875 \r\nQ 55.375 50.25 60.0625 53.125 \r\nQ 64.75 56 71.09375 56 \r\nQ 79.640625 56 84.28125 50.015625 \r\nQ 88.921875 44.046875 88.921875 33.015625 \r\nL 88.921875 0 \r\nL 79.890625 0 \r\nL 79.890625 32.71875 \r\nQ 79.890625 40.578125 77.09375 44.375 \r\nQ 74.3125 48.1875 68.609375 48.1875 \r\nQ 61.625 48.1875 57.5625 43.546875 \r\nQ 53.515625 38.921875 53.515625 30.90625 \r\nL 53.515625 0 \r\nL 44.484375 0 \r\nL 44.484375 32.71875 \r\nQ 44.484375 40.625 41.703125 44.40625 \r\nQ 38.921875 48.1875 33.109375 48.1875 \r\nQ 26.21875 48.1875 22.15625 43.53125 \r\nQ 18.109375 38.875 18.109375 30.90625 \r\nL 18.109375 0 \r\nL 9.078125 0 \r\nL 9.078125 54.6875 \r\nL 18.109375 54.6875 \r\nL 18.109375 46.1875 \r\nQ 21.1875 51.21875 25.484375 53.609375 \r\nQ 29.78125 56 35.6875 56 \r\nQ 41.65625 56 45.828125 52.96875 \r\nQ 50 49.953125 52 44.1875 \r\nz\r\n\" id=\"DejaVuSans-109\"/>\r\n     <path d=\"M 18.109375 8.203125 \r\nL 18.109375 -20.796875 \r\nL 9.078125 -20.796875 \r\nL 9.078125 54.6875 \r\nL 18.109375 54.6875 \r\nL 18.109375 46.390625 \r\nQ 20.953125 51.265625 25.265625 53.625 \r\nQ 29.59375 56 35.59375 56 \r\nQ 45.5625 56 51.78125 48.09375 \r\nQ 58.015625 40.1875 58.015625 27.296875 \r\nQ 58.015625 14.40625 51.78125 6.484375 \r\nQ 45.5625 -1.421875 35.59375 -1.421875 \r\nQ 29.59375 -1.421875 25.265625 0.953125 \r\nQ 20.953125 3.328125 18.109375 8.203125 \r\nz\r\nM 48.6875 27.296875 \r\nQ 48.6875 37.203125 44.609375 42.84375 \r\nQ 40.53125 48.484375 33.40625 48.484375 \r\nQ 26.265625 48.484375 22.1875 42.84375 \r\nQ 18.109375 37.203125 18.109375 27.296875 \r\nQ 18.109375 17.390625 22.1875 11.75 \r\nQ 26.265625 6.109375 33.40625 6.109375 \r\nQ 40.53125 6.109375 44.609375 11.75 \r\nQ 48.6875 17.390625 48.6875 27.296875 \r\nz\r\n\" id=\"DejaVuSans-112\"/>\r\n     <path d=\"M 45.40625 46.390625 \r\nL 45.40625 75.984375 \r\nL 54.390625 75.984375 \r\nL 54.390625 0 \r\nL 45.40625 0 \r\nL 45.40625 8.203125 \r\nQ 42.578125 3.328125 38.25 0.953125 \r\nQ 33.9375 -1.421875 27.875 -1.421875 \r\nQ 17.96875 -1.421875 11.734375 6.484375 \r\nQ 5.515625 14.40625 5.515625 27.296875 \r\nQ 5.515625 40.1875 11.734375 48.09375 \r\nQ 17.96875 56 27.875 56 \r\nQ 33.9375 56 38.25 53.625 \r\nQ 42.578125 51.265625 45.40625 46.390625 \r\nz\r\nM 14.796875 27.296875 \r\nQ 14.796875 17.390625 18.875 11.75 \r\nQ 22.953125 6.109375 30.078125 6.109375 \r\nQ 37.203125 6.109375 41.296875 11.75 \r\nQ 45.40625 17.390625 45.40625 27.296875 \r\nQ 45.40625 37.203125 41.296875 42.84375 \r\nQ 37.203125 48.484375 30.078125 48.484375 \r\nQ 22.953125 48.484375 18.875 42.84375 \r\nQ 14.796875 37.203125 14.796875 27.296875 \r\nz\r\n\" id=\"DejaVuSans-100\"/>\r\n     <path d=\"M 44.28125 53.078125 \r\nL 44.28125 44.578125 \r\nQ 40.484375 46.53125 36.375 47.5 \r\nQ 32.28125 48.484375 27.875 48.484375 \r\nQ 21.1875 48.484375 17.84375 46.4375 \r\nQ 14.5 44.390625 14.5 40.28125 \r\nQ 14.5 37.15625 16.890625 35.375 \r\nQ 19.28125 33.59375 26.515625 31.984375 \r\nL 29.59375 31.296875 \r\nQ 39.15625 29.25 43.1875 25.515625 \r\nQ 47.21875 21.78125 47.21875 15.09375 \r\nQ 47.21875 7.46875 41.1875 3.015625 \r\nQ 35.15625 -1.421875 24.609375 -1.421875 \r\nQ 20.21875 -1.421875 15.453125 -0.5625 \r\nQ 10.6875 0.296875 5.421875 2 \r\nL 5.421875 11.28125 \r\nQ 10.40625 8.6875 15.234375 7.390625 \r\nQ 20.0625 6.109375 24.8125 6.109375 \r\nQ 31.15625 6.109375 34.5625 8.28125 \r\nQ 37.984375 10.453125 37.984375 14.40625 \r\nQ 37.984375 18.0625 35.515625 20.015625 \r\nQ 33.0625 21.96875 24.703125 23.78125 \r\nL 21.578125 24.515625 \r\nQ 13.234375 26.265625 9.515625 29.90625 \r\nQ 5.8125 33.546875 5.8125 39.890625 \r\nQ 5.8125 47.609375 11.28125 51.796875 \r\nQ 16.75 56 26.8125 56 \r\nQ 31.78125 56 36.171875 55.265625 \r\nQ 40.578125 54.546875 44.28125 53.078125 \r\nz\r\n\" id=\"DejaVuSans-115\"/>\r\n    </defs>\r\n    <g transform=\"translate(208.673819 45.672377)scale(0.1 -0.1)\">\r\n     <use xlink:href=\"#DejaVuSans-69\"/>\r\n     <use x=\"63.183594\" xlink:href=\"#DejaVuSans-109\"/>\r\n     <use x=\"160.595703\" xlink:href=\"#DejaVuSans-112\"/>\r\n     <use x=\"224.072266\" xlink:href=\"#DejaVuSans-97\"/>\r\n     <use x=\"285.351562\" xlink:href=\"#DejaVuSans-116\"/>\r\n     <use x=\"324.560547\" xlink:href=\"#DejaVuSans-97\"/>\r\n     <use x=\"385.839844\" xlink:href=\"#DejaVuSans-100\"/>\r\n     <use x=\"449.316406\" xlink:href=\"#DejaVuSans-111\"/>\r\n     <use x=\"510.498047\" xlink:href=\"#DejaVuSans-115\"/>\r\n    </g>\r\n   </g>\r\n   <g id=\"text_3\">\r\n    <!-- Ganados -->\r\n    <defs>\r\n     <path d=\"M 59.515625 10.40625 \r\nL 59.515625 29.984375 \r\nL 43.40625 29.984375 \r\nL 43.40625 38.09375 \r\nL 69.28125 38.09375 \r\nL 69.28125 6.78125 \r\nQ 63.578125 2.734375 56.6875 0.65625 \r\nQ 49.8125 -1.421875 42 -1.421875 \r\nQ 24.90625 -1.421875 15.25 8.5625 \r\nQ 5.609375 18.5625 5.609375 36.375 \r\nQ 5.609375 54.25 15.25 64.234375 \r\nQ 24.90625 74.21875 42 74.21875 \r\nQ 49.125 74.21875 55.546875 72.453125 \r\nQ 61.96875 70.703125 67.390625 67.28125 \r\nL 67.390625 56.78125 \r\nQ 61.921875 61.421875 55.765625 63.765625 \r\nQ 49.609375 66.109375 42.828125 66.109375 \r\nQ 29.4375 66.109375 22.71875 58.640625 \r\nQ 16.015625 51.171875 16.015625 36.375 \r\nQ 16.015625 21.625 22.71875 14.15625 \r\nQ 29.4375 6.6875 42.828125 6.6875 \r\nQ 48.046875 6.6875 52.140625 7.59375 \r\nQ 56.25 8.5 59.515625 10.40625 \r\nz\r\n\" id=\"DejaVuSans-71\"/>\r\n    </defs>\r\n    <g transform=\"translate(7.2 121.842662)scale(0.1 -0.1)\">\r\n     <use xlink:href=\"#DejaVuSans-71\"/>\r\n     <use x=\"77.490234\" xlink:href=\"#DejaVuSans-97\"/>\r\n     <use x=\"138.769531\" xlink:href=\"#DejaVuSans-110\"/>\r\n     <use x=\"202.148438\" xlink:href=\"#DejaVuSans-97\"/>\r\n     <use x=\"263.427734\" xlink:href=\"#DejaVuSans-100\"/>\r\n     <use x=\"326.904297\" xlink:href=\"#DejaVuSans-111\"/>\r\n     <use x=\"388.085938\" xlink:href=\"#DejaVuSans-115\"/>\r\n    </g>\r\n   </g>\r\n   <g id=\"text_4\">\r\n    <!-- Perdidos -->\r\n    <defs>\r\n     <path d=\"M 9.421875 54.6875 \r\nL 18.40625 54.6875 \r\nL 18.40625 0 \r\nL 9.421875 0 \r\nz\r\nM 9.421875 75.984375 \r\nL 18.40625 75.984375 \r\nL 18.40625 64.59375 \r\nL 9.421875 64.59375 \r\nz\r\n\" id=\"DejaVuSans-105\"/>\r\n    </defs>\r\n    <g transform=\"translate(211.053865 189.602027)scale(0.1 -0.1)\">\r\n     <use xlink:href=\"#DejaVuSans-80\"/>\r\n     <use x=\"60.255859\" xlink:href=\"#DejaVuSans-101\"/>\r\n     <use x=\"121.779297\" xlink:href=\"#DejaVuSans-114\"/>\r\n     <use x=\"162.876953\" xlink:href=\"#DejaVuSans-100\"/>\r\n     <use x=\"226.353516\" xlink:href=\"#DejaVuSans-105\"/>\r\n     <use x=\"254.136719\" xlink:href=\"#DejaVuSans-100\"/>\r\n     <use x=\"317.613281\" xlink:href=\"#DejaVuSans-111\"/>\r\n     <use x=\"378.794922\" xlink:href=\"#DejaVuSans-115\"/>\r\n    </g>\r\n   </g>\r\n   <g id=\"legend_1\">\r\n    <g id=\"patch_5\">\r\n     <path d=\"M 160.299104 59.234375 \r\nL 248.560041 59.234375 \r\nQ 250.560041 59.234375 250.560041 57.234375 \r\nL 250.560041 14.2 \r\nQ 250.560041 12.2 248.560041 12.2 \r\nL 160.299104 12.2 \r\nQ 158.299104 12.2 158.299104 14.2 \r\nL 158.299104 57.234375 \r\nQ 158.299104 59.234375 160.299104 59.234375 \r\nz\r\n\" style=\"fill:#ffffff;opacity:0.8;stroke:#cccccc;stroke-linejoin:miter;\"/>\r\n    </g>\r\n    <g id=\"patch_6\">\r\n     <path d=\"M 162.299104 23.798438 \r\nL 182.299104 23.798438 \r\nL 182.299104 16.798438 \r\nL 162.299104 16.798438 \r\nz\r\n\" style=\"fill:#1f77b4;\"/>\r\n    </g>\r\n    <g id=\"text_5\">\r\n     <!-- Empatados -->\r\n     <g transform=\"translate(190.299104 23.798438)scale(0.1 -0.1)\">\r\n      <use xlink:href=\"#DejaVuSans-69\"/>\r\n      <use x=\"63.183594\" xlink:href=\"#DejaVuSans-109\"/>\r\n      <use x=\"160.595703\" xlink:href=\"#DejaVuSans-112\"/>\r\n      <use x=\"224.072266\" xlink:href=\"#DejaVuSans-97\"/>\r\n      <use x=\"285.351562\" xlink:href=\"#DejaVuSans-116\"/>\r\n      <use x=\"324.560547\" xlink:href=\"#DejaVuSans-97\"/>\r\n      <use x=\"385.839844\" xlink:href=\"#DejaVuSans-100\"/>\r\n      <use x=\"449.316406\" xlink:href=\"#DejaVuSans-111\"/>\r\n      <use x=\"510.498047\" xlink:href=\"#DejaVuSans-115\"/>\r\n     </g>\r\n    </g>\r\n    <g id=\"patch_7\">\r\n     <path d=\"M 162.299104 38.476562 \r\nL 182.299104 38.476562 \r\nL 182.299104 31.476562 \r\nL 162.299104 31.476562 \r\nz\r\n\" style=\"fill:#ff7f0e;\"/>\r\n    </g>\r\n    <g id=\"text_6\">\r\n     <!-- Ganados -->\r\n     <g transform=\"translate(190.299104 38.476562)scale(0.1 -0.1)\">\r\n      <use xlink:href=\"#DejaVuSans-71\"/>\r\n      <use x=\"77.490234\" xlink:href=\"#DejaVuSans-97\"/>\r\n      <use x=\"138.769531\" xlink:href=\"#DejaVuSans-110\"/>\r\n      <use x=\"202.148438\" xlink:href=\"#DejaVuSans-97\"/>\r\n      <use x=\"263.427734\" xlink:href=\"#DejaVuSans-100\"/>\r\n      <use x=\"326.904297\" xlink:href=\"#DejaVuSans-111\"/>\r\n      <use x=\"388.085938\" xlink:href=\"#DejaVuSans-115\"/>\r\n     </g>\r\n    </g>\r\n    <g id=\"patch_8\">\r\n     <path d=\"M 162.299104 53.154688 \r\nL 182.299104 53.154688 \r\nL 182.299104 46.154688 \r\nL 162.299104 46.154688 \r\nz\r\n\" style=\"fill:#2ca02c;\"/>\r\n    </g>\r\n    <g id=\"text_7\">\r\n     <!-- Perdidos -->\r\n     <g transform=\"translate(190.299104 53.154688)scale(0.1 -0.1)\">\r\n      <use xlink:href=\"#DejaVuSans-80\"/>\r\n      <use x=\"60.255859\" xlink:href=\"#DejaVuSans-101\"/>\r\n      <use x=\"121.779297\" xlink:href=\"#DejaVuSans-114\"/>\r\n      <use x=\"162.876953\" xlink:href=\"#DejaVuSans-100\"/>\r\n      <use x=\"226.353516\" xlink:href=\"#DejaVuSans-105\"/>\r\n      <use x=\"254.136719\" xlink:href=\"#DejaVuSans-100\"/>\r\n      <use x=\"317.613281\" xlink:href=\"#DejaVuSans-111\"/>\r\n      <use x=\"378.794922\" xlink:href=\"#DejaVuSans-115\"/>\r\n     </g>\r\n    </g>\r\n   </g>\r\n  </g>\r\n </g>\r\n</svg>\r\n",
      "image/png": "[encoded data removed]"
     },
     "metadata": {}
    }
   ],
   "source": [
    "df_ganados.groupby(\"Partidos\").sum().plot(kind=\"pie\",y = \"Porcentaje\")"
   ]
  },
  {
   "cell_type": "markdown",
   "metadata": {},
   "source": [
    "### Cantidad de Goles por Partido de local, visitante de todos los equipos y por partido"
   ]
  },
  {
   "cell_type": "code",
   "execution_count": 43,
   "metadata": {},
   "outputs": [
    {
     "output_type": "stream",
     "name": "stdout",
     "text": [
      "Goles marcados por el equipo local: 546 (1.44 por partido)\nGoles marcados por el equipo visitante: 396 (1.04 por partido)\n"
     ]
    }
   ],
   "source": [
    "goles_h = df[\"FTHG\"].sum()\n",
    "goles_a = df[\"FTAG\"].sum()\n",
    "goles_partido_h = goles_h/total_partidos\n",
    "goles_partido_a = goles_a/total_partidos\n",
    "print(f'Goles marcados por el equipo local: {goles_h} ({goles_partido_h:.2f} por partido)')\n",
    "print(f'Goles marcados por el equipo visitante: {goles_a} ({goles_partido_a:.2f} por partido)')"
   ]
  },
  {
   "cell_type": "markdown",
   "metadata": {},
   "source": [
    "### Crea un dataframe con una columna partidos que diga: Local y Visitante y otra columna con la cantidad de goles marcandos"
   ]
  },
  {
   "cell_type": "code",
   "execution_count": 44,
   "metadata": {},
   "outputs": [
    {
     "output_type": "execute_result",
     "data": {
      "text/plain": [
       "        Tipo  Goles\n",
       "0      Local    546\n",
       "1  Visitante    396"
      ],
      "text/html": "<div>\n<style scoped>\n    .dataframe tbody tr th:only-of-type {\n        vertical-align: middle;\n    }\n\n    .dataframe tbody tr th {\n        vertical-align: top;\n    }\n\n    .dataframe thead th {\n        text-align: right;\n    }\n</style>\n<table border=\"1\" class=\"dataframe\">\n  <thead>\n    <tr style=\"text-align: right;\">\n      <th></th>\n      <th>Tipo</th>\n      <th>Goles</th>\n    </tr>\n  </thead>\n  <tbody>\n    <tr>\n      <td>0</td>\n      <td>Local</td>\n      <td>546</td>\n    </tr>\n    <tr>\n      <td>1</td>\n      <td>Visitante</td>\n      <td>396</td>\n    </tr>\n  </tbody>\n</table>\n</div>"
     },
     "metadata": {},
     "execution_count": 44
    }
   ],
   "source": [
    "df_goles = pd.DataFrame({\"Tipo\":[\"Local\",\"Visitante\"],\"Goles\":[goles_h,goles_a]})\n",
    "df_goles"
   ]
  },
  {
   "cell_type": "markdown",
   "metadata": {},
   "source": [
    "### Crear una pie chart con pandas del anterior dataframe "
   ]
  },
  {
   "cell_type": "code",
   "execution_count": 45,
   "metadata": {},
   "outputs": [
    {
     "output_type": "execute_result",
     "data": {
      "text/plain": [
       "<matplotlib.axes._subplots.AxesSubplot at 0x25f20718688>"
      ]
     },
     "metadata": {},
     "execution_count": 45
    },
    {
     "output_type": "display_data",
     "data": {
      "text/plain": "<Figure size 432x288 with 1 Axes>",
      "image/svg+xml": "<?xml version=\"1.0\" encoding=\"utf-8\" standalone=\"no\"?>\r\n<!DOCTYPE svg PUBLIC \"-//W3C//DTD SVG 1.1//EN\"\r\n  \"http://www.w3.org/Graphics/SVG/1.1/DTD/svg11.dtd\">\r\n<!-- Created with matplotlib (https://matplotlib.org/) -->\r\n<svg height=\"231.84pt\" version=\"1.1\" viewBox=\"0 0 245.518125 231.84\" width=\"245.518125pt\" xmlns=\"http://www.w3.org/2000/svg\" xmlns:xlink=\"http://www.w3.org/1999/xlink\">\r\n <defs>\r\n  <style type=\"text/css\">\r\n*{stroke-linecap:butt;stroke-linejoin:round;}\r\n  </style>\r\n </defs>\r\n <g id=\"figure_1\">\r\n  <g id=\"patch_1\">\r\n   <path d=\"M 0 231.84 \r\nL 245.518125 231.84 \r\nL 245.518125 0 \r\nL 0 0 \r\nz\r\n\" style=\"fill:none;\"/>\r\n  </g>\r\n  <g id=\"axes_1\">\r\n   <g id=\"patch_2\">\r\n    <path d=\"M 216.574125 115.92 \r\nC 216.574125 102.665233 213.544171 89.584191 207.716452 77.679295 \r\nC 201.888734 65.774399 193.416015 55.357715 182.947572 47.227489 \r\nC 172.47913 39.097263 160.289377 33.466616 147.312432 30.767032 \r\nC 134.335487 28.067448 120.911519 28.369693 108.069226 31.650604 \r\nC 95.226934 34.931515 83.302956 41.10509 73.211045 49.698238 \r\nC 63.119134 58.291386 55.123832 69.078852 49.837832 81.233976 \r\nC 44.551832 93.389101 42.113696 106.593258 42.710263 119.834594 \r\nC 43.30683 133.075929 46.922462 146.007343 53.280088 157.637883 \r\nL 129.598125 115.92 \r\nL 216.574125 115.92 \r\nz\r\n\" style=\"fill:#1f77b4;\"/>\r\n   </g>\r\n   <g id=\"patch_3\">\r\n    <path d=\"M 53.280088 157.637883 \r\nC 62.545254 174.587431 77.198062 187.976842 94.912105 195.680295 \r\nC 112.626148 203.383747 132.411559 204.97077 151.127032 200.189394 \r\nC 169.842505 195.408018 186.442214 184.525427 198.290643 169.269438 \r\nC 210.139073 154.013448 216.574129 135.23657 216.574125 115.919984 \r\nL 129.598125 115.92 \r\nL 53.280088 157.637883 \r\nz\r\n\" style=\"fill:#ff7f0e;\"/>\r\n   </g>\r\n   <g id=\"matplotlib.axis_1\"/>\r\n   <g id=\"matplotlib.axis_2\">\r\n    <g id=\"text_1\">\r\n     <!-- Goles -->\r\n     <defs>\r\n      <path d=\"M 59.515625 10.40625 \r\nL 59.515625 29.984375 \r\nL 43.40625 29.984375 \r\nL 43.40625 38.09375 \r\nL 69.28125 38.09375 \r\nL 69.28125 6.78125 \r\nQ 63.578125 2.734375 56.6875 0.65625 \r\nQ 49.8125 -1.421875 42 -1.421875 \r\nQ 24.90625 -1.421875 15.25 8.5625 \r\nQ 5.609375 18.5625 5.609375 36.375 \r\nQ 5.609375 54.25 15.25 64.234375 \r\nQ 24.90625 74.21875 42 74.21875 \r\nQ 49.125 74.21875 55.546875 72.453125 \r\nQ 61.96875 70.703125 67.390625 67.28125 \r\nL 67.390625 56.78125 \r\nQ 61.921875 61.421875 55.765625 63.765625 \r\nQ 49.609375 66.109375 42.828125 66.109375 \r\nQ 29.4375 66.109375 22.71875 58.640625 \r\nQ 16.015625 51.171875 16.015625 36.375 \r\nQ 16.015625 21.625 22.71875 14.15625 \r\nQ 29.4375 6.6875 42.828125 6.6875 \r\nQ 48.046875 6.6875 52.140625 7.59375 \r\nQ 56.25 8.5 59.515625 10.40625 \r\nz\r\n\" id=\"DejaVuSans-71\"/>\r\n      <path d=\"M 30.609375 48.390625 \r\nQ 23.390625 48.390625 19.1875 42.75 \r\nQ 14.984375 37.109375 14.984375 27.296875 \r\nQ 14.984375 17.484375 19.15625 11.84375 \r\nQ 23.34375 6.203125 30.609375 6.203125 \r\nQ 37.796875 6.203125 41.984375 11.859375 \r\nQ 46.1875 17.53125 46.1875 27.296875 \r\nQ 46.1875 37.015625 41.984375 42.703125 \r\nQ 37.796875 48.390625 30.609375 48.390625 \r\nz\r\nM 30.609375 56 \r\nQ 42.328125 56 49.015625 48.375 \r\nQ 55.71875 40.765625 55.71875 27.296875 \r\nQ 55.71875 13.875 49.015625 6.21875 \r\nQ 42.328125 -1.421875 30.609375 -1.421875 \r\nQ 18.84375 -1.421875 12.171875 6.21875 \r\nQ 5.515625 13.875 5.515625 27.296875 \r\nQ 5.515625 40.765625 12.171875 48.375 \r\nQ 18.84375 56 30.609375 56 \r\nz\r\n\" id=\"DejaVuSans-111\"/>\r\n      <path d=\"M 9.421875 75.984375 \r\nL 18.40625 75.984375 \r\nL 18.40625 0 \r\nL 9.421875 0 \r\nz\r\n\" id=\"DejaVuSans-108\"/>\r\n      <path d=\"M 56.203125 29.59375 \r\nL 56.203125 25.203125 \r\nL 14.890625 25.203125 \r\nQ 15.484375 15.921875 20.484375 11.0625 \r\nQ 25.484375 6.203125 34.421875 6.203125 \r\nQ 39.59375 6.203125 44.453125 7.46875 \r\nQ 49.3125 8.734375 54.109375 11.28125 \r\nL 54.109375 2.78125 \r\nQ 49.265625 0.734375 44.1875 -0.34375 \r\nQ 39.109375 -1.421875 33.890625 -1.421875 \r\nQ 20.796875 -1.421875 13.15625 6.1875 \r\nQ 5.515625 13.8125 5.515625 26.8125 \r\nQ 5.515625 40.234375 12.765625 48.109375 \r\nQ 20.015625 56 32.328125 56 \r\nQ 43.359375 56 49.78125 48.890625 \r\nQ 56.203125 41.796875 56.203125 29.59375 \r\nz\r\nM 47.21875 32.234375 \r\nQ 47.125 39.59375 43.09375 43.984375 \r\nQ 39.0625 48.390625 32.421875 48.390625 \r\nQ 24.90625 48.390625 20.390625 44.140625 \r\nQ 15.875 39.890625 15.1875 32.171875 \r\nz\r\n\" id=\"DejaVuSans-101\"/>\r\n      <path d=\"M 44.28125 53.078125 \r\nL 44.28125 44.578125 \r\nQ 40.484375 46.53125 36.375 47.5 \r\nQ 32.28125 48.484375 27.875 48.484375 \r\nQ 21.1875 48.484375 17.84375 46.4375 \r\nQ 14.5 44.390625 14.5 40.28125 \r\nQ 14.5 37.15625 16.890625 35.375 \r\nQ 19.28125 33.59375 26.515625 31.984375 \r\nL 29.59375 31.296875 \r\nQ 39.15625 29.25 43.1875 25.515625 \r\nQ 47.21875 21.78125 47.21875 15.09375 \r\nQ 47.21875 7.46875 41.1875 3.015625 \r\nQ 35.15625 -1.421875 24.609375 -1.421875 \r\nQ 20.21875 -1.421875 15.453125 -0.5625 \r\nQ 10.6875 0.296875 5.421875 2 \r\nL 5.421875 11.28125 \r\nQ 10.40625 8.6875 15.234375 7.390625 \r\nQ 20.0625 6.109375 24.8125 6.109375 \r\nQ 31.15625 6.109375 34.5625 8.28125 \r\nQ 37.984375 10.453125 37.984375 14.40625 \r\nQ 37.984375 18.0625 35.515625 20.015625 \r\nQ 33.0625 21.96875 24.703125 23.78125 \r\nL 21.578125 24.515625 \r\nQ 13.234375 26.265625 9.515625 29.90625 \r\nQ 5.8125 33.546875 5.8125 39.890625 \r\nQ 5.8125 47.609375 11.28125 51.796875 \r\nQ 16.75 56 26.8125 56 \r\nQ 31.78125 56 36.171875 55.265625 \r\nQ 40.578125 54.546875 44.28125 53.078125 \r\nz\r\n\" id=\"DejaVuSans-115\"/>\r\n     </defs>\r\n     <g transform=\"translate(14.798437 129.923906)rotate(-90)scale(0.1 -0.1)\">\r\n      <use xlink:href=\"#DejaVuSans-71\"/>\r\n      <use x=\"77.490234\" xlink:href=\"#DejaVuSans-111\"/>\r\n      <use x=\"138.671875\" xlink:href=\"#DejaVuSans-108\"/>\r\n      <use x=\"166.455078\" xlink:href=\"#DejaVuSans-101\"/>\r\n      <use x=\"227.978516\" xlink:href=\"#DejaVuSans-115\"/>\r\n     </g>\r\n    </g>\r\n   </g>\r\n   <g id=\"text_2\">\r\n    <!-- Local -->\r\n    <defs>\r\n     <path d=\"M 9.8125 72.90625 \r\nL 19.671875 72.90625 \r\nL 19.671875 8.296875 \r\nL 55.171875 8.296875 \r\nL 55.171875 0 \r\nL 9.8125 0 \r\nz\r\n\" id=\"DejaVuSans-76\"/>\r\n     <path d=\"M 48.78125 52.59375 \r\nL 48.78125 44.1875 \r\nQ 44.96875 46.296875 41.140625 47.34375 \r\nQ 37.3125 48.390625 33.40625 48.390625 \r\nQ 24.65625 48.390625 19.8125 42.84375 \r\nQ 14.984375 37.3125 14.984375 27.296875 \r\nQ 14.984375 17.28125 19.8125 11.734375 \r\nQ 24.65625 6.203125 33.40625 6.203125 \r\nQ 37.3125 6.203125 41.140625 7.25 \r\nQ 44.96875 8.296875 48.78125 10.40625 \r\nL 48.78125 2.09375 \r\nQ 45.015625 0.34375 40.984375 -0.53125 \r\nQ 36.96875 -1.421875 32.421875 -1.421875 \r\nQ 20.0625 -1.421875 12.78125 6.34375 \r\nQ 5.515625 14.109375 5.515625 27.296875 \r\nQ 5.515625 40.671875 12.859375 48.328125 \r\nQ 20.21875 56 33.015625 56 \r\nQ 37.15625 56 41.109375 55.140625 \r\nQ 45.0625 54.296875 48.78125 52.59375 \r\nz\r\n\" id=\"DejaVuSans-99\"/>\r\n     <path d=\"M 34.28125 27.484375 \r\nQ 23.390625 27.484375 19.1875 25 \r\nQ 14.984375 22.515625 14.984375 16.5 \r\nQ 14.984375 11.71875 18.140625 8.90625 \r\nQ 21.296875 6.109375 26.703125 6.109375 \r\nQ 34.1875 6.109375 38.703125 11.40625 \r\nQ 43.21875 16.703125 43.21875 25.484375 \r\nL 43.21875 27.484375 \r\nz\r\nM 52.203125 31.203125 \r\nL 52.203125 0 \r\nL 43.21875 0 \r\nL 43.21875 8.296875 \r\nQ 40.140625 3.328125 35.546875 0.953125 \r\nQ 30.953125 -1.421875 24.3125 -1.421875 \r\nQ 15.921875 -1.421875 10.953125 3.296875 \r\nQ 6 8.015625 6 15.921875 \r\nQ 6 25.140625 12.171875 29.828125 \r\nQ 18.359375 34.515625 30.609375 34.515625 \r\nL 43.21875 34.515625 \r\nL 43.21875 35.40625 \r\nQ 43.21875 41.609375 39.140625 45 \r\nQ 35.0625 48.390625 27.6875 48.390625 \r\nQ 23 48.390625 18.546875 47.265625 \r\nQ 14.109375 46.140625 10.015625 43.890625 \r\nL 10.015625 52.203125 \r\nQ 14.9375 54.109375 19.578125 55.046875 \r\nQ 24.21875 56 28.609375 56 \r\nQ 40.484375 56 46.34375 49.84375 \r\nQ 52.203125 43.703125 52.203125 31.203125 \r\nz\r\n\" id=\"DejaVuSans-97\"/>\r\n    </defs>\r\n    <g transform=\"translate(79.822586 25.983039)scale(0.1 -0.1)\">\r\n     <use xlink:href=\"#DejaVuSans-76\"/>\r\n     <use x=\"55.697266\" xlink:href=\"#DejaVuSans-111\"/>\r\n     <use x=\"116.878906\" xlink:href=\"#DejaVuSans-99\"/>\r\n     <use x=\"171.859375\" xlink:href=\"#DejaVuSans-97\"/>\r\n     <use x=\"233.138672\" xlink:href=\"#DejaVuSans-108\"/>\r\n    </g>\r\n   </g>\r\n   <g id=\"text_3\">\r\n    <!-- Visitante -->\r\n    <defs>\r\n     <path d=\"M 28.609375 0 \r\nL 0.78125 72.90625 \r\nL 11.078125 72.90625 \r\nL 34.1875 11.53125 \r\nL 57.328125 72.90625 \r\nL 67.578125 72.90625 \r\nL 39.796875 0 \r\nz\r\n\" id=\"DejaVuSans-86\"/>\r\n     <path d=\"M 9.421875 54.6875 \r\nL 18.40625 54.6875 \r\nL 18.40625 0 \r\nL 9.421875 0 \r\nz\r\nM 9.421875 75.984375 \r\nL 18.40625 75.984375 \r\nL 18.40625 64.59375 \r\nL 9.421875 64.59375 \r\nz\r\n\" id=\"DejaVuSans-105\"/>\r\n     <path d=\"M 18.3125 70.21875 \r\nL 18.3125 54.6875 \r\nL 36.8125 54.6875 \r\nL 36.8125 47.703125 \r\nL 18.3125 47.703125 \r\nL 18.3125 18.015625 \r\nQ 18.3125 11.328125 20.140625 9.421875 \r\nQ 21.96875 7.515625 27.59375 7.515625 \r\nL 36.8125 7.515625 \r\nL 36.8125 0 \r\nL 27.59375 0 \r\nQ 17.1875 0 13.234375 3.875 \r\nQ 9.28125 7.765625 9.28125 18.015625 \r\nL 9.28125 47.703125 \r\nL 2.6875 47.703125 \r\nL 2.6875 54.6875 \r\nL 9.28125 54.6875 \r\nL 9.28125 70.21875 \r\nz\r\n\" id=\"DejaVuSans-116\"/>\r\n     <path d=\"M 54.890625 33.015625 \r\nL 54.890625 0 \r\nL 45.90625 0 \r\nL 45.90625 32.71875 \r\nQ 45.90625 40.484375 42.875 44.328125 \r\nQ 39.84375 48.1875 33.796875 48.1875 \r\nQ 26.515625 48.1875 22.3125 43.546875 \r\nQ 18.109375 38.921875 18.109375 30.90625 \r\nL 18.109375 0 \r\nL 9.078125 0 \r\nL 9.078125 54.6875 \r\nL 18.109375 54.6875 \r\nL 18.109375 46.1875 \r\nQ 21.34375 51.125 25.703125 53.5625 \r\nQ 30.078125 56 35.796875 56 \r\nQ 45.21875 56 50.046875 50.171875 \r\nQ 54.890625 44.34375 54.890625 33.015625 \r\nz\r\n\" id=\"DejaVuSans-110\"/>\r\n    </defs>\r\n    <g transform=\"translate(153.279922 211.375708)scale(0.1 -0.1)\">\r\n     <use xlink:href=\"#DejaVuSans-86\"/>\r\n     <use x=\"68.376953\" xlink:href=\"#DejaVuSans-105\"/>\r\n     <use x=\"96.160156\" xlink:href=\"#DejaVuSans-115\"/>\r\n     <use x=\"148.259766\" xlink:href=\"#DejaVuSans-105\"/>\r\n     <use x=\"176.042969\" xlink:href=\"#DejaVuSans-116\"/>\r\n     <use x=\"215.251953\" xlink:href=\"#DejaVuSans-97\"/>\r\n     <use x=\"276.53125\" xlink:href=\"#DejaVuSans-110\"/>\r\n     <use x=\"339.910156\" xlink:href=\"#DejaVuSans-116\"/>\r\n     <use x=\"379.119141\" xlink:href=\"#DejaVuSans-101\"/>\r\n    </g>\r\n   </g>\r\n   <g id=\"legend_1\">\r\n    <g id=\"patch_4\">\r\n     <path d=\"M 155.255625 44.55625 \r\nL 231.318125 44.55625 \r\nQ 233.318125 44.55625 233.318125 42.55625 \r\nL 233.318125 14.2 \r\nQ 233.318125 12.2 231.318125 12.2 \r\nL 155.255625 12.2 \r\nQ 153.255625 12.2 153.255625 14.2 \r\nL 153.255625 42.55625 \r\nQ 153.255625 44.55625 155.255625 44.55625 \r\nz\r\n\" style=\"fill:#ffffff;opacity:0.8;stroke:#cccccc;stroke-linejoin:miter;\"/>\r\n    </g>\r\n    <g id=\"patch_5\">\r\n     <path d=\"M 157.255625 23.798437 \r\nL 177.255625 23.798437 \r\nL 177.255625 16.798437 \r\nL 157.255625 16.798437 \r\nz\r\n\" style=\"fill:#1f77b4;\"/>\r\n    </g>\r\n    <g id=\"text_4\">\r\n     <!-- Local -->\r\n     <g transform=\"translate(185.255625 23.798437)scale(0.1 -0.1)\">\r\n      <use xlink:href=\"#DejaVuSans-76\"/>\r\n      <use x=\"55.697266\" xlink:href=\"#DejaVuSans-111\"/>\r\n      <use x=\"116.878906\" xlink:href=\"#DejaVuSans-99\"/>\r\n      <use x=\"171.859375\" xlink:href=\"#DejaVuSans-97\"/>\r\n      <use x=\"233.138672\" xlink:href=\"#DejaVuSans-108\"/>\r\n     </g>\r\n    </g>\r\n    <g id=\"patch_6\">\r\n     <path d=\"M 157.255625 38.476562 \r\nL 177.255625 38.476562 \r\nL 177.255625 31.476562 \r\nL 157.255625 31.476562 \r\nz\r\n\" style=\"fill:#ff7f0e;\"/>\r\n    </g>\r\n    <g id=\"text_5\">\r\n     <!-- Visitante -->\r\n     <g transform=\"translate(185.255625 38.476562)scale(0.1 -0.1)\">\r\n      <use xlink:href=\"#DejaVuSans-86\"/>\r\n      <use x=\"68.376953\" xlink:href=\"#DejaVuSans-105\"/>\r\n      <use x=\"96.160156\" xlink:href=\"#DejaVuSans-115\"/>\r\n      <use x=\"148.259766\" xlink:href=\"#DejaVuSans-105\"/>\r\n      <use x=\"176.042969\" xlink:href=\"#DejaVuSans-116\"/>\r\n      <use x=\"215.251953\" xlink:href=\"#DejaVuSans-97\"/>\r\n      <use x=\"276.53125\" xlink:href=\"#DejaVuSans-110\"/>\r\n      <use x=\"339.910156\" xlink:href=\"#DejaVuSans-116\"/>\r\n      <use x=\"379.119141\" xlink:href=\"#DejaVuSans-101\"/>\r\n     </g>\r\n    </g>\r\n   </g>\r\n  </g>\r\n </g>\r\n</svg>\r\n",
      "image/png": "[encoded data removed]"
     },
     "metadata": {}
    }
   ],
   "source": [
    "df_goles.groupby(\"Tipo\").sum().plot(kind=\"pie\",y = \"Goles\")"
   ]
  },
  {
   "cell_type": "markdown",
   "metadata": {},
   "source": [
    "### Remates equipo local y visitante y remates a puerta equipo local y visitante"
   ]
  },
  {
   "cell_type": "code",
   "execution_count": 46,
   "metadata": {},
   "outputs": [
    {
     "output_type": "stream",
     "name": "stdout",
     "text": [
      "Remates equipo local: 4736 (12.46 por partido)\nRemates equipo vistante: 3852 (10.14 por partido)\nRemates a puerta equipo local: 1648 (4.34 por partido)\nRemates a puerta equipo vistante: 1334 (3.51 por partido)\n"
     ]
    }
   ],
   "source": [
    "remate_h = df[\"HS\"].sum()\n",
    "remate_a=df[\"AS\"].sum()\n",
    "remate_partido_h = remate_h/total_partidos\n",
    "remate_partido_a = remate_a/total_partidos\n",
    "remate_puerta_h=df[\"HST\"].sum()\n",
    "remate_puerta_partido_h = remate_puerta_h/total_partidos\n",
    "remate_puerta_a=df[\"AST\"].sum()\n",
    "remate_puerta_partido_a = remate_puerta_a/total_partidos\n",
    "print(f'Remates equipo local: {remate_h} ({remate_partido_h:.2f} por partido)')\n",
    "print(f'Remates equipo vistante: {remate_a} ({remate_partido_a:.2f} por partido)')\n",
    "print(f'Remates a puerta equipo local: {remate_puerta_h} ({remate_puerta_partido_h:.2f} por partido)')\n",
    "print(f'Remates a puerta equipo vistante: {remate_puerta_a} ({remate_puerta_partido_a:.2f} por partido)')"
   ]
  },
  {
   "cell_type": "code",
   "execution_count": 49,
   "metadata": {},
   "outputs": [
    {
     "output_type": "execute_result",
     "data": {
      "text/plain": [
       "        Tipo  Remates\n",
       "0      Local     4736\n",
       "1  Visitante     3852"
      ],
      "text/html": "<div>\n<style scoped>\n    .dataframe tbody tr th:only-of-type {\n        vertical-align: middle;\n    }\n\n    .dataframe tbody tr th {\n        vertical-align: top;\n    }\n\n    .dataframe thead th {\n        text-align: right;\n    }\n</style>\n<table border=\"1\" class=\"dataframe\">\n  <thead>\n    <tr style=\"text-align: right;\">\n      <th></th>\n      <th>Tipo</th>\n      <th>Remates</th>\n    </tr>\n  </thead>\n  <tbody>\n    <tr>\n      <td>0</td>\n      <td>Local</td>\n      <td>4736</td>\n    </tr>\n    <tr>\n      <td>1</td>\n      <td>Visitante</td>\n      <td>3852</td>\n    </tr>\n  </tbody>\n</table>\n</div>"
     },
     "metadata": {},
     "execution_count": 49
    }
   ],
   "source": [
    "df_remates = pd.DataFrame({\"Tipo\": [\"Local\",\"Visitante\"], \"Remates\": [remate_h,remate_a]})\n",
    "df_remates"
   ]
  },
  {
   "cell_type": "markdown",
   "metadata": {},
   "source": [
    "### Crear una bar chart con pandas del anterior dataframe "
   ]
  },
  {
   "cell_type": "code",
   "execution_count": 50,
   "metadata": {},
   "outputs": [
    {
     "output_type": "execute_result",
     "data": {
      "text/plain": [
       "<matplotlib.axes._subplots.AxesSubplot at 0x25f20407908>"
      ]
     },
     "metadata": {},
     "execution_count": 50
    },
    {
     "output_type": "display_data",
     "data": {
      "text/plain": "<Figure size 432x288 with 1 Axes>",
      "image/svg+xml": "<?xml version=\"1.0\" encoding=\"utf-8\" standalone=\"no\"?>\r\n<!DOCTYPE svg PUBLIC \"-//W3C//DTD SVG 1.1//EN\"\r\n  \"http://www.w3.org/Graphics/SVG/1.1/DTD/svg11.dtd\">\r\n<!-- Created with matplotlib (https://matplotlib.org/) -->\r\n<svg height=\"296.580625pt\" version=\"1.1\" viewBox=\"0 0 381.65 296.580625\" width=\"381.65pt\" xmlns=\"http://www.w3.org/2000/svg\" xmlns:xlink=\"http://www.w3.org/1999/xlink\">\r\n <defs>\r\n  <style type=\"text/css\">\r\n*{stroke-linecap:butt;stroke-linejoin:round;}\r\n  </style>\r\n </defs>\r\n <g id=\"figure_1\">\r\n  <g id=\"patch_1\">\r\n   <path d=\"M -0 296.580625 \r\nL 381.65 296.580625 \r\nL 381.65 0 \r\nL -0 0 \r\nz\r\n\" style=\"fill:none;\"/>\r\n  </g>\r\n  <g id=\"axes_1\">\r\n   <g id=\"patch_2\">\r\n    <path d=\"M 39.65 224.64 \r\nL 374.45 224.64 \r\nL 374.45 7.2 \r\nL 39.65 7.2 \r\nz\r\n\" style=\"fill:#ffffff;\"/>\r\n   </g>\r\n   <g id=\"patch_3\">\r\n    <path clip-path=\"url(#p1ab915346f)\" d=\"M 81.5 224.64 \r\nL 165.2 224.64 \r\nL 165.2 17.554286 \r\nL 81.5 17.554286 \r\nz\r\n\" style=\"fill:#1f77b4;\"/>\r\n   </g>\r\n   <g id=\"patch_4\">\r\n    <path clip-path=\"url(#p1ab915346f)\" d=\"M 248.9 224.64 \r\nL 332.6 224.64 \r\nL 332.6 56.207954 \r\nL 248.9 56.207954 \r\nz\r\n\" style=\"fill:#1f77b4;\"/>\r\n   </g>\r\n   <g id=\"matplotlib.axis_1\">\r\n    <g id=\"xtick_1\">\r\n     <g id=\"line2d_1\">\r\n      <defs>\r\n       <path d=\"M 0 0 \r\nL 0 3.5 \r\n\" id=\"mffb390dfd1\" style=\"stroke:#000000;stroke-width:0.8;\"/>\r\n      </defs>\r\n      <g>\r\n       <use style=\"stroke:#000000;stroke-width:0.8;\" x=\"123.35\" xlink:href=\"#mffb390dfd1\" y=\"224.64\"/>\r\n      </g>\r\n     </g>\r\n     <g id=\"text_1\">\r\n      <!-- Local -->\r\n      <defs>\r\n       <path d=\"M 9.8125 72.90625 \r\nL 19.671875 72.90625 \r\nL 19.671875 8.296875 \r\nL 55.171875 8.296875 \r\nL 55.171875 0 \r\nL 9.8125 0 \r\nz\r\n\" id=\"DejaVuSans-76\"/>\r\n       <path d=\"M 30.609375 48.390625 \r\nQ 23.390625 48.390625 19.1875 42.75 \r\nQ 14.984375 37.109375 14.984375 27.296875 \r\nQ 14.984375 17.484375 19.15625 11.84375 \r\nQ 23.34375 6.203125 30.609375 6.203125 \r\nQ 37.796875 6.203125 41.984375 11.859375 \r\nQ 46.1875 17.53125 46.1875 27.296875 \r\nQ 46.1875 37.015625 41.984375 42.703125 \r\nQ 37.796875 48.390625 30.609375 48.390625 \r\nz\r\nM 30.609375 56 \r\nQ 42.328125 56 49.015625 48.375 \r\nQ 55.71875 40.765625 55.71875 27.296875 \r\nQ 55.71875 13.875 49.015625 6.21875 \r\nQ 42.328125 -1.421875 30.609375 -1.421875 \r\nQ 18.84375 -1.421875 12.171875 6.21875 \r\nQ 5.515625 13.875 5.515625 27.296875 \r\nQ 5.515625 40.765625 12.171875 48.375 \r\nQ 18.84375 56 30.609375 56 \r\nz\r\n\" id=\"DejaVuSans-111\"/>\r\n       <path d=\"M 48.78125 52.59375 \r\nL 48.78125 44.1875 \r\nQ 44.96875 46.296875 41.140625 47.34375 \r\nQ 37.3125 48.390625 33.40625 48.390625 \r\nQ 24.65625 48.390625 19.8125 42.84375 \r\nQ 14.984375 37.3125 14.984375 27.296875 \r\nQ 14.984375 17.28125 19.8125 11.734375 \r\nQ 24.65625 6.203125 33.40625 6.203125 \r\nQ 37.3125 6.203125 41.140625 7.25 \r\nQ 44.96875 8.296875 48.78125 10.40625 \r\nL 48.78125 2.09375 \r\nQ 45.015625 0.34375 40.984375 -0.53125 \r\nQ 36.96875 -1.421875 32.421875 -1.421875 \r\nQ 20.0625 -1.421875 12.78125 6.34375 \r\nQ 5.515625 14.109375 5.515625 27.296875 \r\nQ 5.515625 40.671875 12.859375 48.328125 \r\nQ 20.21875 56 33.015625 56 \r\nQ 37.15625 56 41.109375 55.140625 \r\nQ 45.0625 54.296875 48.78125 52.59375 \r\nz\r\n\" id=\"DejaVuSans-99\"/>\r\n       <path d=\"M 34.28125 27.484375 \r\nQ 23.390625 27.484375 19.1875 25 \r\nQ 14.984375 22.515625 14.984375 16.5 \r\nQ 14.984375 11.71875 18.140625 8.90625 \r\nQ 21.296875 6.109375 26.703125 6.109375 \r\nQ 34.1875 6.109375 38.703125 11.40625 \r\nQ 43.21875 16.703125 43.21875 25.484375 \r\nL 43.21875 27.484375 \r\nz\r\nM 52.203125 31.203125 \r\nL 52.203125 0 \r\nL 43.21875 0 \r\nL 43.21875 8.296875 \r\nQ 40.140625 3.328125 35.546875 0.953125 \r\nQ 30.953125 -1.421875 24.3125 -1.421875 \r\nQ 15.921875 -1.421875 10.953125 3.296875 \r\nQ 6 8.015625 6 15.921875 \r\nQ 6 25.140625 12.171875 29.828125 \r\nQ 18.359375 34.515625 30.609375 34.515625 \r\nL 43.21875 34.515625 \r\nL 43.21875 35.40625 \r\nQ 43.21875 41.609375 39.140625 45 \r\nQ 35.0625 48.390625 27.6875 48.390625 \r\nQ 23 48.390625 18.546875 47.265625 \r\nQ 14.109375 46.140625 10.015625 43.890625 \r\nL 10.015625 52.203125 \r\nQ 14.9375 54.109375 19.578125 55.046875 \r\nQ 24.21875 56 28.609375 56 \r\nQ 40.484375 56 46.34375 49.84375 \r\nQ 52.203125 43.703125 52.203125 31.203125 \r\nz\r\n\" id=\"DejaVuSans-97\"/>\r\n       <path d=\"M 9.421875 75.984375 \r\nL 18.40625 75.984375 \r\nL 18.40625 0 \r\nL 9.421875 0 \r\nz\r\n\" id=\"DejaVuSans-108\"/>\r\n      </defs>\r\n      <g transform=\"translate(126.109375 257.73375)rotate(-90)scale(0.1 -0.1)\">\r\n       <use xlink:href=\"#DejaVuSans-76\"/>\r\n       <use x=\"55.697266\" xlink:href=\"#DejaVuSans-111\"/>\r\n       <use x=\"116.878906\" xlink:href=\"#DejaVuSans-99\"/>\r\n       <use x=\"171.859375\" xlink:href=\"#DejaVuSans-97\"/>\r\n       <use x=\"233.138672\" xlink:href=\"#DejaVuSans-108\"/>\r\n      </g>\r\n     </g>\r\n    </g>\r\n    <g id=\"xtick_2\">\r\n     <g id=\"line2d_2\">\r\n      <g>\r\n       <use style=\"stroke:#000000;stroke-width:0.8;\" x=\"290.75\" xlink:href=\"#mffb390dfd1\" y=\"224.64\"/>\r\n      </g>\r\n     </g>\r\n     <g id=\"text_2\">\r\n      <!-- Visitante -->\r\n      <defs>\r\n       <path d=\"M 28.609375 0 \r\nL 0.78125 72.90625 \r\nL 11.078125 72.90625 \r\nL 34.1875 11.53125 \r\nL 57.328125 72.90625 \r\nL 67.578125 72.90625 \r\nL 39.796875 0 \r\nz\r\n\" id=\"DejaVuSans-86\"/>\r\n       <path d=\"M 9.421875 54.6875 \r\nL 18.40625 54.6875 \r\nL 18.40625 0 \r\nL 9.421875 0 \r\nz\r\nM 9.421875 75.984375 \r\nL 18.40625 75.984375 \r\nL 18.40625 64.59375 \r\nL 9.421875 64.59375 \r\nz\r\n\" id=\"DejaVuSans-105\"/>\r\n       <path d=\"M 44.28125 53.078125 \r\nL 44.28125 44.578125 \r\nQ 40.484375 46.53125 36.375 47.5 \r\nQ 32.28125 48.484375 27.875 48.484375 \r\nQ 21.1875 48.484375 17.84375 46.4375 \r\nQ 14.5 44.390625 14.5 40.28125 \r\nQ 14.5 37.15625 16.890625 35.375 \r\nQ 19.28125 33.59375 26.515625 31.984375 \r\nL 29.59375 31.296875 \r\nQ 39.15625 29.25 43.1875 25.515625 \r\nQ 47.21875 21.78125 47.21875 15.09375 \r\nQ 47.21875 7.46875 41.1875 3.015625 \r\nQ 35.15625 -1.421875 24.609375 -1.421875 \r\nQ 20.21875 -1.421875 15.453125 -0.5625 \r\nQ 10.6875 0.296875 5.421875 2 \r\nL 5.421875 11.28125 \r\nQ 10.40625 8.6875 15.234375 7.390625 \r\nQ 20.0625 6.109375 24.8125 6.109375 \r\nQ 31.15625 6.109375 34.5625 8.28125 \r\nQ 37.984375 10.453125 37.984375 14.40625 \r\nQ 37.984375 18.0625 35.515625 20.015625 \r\nQ 33.0625 21.96875 24.703125 23.78125 \r\nL 21.578125 24.515625 \r\nQ 13.234375 26.265625 9.515625 29.90625 \r\nQ 5.8125 33.546875 5.8125 39.890625 \r\nQ 5.8125 47.609375 11.28125 51.796875 \r\nQ 16.75 56 26.8125 56 \r\nQ 31.78125 56 36.171875 55.265625 \r\nQ 40.578125 54.546875 44.28125 53.078125 \r\nz\r\n\" id=\"DejaVuSans-115\"/>\r\n       <path d=\"M 18.3125 70.21875 \r\nL 18.3125 54.6875 \r\nL 36.8125 54.6875 \r\nL 36.8125 47.703125 \r\nL 18.3125 47.703125 \r\nL 18.3125 18.015625 \r\nQ 18.3125 11.328125 20.140625 9.421875 \r\nQ 21.96875 7.515625 27.59375 7.515625 \r\nL 36.8125 7.515625 \r\nL 36.8125 0 \r\nL 27.59375 0 \r\nQ 17.1875 0 13.234375 3.875 \r\nQ 9.28125 7.765625 9.28125 18.015625 \r\nL 9.28125 47.703125 \r\nL 2.6875 47.703125 \r\nL 2.6875 54.6875 \r\nL 9.28125 54.6875 \r\nL 9.28125 70.21875 \r\nz\r\n\" id=\"DejaVuSans-116\"/>\r\n       <path d=\"M 54.890625 33.015625 \r\nL 54.890625 0 \r\nL 45.90625 0 \r\nL 45.90625 32.71875 \r\nQ 45.90625 40.484375 42.875 44.328125 \r\nQ 39.84375 48.1875 33.796875 48.1875 \r\nQ 26.515625 48.1875 22.3125 43.546875 \r\nQ 18.109375 38.921875 18.109375 30.90625 \r\nL 18.109375 0 \r\nL 9.078125 0 \r\nL 9.078125 54.6875 \r\nL 18.109375 54.6875 \r\nL 18.109375 46.1875 \r\nQ 21.34375 51.125 25.703125 53.5625 \r\nQ 30.078125 56 35.796875 56 \r\nQ 45.21875 56 50.046875 50.171875 \r\nQ 54.890625 44.34375 54.890625 33.015625 \r\nz\r\n\" id=\"DejaVuSans-110\"/>\r\n       <path d=\"M 56.203125 29.59375 \r\nL 56.203125 25.203125 \r\nL 14.890625 25.203125 \r\nQ 15.484375 15.921875 20.484375 11.0625 \r\nQ 25.484375 6.203125 34.421875 6.203125 \r\nQ 39.59375 6.203125 44.453125 7.46875 \r\nQ 49.3125 8.734375 54.109375 11.28125 \r\nL 54.109375 2.78125 \r\nQ 49.265625 0.734375 44.1875 -0.34375 \r\nQ 39.109375 -1.421875 33.890625 -1.421875 \r\nQ 20.796875 -1.421875 13.15625 6.1875 \r\nQ 5.515625 13.8125 5.515625 26.8125 \r\nQ 5.515625 40.234375 12.765625 48.109375 \r\nQ 20.015625 56 32.328125 56 \r\nQ 43.359375 56 49.78125 48.890625 \r\nQ 56.203125 41.796875 56.203125 29.59375 \r\nz\r\nM 47.21875 32.234375 \r\nQ 47.125 39.59375 43.09375 43.984375 \r\nQ 39.0625 48.390625 32.421875 48.390625 \r\nQ 24.90625 48.390625 20.390625 44.140625 \r\nQ 15.875 39.890625 15.1875 32.171875 \r\nz\r\n\" id=\"DejaVuSans-101\"/>\r\n      </defs>\r\n      <g transform=\"translate(293.509375 275.7025)rotate(-90)scale(0.1 -0.1)\">\r\n       <use xlink:href=\"#DejaVuSans-86\"/>\r\n       <use x=\"68.376953\" xlink:href=\"#DejaVuSans-105\"/>\r\n       <use x=\"96.160156\" xlink:href=\"#DejaVuSans-115\"/>\r\n       <use x=\"148.259766\" xlink:href=\"#DejaVuSans-105\"/>\r\n       <use x=\"176.042969\" xlink:href=\"#DejaVuSans-116\"/>\r\n       <use x=\"215.251953\" xlink:href=\"#DejaVuSans-97\"/>\r\n       <use x=\"276.53125\" xlink:href=\"#DejaVuSans-110\"/>\r\n       <use x=\"339.910156\" xlink:href=\"#DejaVuSans-116\"/>\r\n       <use x=\"379.119141\" xlink:href=\"#DejaVuSans-101\"/>\r\n      </g>\r\n     </g>\r\n    </g>\r\n    <g id=\"text_3\">\r\n     <!-- Tipo -->\r\n     <defs>\r\n      <path d=\"M -0.296875 72.90625 \r\nL 61.375 72.90625 \r\nL 61.375 64.59375 \r\nL 35.5 64.59375 \r\nL 35.5 0 \r\nL 25.59375 0 \r\nL 25.59375 64.59375 \r\nL -0.296875 64.59375 \r\nz\r\n\" id=\"DejaVuSans-84\"/>\r\n      <path d=\"M 18.109375 8.203125 \r\nL 18.109375 -20.796875 \r\nL 9.078125 -20.796875 \r\nL 9.078125 54.6875 \r\nL 18.109375 54.6875 \r\nL 18.109375 46.390625 \r\nQ 20.953125 51.265625 25.265625 53.625 \r\nQ 29.59375 56 35.59375 56 \r\nQ 45.5625 56 51.78125 48.09375 \r\nQ 58.015625 40.1875 58.015625 27.296875 \r\nQ 58.015625 14.40625 51.78125 6.484375 \r\nQ 45.5625 -1.421875 35.59375 -1.421875 \r\nQ 29.59375 -1.421875 25.265625 0.953125 \r\nQ 20.953125 3.328125 18.109375 8.203125 \r\nz\r\nM 48.6875 27.296875 \r\nQ 48.6875 37.203125 44.609375 42.84375 \r\nQ 40.53125 48.484375 33.40625 48.484375 \r\nQ 26.265625 48.484375 22.1875 42.84375 \r\nQ 18.109375 37.203125 18.109375 27.296875 \r\nQ 18.109375 17.390625 22.1875 11.75 \r\nQ 26.265625 6.109375 33.40625 6.109375 \r\nQ 40.53125 6.109375 44.609375 11.75 \r\nQ 48.6875 17.390625 48.6875 27.296875 \r\nz\r\n\" id=\"DejaVuSans-112\"/>\r\n     </defs>\r\n     <g transform=\"translate(196.375781 287.300937)scale(0.1 -0.1)\">\r\n      <use xlink:href=\"#DejaVuSans-84\"/>\r\n      <use x=\"61.037109\" xlink:href=\"#DejaVuSans-105\"/>\r\n      <use x=\"88.820312\" xlink:href=\"#DejaVuSans-112\"/>\r\n      <use x=\"152.296875\" xlink:href=\"#DejaVuSans-111\"/>\r\n     </g>\r\n    </g>\r\n   </g>\r\n   <g id=\"matplotlib.axis_2\">\r\n    <g id=\"ytick_1\">\r\n     <g id=\"line2d_3\">\r\n      <defs>\r\n       <path d=\"M 0 0 \r\nL -3.5 0 \r\n\" id=\"m9f612af476\" style=\"stroke:#000000;stroke-width:0.8;\"/>\r\n      </defs>\r\n      <g>\r\n       <use style=\"stroke:#000000;stroke-width:0.8;\" x=\"39.65\" xlink:href=\"#m9f612af476\" y=\"224.64\"/>\r\n      </g>\r\n     </g>\r\n     <g id=\"text_4\">\r\n      <!-- 0 -->\r\n      <defs>\r\n       <path d=\"M 31.78125 66.40625 \r\nQ 24.171875 66.40625 20.328125 58.90625 \r\nQ 16.5 51.421875 16.5 36.375 \r\nQ 16.5 21.390625 20.328125 13.890625 \r\nQ 24.171875 6.390625 31.78125 6.390625 \r\nQ 39.453125 6.390625 43.28125 13.890625 \r\nQ 47.125 21.390625 47.125 36.375 \r\nQ 47.125 51.421875 43.28125 58.90625 \r\nQ 39.453125 66.40625 31.78125 66.40625 \r\nz\r\nM 31.78125 74.21875 \r\nQ 44.046875 74.21875 50.515625 64.515625 \r\nQ 56.984375 54.828125 56.984375 36.375 \r\nQ 56.984375 17.96875 50.515625 8.265625 \r\nQ 44.046875 -1.421875 31.78125 -1.421875 \r\nQ 19.53125 -1.421875 13.0625 8.265625 \r\nQ 6.59375 17.96875 6.59375 36.375 \r\nQ 6.59375 54.828125 13.0625 64.515625 \r\nQ 19.53125 74.21875 31.78125 74.21875 \r\nz\r\n\" id=\"DejaVuSans-48\"/>\r\n      </defs>\r\n      <g transform=\"translate(26.2875 228.439219)scale(0.1 -0.1)\">\r\n       <use xlink:href=\"#DejaVuSans-48\"/>\r\n      </g>\r\n     </g>\r\n    </g>\r\n    <g id=\"ytick_2\">\r\n     <g id=\"line2d_4\">\r\n      <g>\r\n       <use style=\"stroke:#000000;stroke-width:0.8;\" x=\"39.65\" xlink:href=\"#m9f612af476\" y=\"180.914131\"/>\r\n      </g>\r\n     </g>\r\n     <g id=\"text_5\">\r\n      <!-- 1000 -->\r\n      <defs>\r\n       <path d=\"M 12.40625 8.296875 \r\nL 28.515625 8.296875 \r\nL 28.515625 63.921875 \r\nL 10.984375 60.40625 \r\nL 10.984375 69.390625 \r\nL 28.421875 72.90625 \r\nL 38.28125 72.90625 \r\nL 38.28125 8.296875 \r\nL 54.390625 8.296875 \r\nL 54.390625 0 \r\nL 12.40625 0 \r\nz\r\n\" id=\"DejaVuSans-49\"/>\r\n      </defs>\r\n      <g transform=\"translate(7.2 184.71335)scale(0.1 -0.1)\">\r\n       <use xlink:href=\"#DejaVuSans-49\"/>\r\n       <use x=\"63.623047\" xlink:href=\"#DejaVuSans-48\"/>\r\n       <use x=\"127.246094\" xlink:href=\"#DejaVuSans-48\"/>\r\n       <use x=\"190.869141\" xlink:href=\"#DejaVuSans-48\"/>\r\n      </g>\r\n     </g>\r\n    </g>\r\n    <g id=\"ytick_3\">\r\n     <g id=\"line2d_5\">\r\n      <g>\r\n       <use style=\"stroke:#000000;stroke-width:0.8;\" x=\"39.65\" xlink:href=\"#m9f612af476\" y=\"137.188263\"/>\r\n      </g>\r\n     </g>\r\n     <g id=\"text_6\">\r\n      <!-- 2000 -->\r\n      <defs>\r\n       <path d=\"M 19.1875 8.296875 \r\nL 53.609375 8.296875 \r\nL 53.609375 0 \r\nL 7.328125 0 \r\nL 7.328125 8.296875 \r\nQ 12.9375 14.109375 22.625 23.890625 \r\nQ 32.328125 33.6875 34.8125 36.53125 \r\nQ 39.546875 41.84375 41.421875 45.53125 \r\nQ 43.3125 49.21875 43.3125 52.78125 \r\nQ 43.3125 58.59375 39.234375 62.25 \r\nQ 35.15625 65.921875 28.609375 65.921875 \r\nQ 23.96875 65.921875 18.8125 64.3125 \r\nQ 13.671875 62.703125 7.8125 59.421875 \r\nL 7.8125 69.390625 \r\nQ 13.765625 71.78125 18.9375 73 \r\nQ 24.125 74.21875 28.421875 74.21875 \r\nQ 39.75 74.21875 46.484375 68.546875 \r\nQ 53.21875 62.890625 53.21875 53.421875 \r\nQ 53.21875 48.921875 51.53125 44.890625 \r\nQ 49.859375 40.875 45.40625 35.40625 \r\nQ 44.1875 33.984375 37.640625 27.21875 \r\nQ 31.109375 20.453125 19.1875 8.296875 \r\nz\r\n\" id=\"DejaVuSans-50\"/>\r\n      </defs>\r\n      <g transform=\"translate(7.2 140.987481)scale(0.1 -0.1)\">\r\n       <use xlink:href=\"#DejaVuSans-50\"/>\r\n       <use x=\"63.623047\" xlink:href=\"#DejaVuSans-48\"/>\r\n       <use x=\"127.246094\" xlink:href=\"#DejaVuSans-48\"/>\r\n       <use x=\"190.869141\" xlink:href=\"#DejaVuSans-48\"/>\r\n      </g>\r\n     </g>\r\n    </g>\r\n    <g id=\"ytick_4\">\r\n     <g id=\"line2d_6\">\r\n      <g>\r\n       <use style=\"stroke:#000000;stroke-width:0.8;\" x=\"39.65\" xlink:href=\"#m9f612af476\" y=\"93.462394\"/>\r\n      </g>\r\n     </g>\r\n     <g id=\"text_7\">\r\n      <!-- 3000 -->\r\n      <defs>\r\n       <path d=\"M 40.578125 39.3125 \r\nQ 47.65625 37.796875 51.625 33 \r\nQ 55.609375 28.21875 55.609375 21.1875 \r\nQ 55.609375 10.40625 48.1875 4.484375 \r\nQ 40.765625 -1.421875 27.09375 -1.421875 \r\nQ 22.515625 -1.421875 17.65625 -0.515625 \r\nQ 12.796875 0.390625 7.625 2.203125 \r\nL 7.625 11.71875 \r\nQ 11.71875 9.328125 16.59375 8.109375 \r\nQ 21.484375 6.890625 26.8125 6.890625 \r\nQ 36.078125 6.890625 40.9375 10.546875 \r\nQ 45.796875 14.203125 45.796875 21.1875 \r\nQ 45.796875 27.640625 41.28125 31.265625 \r\nQ 36.765625 34.90625 28.71875 34.90625 \r\nL 20.21875 34.90625 \r\nL 20.21875 43.015625 \r\nL 29.109375 43.015625 \r\nQ 36.375 43.015625 40.234375 45.921875 \r\nQ 44.09375 48.828125 44.09375 54.296875 \r\nQ 44.09375 59.90625 40.109375 62.90625 \r\nQ 36.140625 65.921875 28.71875 65.921875 \r\nQ 24.65625 65.921875 20.015625 65.03125 \r\nQ 15.375 64.15625 9.8125 62.3125 \r\nL 9.8125 71.09375 \r\nQ 15.4375 72.65625 20.34375 73.4375 \r\nQ 25.25 74.21875 29.59375 74.21875 \r\nQ 40.828125 74.21875 47.359375 69.109375 \r\nQ 53.90625 64.015625 53.90625 55.328125 \r\nQ 53.90625 49.265625 50.4375 45.09375 \r\nQ 46.96875 40.921875 40.578125 39.3125 \r\nz\r\n\" id=\"DejaVuSans-51\"/>\r\n      </defs>\r\n      <g transform=\"translate(7.2 97.261613)scale(0.1 -0.1)\">\r\n       <use xlink:href=\"#DejaVuSans-51\"/>\r\n       <use x=\"63.623047\" xlink:href=\"#DejaVuSans-48\"/>\r\n       <use x=\"127.246094\" xlink:href=\"#DejaVuSans-48\"/>\r\n       <use x=\"190.869141\" xlink:href=\"#DejaVuSans-48\"/>\r\n      </g>\r\n     </g>\r\n    </g>\r\n    <g id=\"ytick_5\">\r\n     <g id=\"line2d_7\">\r\n      <g>\r\n       <use style=\"stroke:#000000;stroke-width:0.8;\" x=\"39.65\" xlink:href=\"#m9f612af476\" y=\"49.736525\"/>\r\n      </g>\r\n     </g>\r\n     <g id=\"text_8\">\r\n      <!-- 4000 -->\r\n      <defs>\r\n       <path d=\"M 37.796875 64.3125 \r\nL 12.890625 25.390625 \r\nL 37.796875 25.390625 \r\nz\r\nM 35.203125 72.90625 \r\nL 47.609375 72.90625 \r\nL 47.609375 25.390625 \r\nL 58.015625 25.390625 \r\nL 58.015625 17.1875 \r\nL 47.609375 17.1875 \r\nL 47.609375 0 \r\nL 37.796875 0 \r\nL 37.796875 17.1875 \r\nL 4.890625 17.1875 \r\nL 4.890625 26.703125 \r\nz\r\n\" id=\"DejaVuSans-52\"/>\r\n      </defs>\r\n      <g transform=\"translate(7.2 53.535744)scale(0.1 -0.1)\">\r\n       <use xlink:href=\"#DejaVuSans-52\"/>\r\n       <use x=\"63.623047\" xlink:href=\"#DejaVuSans-48\"/>\r\n       <use x=\"127.246094\" xlink:href=\"#DejaVuSans-48\"/>\r\n       <use x=\"190.869141\" xlink:href=\"#DejaVuSans-48\"/>\r\n      </g>\r\n     </g>\r\n    </g>\r\n   </g>\r\n   <g id=\"patch_5\">\r\n    <path d=\"M 39.65 224.64 \r\nL 39.65 7.2 \r\n\" style=\"fill:none;stroke:#000000;stroke-linecap:square;stroke-linejoin:miter;stroke-width:0.8;\"/>\r\n   </g>\r\n   <g id=\"patch_6\">\r\n    <path d=\"M 374.45 224.64 \r\nL 374.45 7.2 \r\n\" style=\"fill:none;stroke:#000000;stroke-linecap:square;stroke-linejoin:miter;stroke-width:0.8;\"/>\r\n   </g>\r\n   <g id=\"patch_7\">\r\n    <path d=\"M 39.65 224.64 \r\nL 374.45 224.64 \r\n\" style=\"fill:none;stroke:#000000;stroke-linecap:square;stroke-linejoin:miter;stroke-width:0.8;\"/>\r\n   </g>\r\n   <g id=\"patch_8\">\r\n    <path d=\"M 39.65 7.2 \r\nL 374.45 7.2 \r\n\" style=\"fill:none;stroke:#000000;stroke-linecap:square;stroke-linejoin:miter;stroke-width:0.8;\"/>\r\n   </g>\r\n   <g id=\"legend_1\">\r\n    <g id=\"patch_9\">\r\n     <path d=\"M 291.203125 29.878125 \r\nL 367.45 29.878125 \r\nQ 369.45 29.878125 369.45 27.878125 \r\nL 369.45 14.2 \r\nQ 369.45 12.2 367.45 12.2 \r\nL 291.203125 12.2 \r\nQ 289.203125 12.2 289.203125 14.2 \r\nL 289.203125 27.878125 \r\nQ 289.203125 29.878125 291.203125 29.878125 \r\nz\r\n\" style=\"fill:#ffffff;opacity:0.8;stroke:#cccccc;stroke-linejoin:miter;\"/>\r\n    </g>\r\n    <g id=\"patch_10\">\r\n     <path d=\"M 293.203125 23.798438 \r\nL 313.203125 23.798438 \r\nL 313.203125 16.798438 \r\nL 293.203125 16.798438 \r\nz\r\n\" style=\"fill:#1f77b4;\"/>\r\n    </g>\r\n    <g id=\"text_9\">\r\n     <!-- Remates -->\r\n     <defs>\r\n      <path d=\"M 44.390625 34.1875 \r\nQ 47.5625 33.109375 50.5625 29.59375 \r\nQ 53.5625 26.078125 56.59375 19.921875 \r\nL 66.609375 0 \r\nL 56 0 \r\nL 46.6875 18.703125 \r\nQ 43.0625 26.03125 39.671875 28.421875 \r\nQ 36.28125 30.8125 30.421875 30.8125 \r\nL 19.671875 30.8125 \r\nL 19.671875 0 \r\nL 9.8125 0 \r\nL 9.8125 72.90625 \r\nL 32.078125 72.90625 \r\nQ 44.578125 72.90625 50.734375 67.671875 \r\nQ 56.890625 62.453125 56.890625 51.90625 \r\nQ 56.890625 45.015625 53.6875 40.46875 \r\nQ 50.484375 35.9375 44.390625 34.1875 \r\nz\r\nM 19.671875 64.796875 \r\nL 19.671875 38.921875 \r\nL 32.078125 38.921875 \r\nQ 39.203125 38.921875 42.84375 42.21875 \r\nQ 46.484375 45.515625 46.484375 51.90625 \r\nQ 46.484375 58.296875 42.84375 61.546875 \r\nQ 39.203125 64.796875 32.078125 64.796875 \r\nz\r\n\" id=\"DejaVuSans-82\"/>\r\n      <path d=\"M 52 44.1875 \r\nQ 55.375 50.25 60.0625 53.125 \r\nQ 64.75 56 71.09375 56 \r\nQ 79.640625 56 84.28125 50.015625 \r\nQ 88.921875 44.046875 88.921875 33.015625 \r\nL 88.921875 0 \r\nL 79.890625 0 \r\nL 79.890625 32.71875 \r\nQ 79.890625 40.578125 77.09375 44.375 \r\nQ 74.3125 48.1875 68.609375 48.1875 \r\nQ 61.625 48.1875 57.5625 43.546875 \r\nQ 53.515625 38.921875 53.515625 30.90625 \r\nL 53.515625 0 \r\nL 44.484375 0 \r\nL 44.484375 32.71875 \r\nQ 44.484375 40.625 41.703125 44.40625 \r\nQ 38.921875 48.1875 33.109375 48.1875 \r\nQ 26.21875 48.1875 22.15625 43.53125 \r\nQ 18.109375 38.875 18.109375 30.90625 \r\nL 18.109375 0 \r\nL 9.078125 0 \r\nL 9.078125 54.6875 \r\nL 18.109375 54.6875 \r\nL 18.109375 46.1875 \r\nQ 21.1875 51.21875 25.484375 53.609375 \r\nQ 29.78125 56 35.6875 56 \r\nQ 41.65625 56 45.828125 52.96875 \r\nQ 50 49.953125 52 44.1875 \r\nz\r\n\" id=\"DejaVuSans-109\"/>\r\n     </defs>\r\n     <g transform=\"translate(321.203125 23.798438)scale(0.1 -0.1)\">\r\n      <use xlink:href=\"#DejaVuSans-82\"/>\r\n      <use x=\"69.419922\" xlink:href=\"#DejaVuSans-101\"/>\r\n      <use x=\"130.943359\" xlink:href=\"#DejaVuSans-109\"/>\r\n      <use x=\"228.355469\" xlink:href=\"#DejaVuSans-97\"/>\r\n      <use x=\"289.634766\" xlink:href=\"#DejaVuSans-116\"/>\r\n      <use x=\"328.84375\" xlink:href=\"#DejaVuSans-101\"/>\r\n      <use x=\"390.367188\" xlink:href=\"#DejaVuSans-115\"/>\r\n     </g>\r\n    </g>\r\n   </g>\r\n  </g>\r\n </g>\r\n <defs>\r\n  <clipPath id=\"p1ab915346f\">\r\n   <rect height=\"217.44\" width=\"334.8\" x=\"39.65\" y=\"7.2\"/>\r\n  </clipPath>\r\n </defs>\r\n</svg>\r\n",
      "image/png": "[encoded data removed]"
     },
     "metadata": {
      "needs_background": "light"
     }
    }
   ],
   "source": [
    "df_remates.groupby(\"Tipo\").sum().plot(kind=\"bar\")"
   ]
  },
  {
   "cell_type": "markdown",
   "metadata": {},
   "source": [
    "### Real Madrid porcentaje de Victoria,Empates y Derrotas"
   ]
  },
  {
   "cell_type": "markdown",
   "metadata": {},
   "source": [
    "#### Crea otro dataframe con el filtro de Real Madrid como equipo local y otro dataframe con las columnas del real madrid como visitante"
   ]
  },
  {
   "cell_type": "code",
   "execution_count": 51,
   "metadata": {},
   "outputs": [
    {
     "output_type": "execute_result",
     "data": {
      "text/plain": [
       "          Date   Time     HomeTeam    AwayTeam  FTHG  FTAG FTR  HTHG  HTAG  \\\n",
       "13  2019-08-24  18:00  Real Madrid  Valladolid     1     1   D     0     0   \n",
       "31  2019-09-14  12:00  Real Madrid     Levante     3     2   H     3     0   \n",
       "56  2019-09-25  20:00  Real Madrid     Osasuna     2     0   H     1     0   \n",
       "72  2019-05-10  15:00  Real Madrid     Granada     4     2   H     2     0   \n",
       "105 2019-10-30  20:15  Real Madrid     Leganes     5     0   H     3     0   \n",
       "112 2019-02-11  20:00  Real Madrid       Betis     0     0   D     0     0   \n",
       "133 2019-11-23  20:00  Real Madrid    Sociedad     3     1   H     1     1   \n",
       "150 2019-07-12  12:00  Real Madrid     Espanol     2     0   H     1     0   \n",
       "179 2019-12-22  20:00  Real Madrid  Ath Bilbao     0     0   D     0     0   \n",
       "192 2020-01-18  15:00  Real Madrid     Sevilla     2     1   H     0     0   \n",
       "211 2020-01-02  15:00  Real Madrid  Ath Madrid     1     0   H     0     0   \n",
       "238 2020-02-16  20:00  Real Madrid       Celta     2     2   D     0     1   \n",
       "258 2020-01-03  20:00  Real Madrid   Barcelona     2     0   H     0     0   \n",
       "278 2020-06-14  18:30  Real Madrid       Eibar     3     1   H     3     0   \n",
       "289 2020-06-18  21:00  Real Madrid    Valencia     3     0   H     0     0   \n",
       "307 2020-06-24  21:00  Real Madrid    Mallorca     2     0   H     1     0   \n",
       "329 2020-02-07  21:00  Real Madrid      Getafe     1     0   H     0     0   \n",
       "349 2020-10-07  21:00  Real Madrid      Alaves     2     0   H     1     0   \n",
       "367 2020-07-16  20:00  Real Madrid  Villarreal     2     1   H     1     0   \n",
       "\n",
       "    HTR  ...  HF  AF  HC  AC  HY  AY  HR  SHHG  SHAG  SHR  \n",
       "13    D  ...  12  11   4   3   2   2   0     1     1    D  \n",
       "31    H  ...  13  10   9   6   2   2   0     0     2    A  \n",
       "56    H  ...  13  13   7   5   2   2   0     1     0    H  \n",
       "72    H  ...  12  18   6   2   4   5   0     2     2    D  \n",
       "105   H  ...  12  12   8   3   1   5   0     2     0    H  \n",
       "112   D  ...  11  17   9   4   2   4   0     0     0    D  \n",
       "133   D  ...  13  16   4   3   1   1   0     2     0    H  \n",
       "150   H  ...  15  13   5   3   4   3   1     1     0    H  \n",
       "179   D  ...   8  14   6   4   1   0   0     0     0    D  \n",
       "192   D  ...  17  12   2   4   3   1   0     2     1    H  \n",
       "211   D  ...  18  11   5   6   2   3   0     1     0    H  \n",
       "238   A  ...  10  10   9   3   2   2   0     2     1    H  \n",
       "258   D  ...  13  10   8   2   2   2   0     2     0    H  \n",
       "278   H  ...  11  12   3   3   1   1   0     0     1    A  \n",
       "289   D  ...  12  11   8   2   0   2   0     3     0    H  \n",
       "307   H  ...  18  12   5   4   4   1   0     1     0    H  \n",
       "329   D  ...  15  22   6   5   5   5   0     1     0    H  \n",
       "349   H  ...   5  17   3   2   0   1   0     1     0    H  \n",
       "367   H  ...  13  13   4   2   3   2   0     1     1    D  \n",
       "\n",
       "[19 rows x 24 columns]"
      ],
      "text/html": "<div>\n<style scoped>\n    .dataframe tbody tr th:only-of-type {\n        vertical-align: middle;\n    }\n\n    .dataframe tbody tr th {\n        vertical-align: top;\n    }\n\n    .dataframe thead th {\n        text-align: right;\n    }\n</style>\n<table border=\"1\" class=\"dataframe\">\n  <thead>\n    <tr style=\"text-align: right;\">\n      <th></th>\n      <th>Date</th>\n      <th>Time</th>\n      <th>HomeTeam</th>\n      <th>AwayTeam</th>\n      <th>FTHG</th>\n      <th>FTAG</th>\n      <th>FTR</th>\n      <th>HTHG</th>\n      <th>HTAG</th>\n      <th>HTR</th>\n      <th>...</th>\n      <th>HF</th>\n      <th>AF</th>\n      <th>HC</th>\n      <th>AC</th>\n      <th>HY</th>\n      <th>AY</th>\n      <th>HR</th>\n      <th>SHHG</th>\n      <th>SHAG</th>\n      <th>SHR</th>\n    </tr>\n  </thead>\n  <tbody>\n    <tr>\n      <td>13</td>\n      <td>2019-08-24</td>\n      <td>18:00</td>\n      <td>Real Madrid</td>\n      <td>Valladolid</td>\n      <td>1</td>\n      <td>1</td>\n      <td>D</td>\n      <td>0</td>\n      <td>0</td>\n      <td>D</td>\n      <td>...</td>\n      <td>12</td>\n      <td>11</td>\n      <td>4</td>\n      <td>3</td>\n      <td>2</td>\n      <td>2</td>\n      <td>0</td>\n      <td>1</td>\n      <td>1</td>\n      <td>D</td>\n    </tr>\n    <tr>\n      <td>31</td>\n      <td>2019-09-14</td>\n      <td>12:00</td>\n      <td>Real Madrid</td>\n      <td>Levante</td>\n      <td>3</td>\n      <td>2</td>\n      <td>H</td>\n      <td>3</td>\n      <td>0</td>\n      <td>H</td>\n      <td>...</td>\n      <td>13</td>\n      <td>10</td>\n      <td>9</td>\n      <td>6</td>\n      <td>2</td>\n      <td>2</td>\n      <td>0</td>\n      <td>0</td>\n      <td>2</td>\n      <td>A</td>\n    </tr>\n    <tr>\n      <td>56</td>\n      <td>2019-09-25</td>\n      <td>20:00</td>\n      <td>Real Madrid</td>\n      <td>Osasuna</td>\n      <td>2</td>\n      <td>0</td>\n      <td>H</td>\n      <td>1</td>\n      <td>0</td>\n      <td>H</td>\n      <td>...</td>\n      <td>13</td>\n      <td>13</td>\n      <td>7</td>\n      <td>5</td>\n      <td>2</td>\n      <td>2</td>\n      <td>0</td>\n      <td>1</td>\n      <td>0</td>\n      <td>H</td>\n    </tr>\n    <tr>\n      <td>72</td>\n      <td>2019-05-10</td>\n      <td>15:00</td>\n      <td>Real Madrid</td>\n      <td>Granada</td>\n      <td>4</td>\n      <td>2</td>\n      <td>H</td>\n      <td>2</td>\n      <td>0</td>\n      <td>H</td>\n      <td>...</td>\n      <td>12</td>\n      <td>18</td>\n      <td>6</td>\n      <td>2</td>\n      <td>4</td>\n      <td>5</td>\n      <td>0</td>\n      <td>2</td>\n      <td>2</td>\n      <td>D</td>\n    </tr>\n    <tr>\n      <td>105</td>\n      <td>2019-10-30</td>\n      <td>20:15</td>\n      <td>Real Madrid</td>\n      <td>Leganes</td>\n      <td>5</td>\n      <td>0</td>\n      <td>H</td>\n      <td>3</td>\n      <td>0</td>\n      <td>H</td>\n      <td>...</td>\n      <td>12</td>\n      <td>12</td>\n      <td>8</td>\n      <td>3</td>\n      <td>1</td>\n      <td>5</td>\n      <td>0</td>\n      <td>2</td>\n      <td>0</td>\n      <td>H</td>\n    </tr>\n    <tr>\n      <td>112</td>\n      <td>2019-02-11</td>\n      <td>20:00</td>\n      <td>Real Madrid</td>\n      <td>Betis</td>\n      <td>0</td>\n      <td>0</td>\n      <td>D</td>\n      <td>0</td>\n      <td>0</td>\n      <td>D</td>\n      <td>...</td>\n      <td>11</td>\n      <td>17</td>\n      <td>9</td>\n      <td>4</td>\n      <td>2</td>\n      <td>4</td>\n      <td>0</td>\n      <td>0</td>\n      <td>0</td>\n      <td>D</td>\n    </tr>\n    <tr>\n      <td>133</td>\n      <td>2019-11-23</td>\n      <td>20:00</td>\n      <td>Real Madrid</td>\n      <td>Sociedad</td>\n      <td>3</td>\n      <td>1</td>\n      <td>H</td>\n      <td>1</td>\n      <td>1</td>\n      <td>D</td>\n      <td>...</td>\n      <td>13</td>\n      <td>16</td>\n      <td>4</td>\n      <td>3</td>\n      <td>1</td>\n      <td>1</td>\n      <td>0</td>\n      <td>2</td>\n      <td>0</td>\n      <td>H</td>\n    </tr>\n    <tr>\n      <td>150</td>\n      <td>2019-07-12</td>\n      <td>12:00</td>\n      <td>Real Madrid</td>\n      <td>Espanol</td>\n      <td>2</td>\n      <td>0</td>\n      <td>H</td>\n      <td>1</td>\n      <td>0</td>\n      <td>H</td>\n      <td>...</td>\n      <td>15</td>\n      <td>13</td>\n      <td>5</td>\n      <td>3</td>\n      <td>4</td>\n      <td>3</td>\n      <td>1</td>\n      <td>1</td>\n      <td>0</td>\n      <td>H</td>\n    </tr>\n    <tr>\n      <td>179</td>\n      <td>2019-12-22</td>\n      <td>20:00</td>\n      <td>Real Madrid</td>\n      <td>Ath Bilbao</td>\n      <td>0</td>\n      <td>0</td>\n      <td>D</td>\n      <td>0</td>\n      <td>0</td>\n      <td>D</td>\n      <td>...</td>\n      <td>8</td>\n      <td>14</td>\n      <td>6</td>\n      <td>4</td>\n      <td>1</td>\n      <td>0</td>\n      <td>0</td>\n      <td>0</td>\n      <td>0</td>\n      <td>D</td>\n    </tr>\n    <tr>\n      <td>192</td>\n      <td>2020-01-18</td>\n      <td>15:00</td>\n      <td>Real Madrid</td>\n      <td>Sevilla</td>\n      <td>2</td>\n      <td>1</td>\n      <td>H</td>\n      <td>0</td>\n      <td>0</td>\n      <td>D</td>\n      <td>...</td>\n      <td>17</td>\n      <td>12</td>\n      <td>2</td>\n      <td>4</td>\n      <td>3</td>\n      <td>1</td>\n      <td>0</td>\n      <td>2</td>\n      <td>1</td>\n      <td>H</td>\n    </tr>\n    <tr>\n      <td>211</td>\n      <td>2020-01-02</td>\n      <td>15:00</td>\n      <td>Real Madrid</td>\n      <td>Ath Madrid</td>\n      <td>1</td>\n      <td>0</td>\n      <td>H</td>\n      <td>0</td>\n      <td>0</td>\n      <td>D</td>\n      <td>...</td>\n      <td>18</td>\n      <td>11</td>\n      <td>5</td>\n      <td>6</td>\n      <td>2</td>\n      <td>3</td>\n      <td>0</td>\n      <td>1</td>\n      <td>0</td>\n      <td>H</td>\n    </tr>\n    <tr>\n      <td>238</td>\n      <td>2020-02-16</td>\n      <td>20:00</td>\n      <td>Real Madrid</td>\n      <td>Celta</td>\n      <td>2</td>\n      <td>2</td>\n      <td>D</td>\n      <td>0</td>\n      <td>1</td>\n      <td>A</td>\n      <td>...</td>\n      <td>10</td>\n      <td>10</td>\n      <td>9</td>\n      <td>3</td>\n      <td>2</td>\n      <td>2</td>\n      <td>0</td>\n      <td>2</td>\n      <td>1</td>\n      <td>H</td>\n    </tr>\n    <tr>\n      <td>258</td>\n      <td>2020-01-03</td>\n      <td>20:00</td>\n      <td>Real Madrid</td>\n      <td>Barcelona</td>\n      <td>2</td>\n      <td>0</td>\n      <td>H</td>\n      <td>0</td>\n      <td>0</td>\n      <td>D</td>\n      <td>...</td>\n      <td>13</td>\n      <td>10</td>\n      <td>8</td>\n      <td>2</td>\n      <td>2</td>\n      <td>2</td>\n      <td>0</td>\n      <td>2</td>\n      <td>0</td>\n      <td>H</td>\n    </tr>\n    <tr>\n      <td>278</td>\n      <td>2020-06-14</td>\n      <td>18:30</td>\n      <td>Real Madrid</td>\n      <td>Eibar</td>\n      <td>3</td>\n      <td>1</td>\n      <td>H</td>\n      <td>3</td>\n      <td>0</td>\n      <td>H</td>\n      <td>...</td>\n      <td>11</td>\n      <td>12</td>\n      <td>3</td>\n      <td>3</td>\n      <td>1</td>\n      <td>1</td>\n      <td>0</td>\n      <td>0</td>\n      <td>1</td>\n      <td>A</td>\n    </tr>\n    <tr>\n      <td>289</td>\n      <td>2020-06-18</td>\n      <td>21:00</td>\n      <td>Real Madrid</td>\n      <td>Valencia</td>\n      <td>3</td>\n      <td>0</td>\n      <td>H</td>\n      <td>0</td>\n      <td>0</td>\n      <td>D</td>\n      <td>...</td>\n      <td>12</td>\n      <td>11</td>\n      <td>8</td>\n      <td>2</td>\n      <td>0</td>\n      <td>2</td>\n      <td>0</td>\n      <td>3</td>\n      <td>0</td>\n      <td>H</td>\n    </tr>\n    <tr>\n      <td>307</td>\n      <td>2020-06-24</td>\n      <td>21:00</td>\n      <td>Real Madrid</td>\n      <td>Mallorca</td>\n      <td>2</td>\n      <td>0</td>\n      <td>H</td>\n      <td>1</td>\n      <td>0</td>\n      <td>H</td>\n      <td>...</td>\n      <td>18</td>\n      <td>12</td>\n      <td>5</td>\n      <td>4</td>\n      <td>4</td>\n      <td>1</td>\n      <td>0</td>\n      <td>1</td>\n      <td>0</td>\n      <td>H</td>\n    </tr>\n    <tr>\n      <td>329</td>\n      <td>2020-02-07</td>\n      <td>21:00</td>\n      <td>Real Madrid</td>\n      <td>Getafe</td>\n      <td>1</td>\n      <td>0</td>\n      <td>H</td>\n      <td>0</td>\n      <td>0</td>\n      <td>D</td>\n      <td>...</td>\n      <td>15</td>\n      <td>22</td>\n      <td>6</td>\n      <td>5</td>\n      <td>5</td>\n      <td>5</td>\n      <td>0</td>\n      <td>1</td>\n      <td>0</td>\n      <td>H</td>\n    </tr>\n    <tr>\n      <td>349</td>\n      <td>2020-10-07</td>\n      <td>21:00</td>\n      <td>Real Madrid</td>\n      <td>Alaves</td>\n      <td>2</td>\n      <td>0</td>\n      <td>H</td>\n      <td>1</td>\n      <td>0</td>\n      <td>H</td>\n      <td>...</td>\n      <td>5</td>\n      <td>17</td>\n      <td>3</td>\n      <td>2</td>\n      <td>0</td>\n      <td>1</td>\n      <td>0</td>\n      <td>1</td>\n      <td>0</td>\n      <td>H</td>\n    </tr>\n    <tr>\n      <td>367</td>\n      <td>2020-07-16</td>\n      <td>20:00</td>\n      <td>Real Madrid</td>\n      <td>Villarreal</td>\n      <td>2</td>\n      <td>1</td>\n      <td>H</td>\n      <td>1</td>\n      <td>0</td>\n      <td>H</td>\n      <td>...</td>\n      <td>13</td>\n      <td>13</td>\n      <td>4</td>\n      <td>2</td>\n      <td>3</td>\n      <td>2</td>\n      <td>0</td>\n      <td>1</td>\n      <td>1</td>\n      <td>D</td>\n    </tr>\n  </tbody>\n</table>\n<p>19 rows × 24 columns</p>\n</div>"
     },
     "metadata": {},
     "execution_count": 51
    }
   ],
   "source": [
    "df_real_madrid_h = df[df[\"HomeTeam\"]==\"Real Madrid\"]\n",
    "df_real_madrid_h"
   ]
  },
  {
   "cell_type": "code",
   "execution_count": 52,
   "metadata": {},
   "outputs": [
    {
     "output_type": "execute_result",
     "data": {
      "text/plain": [
       "          Date   Time    HomeTeam     AwayTeam  FTHG  FTAG FTR  HTHG  HTAG  \\\n",
       "1   2019-08-17  16:00       Celta  Real Madrid     1     3   A     0     1   \n",
       "29  2019-01-09  20:00  Villarreal  Real Madrid     2     2   D     1     1   \n",
       "49  2019-09-22  20:00     Sevilla  Real Madrid     0     1   A     0     0   \n",
       "64  2019-09-28  20:00  Ath Madrid  Real Madrid     0     0   D     0     0   \n",
       "84  2019-10-19  20:00    Mallorca  Real Madrid     1     0   H     1     0   \n",
       "122 2019-09-11  17:30       Eibar  Real Madrid     0     4   A     0     3   \n",
       "140 2019-11-30  12:00      Alaves  Real Madrid     1     2   A     0     0   \n",
       "168 2019-12-15  20:00    Valencia  Real Madrid     1     1   D     0     0   \n",
       "169 2019-12-18  19:00   Barcelona  Real Madrid     0     0   D     0     0   \n",
       "183 2020-04-01  15:00      Getafe  Real Madrid     0     3   A     0     1   \n",
       "209 2020-01-26  20:00  Valladolid  Real Madrid     0     1   A     0     0   \n",
       "227 2020-09-02  15:00     Osasuna  Real Madrid     1     4   A     1     2   \n",
       "243 2020-02-22  20:00     Levante  Real Madrid     1     0   H     0     0   \n",
       "268 2020-08-03  20:00       Betis  Real Madrid     2     1   H     1     1   \n",
       "299 2020-06-21  21:00    Sociedad  Real Madrid     1     2   A     0     0   \n",
       "318 2020-06-28  21:00     Espanol  Real Madrid     0     1   A     0     1   \n",
       "334 2020-05-07  13:00  Ath Bilbao  Real Madrid     0     1   A     0     0   \n",
       "359 2020-07-13  21:00     Granada  Real Madrid     1     2   A     0     2   \n",
       "376 2020-07-19  20:00     Leganes  Real Madrid     2     2   D     1     1   \n",
       "\n",
       "    HTR  ...  HF  AF  HC  AC  HY  AY  HR  SHHG  SHAG  SHR  \n",
       "1     A  ...  17  12   6   4   5   2   0     1     2    A  \n",
       "29    D  ...   8  14   1   8   1   4   0     1     1    D  \n",
       "49    D  ...  16  15   9   6   3   2   0     0     1    A  \n",
       "64    D  ...  14  14   5   7   1   2   0     0     0    D  \n",
       "84    H  ...  20  14   4   4   2   2   0     0     0    D  \n",
       "122   A  ...   9   8   6   6   0   0   0     0     1    A  \n",
       "140   D  ...  18  11   9   4   4   3   0     1     2    A  \n",
       "168   D  ...  11  15   1   2   1   2   0     1     1    D  \n",
       "169   D  ...   5  17   2   6   3   5   0     0     0    D  \n",
       "183   A  ...  20  14   7   4   3   2   0     0     2    A  \n",
       "209   D  ...   7  11   3   5   1   3   0     0     1    A  \n",
       "227   A  ...  11  15   4   3   2   2   0     0     2    A  \n",
       "243   D  ...  16  10   3   7   1   2   0     1     0    H  \n",
       "268   D  ...   8  11   6   2   1   1   0     1     0    H  \n",
       "299   D  ...  16  15   4   1   4   2   0     1     2    A  \n",
       "318   A  ...  18  12   0   5   1   1   0     0     0    D  \n",
       "334   D  ...  13   8   3   2   4   3   0     0     1    A  \n",
       "359   A  ...  18  18   4   3   2   2   0     1     0    H  \n",
       "376   D  ...   9  11   5   2   4   1   0     1     1    D  \n",
       "\n",
       "[19 rows x 24 columns]"
      ],
      "text/html": "<div>\n<style scoped>\n    .dataframe tbody tr th:only-of-type {\n        vertical-align: middle;\n    }\n\n    .dataframe tbody tr th {\n        vertical-align: top;\n    }\n\n    .dataframe thead th {\n        text-align: right;\n    }\n</style>\n<table border=\"1\" class=\"dataframe\">\n  <thead>\n    <tr style=\"text-align: right;\">\n      <th></th>\n      <th>Date</th>\n      <th>Time</th>\n      <th>HomeTeam</th>\n      <th>AwayTeam</th>\n      <th>FTHG</th>\n      <th>FTAG</th>\n      <th>FTR</th>\n      <th>HTHG</th>\n      <th>HTAG</th>\n      <th>HTR</th>\n      <th>...</th>\n      <th>HF</th>\n      <th>AF</th>\n      <th>HC</th>\n      <th>AC</th>\n      <th>HY</th>\n      <th>AY</th>\n      <th>HR</th>\n      <th>SHHG</th>\n      <th>SHAG</th>\n      <th>SHR</th>\n    </tr>\n  </thead>\n  <tbody>\n    <tr>\n      <td>1</td>\n      <td>2019-08-17</td>\n      <td>16:00</td>\n      <td>Celta</td>\n      <td>Real Madrid</td>\n      <td>1</td>\n      <td>3</td>\n      <td>A</td>\n      <td>0</td>\n      <td>1</td>\n      <td>A</td>\n      <td>...</td>\n      <td>17</td>\n      <td>12</td>\n      <td>6</td>\n      <td>4</td>\n      <td>5</td>\n      <td>2</td>\n      <td>0</td>\n      <td>1</td>\n      <td>2</td>\n      <td>A</td>\n    </tr>\n    <tr>\n      <td>29</td>\n      <td>2019-01-09</td>\n      <td>20:00</td>\n      <td>Villarreal</td>\n      <td>Real Madrid</td>\n      <td>2</td>\n      <td>2</td>\n      <td>D</td>\n      <td>1</td>\n      <td>1</td>\n      <td>D</td>\n      <td>...</td>\n      <td>8</td>\n      <td>14</td>\n      <td>1</td>\n      <td>8</td>\n      <td>1</td>\n      <td>4</td>\n      <td>0</td>\n      <td>1</td>\n      <td>1</td>\n      <td>D</td>\n    </tr>\n    <tr>\n      <td>49</td>\n      <td>2019-09-22</td>\n      <td>20:00</td>\n      <td>Sevilla</td>\n      <td>Real Madrid</td>\n      <td>0</td>\n      <td>1</td>\n      <td>A</td>\n      <td>0</td>\n      <td>0</td>\n      <td>D</td>\n      <td>...</td>\n      <td>16</td>\n      <td>15</td>\n      <td>9</td>\n      <td>6</td>\n      <td>3</td>\n      <td>2</td>\n      <td>0</td>\n      <td>0</td>\n      <td>1</td>\n      <td>A</td>\n    </tr>\n    <tr>\n      <td>64</td>\n      <td>2019-09-28</td>\n      <td>20:00</td>\n      <td>Ath Madrid</td>\n      <td>Real Madrid</td>\n      <td>0</td>\n      <td>0</td>\n      <td>D</td>\n      <td>0</td>\n      <td>0</td>\n      <td>D</td>\n      <td>...</td>\n      <td>14</td>\n      <td>14</td>\n      <td>5</td>\n      <td>7</td>\n      <td>1</td>\n      <td>2</td>\n      <td>0</td>\n      <td>0</td>\n      <td>0</td>\n      <td>D</td>\n    </tr>\n    <tr>\n      <td>84</td>\n      <td>2019-10-19</td>\n      <td>20:00</td>\n      <td>Mallorca</td>\n      <td>Real Madrid</td>\n      <td>1</td>\n      <td>0</td>\n      <td>H</td>\n      <td>1</td>\n      <td>0</td>\n      <td>H</td>\n      <td>...</td>\n      <td>20</td>\n      <td>14</td>\n      <td>4</td>\n      <td>4</td>\n      <td>2</td>\n      <td>2</td>\n      <td>0</td>\n      <td>0</td>\n      <td>0</td>\n      <td>D</td>\n    </tr>\n    <tr>\n      <td>122</td>\n      <td>2019-09-11</td>\n      <td>17:30</td>\n      <td>Eibar</td>\n      <td>Real Madrid</td>\n      <td>0</td>\n      <td>4</td>\n      <td>A</td>\n      <td>0</td>\n      <td>3</td>\n      <td>A</td>\n      <td>...</td>\n      <td>9</td>\n      <td>8</td>\n      <td>6</td>\n      <td>6</td>\n      <td>0</td>\n      <td>0</td>\n      <td>0</td>\n      <td>0</td>\n      <td>1</td>\n      <td>A</td>\n    </tr>\n    <tr>\n      <td>140</td>\n      <td>2019-11-30</td>\n      <td>12:00</td>\n      <td>Alaves</td>\n      <td>Real Madrid</td>\n      <td>1</td>\n      <td>2</td>\n      <td>A</td>\n      <td>0</td>\n      <td>0</td>\n      <td>D</td>\n      <td>...</td>\n      <td>18</td>\n      <td>11</td>\n      <td>9</td>\n      <td>4</td>\n      <td>4</td>\n      <td>3</td>\n      <td>0</td>\n      <td>1</td>\n      <td>2</td>\n      <td>A</td>\n    </tr>\n    <tr>\n      <td>168</td>\n      <td>2019-12-15</td>\n      <td>20:00</td>\n      <td>Valencia</td>\n      <td>Real Madrid</td>\n      <td>1</td>\n      <td>1</td>\n      <td>D</td>\n      <td>0</td>\n      <td>0</td>\n      <td>D</td>\n      <td>...</td>\n      <td>11</td>\n      <td>15</td>\n      <td>1</td>\n      <td>2</td>\n      <td>1</td>\n      <td>2</td>\n      <td>0</td>\n      <td>1</td>\n      <td>1</td>\n      <td>D</td>\n    </tr>\n    <tr>\n      <td>169</td>\n      <td>2019-12-18</td>\n      <td>19:00</td>\n      <td>Barcelona</td>\n      <td>Real Madrid</td>\n      <td>0</td>\n      <td>0</td>\n      <td>D</td>\n      <td>0</td>\n      <td>0</td>\n      <td>D</td>\n      <td>...</td>\n      <td>5</td>\n      <td>17</td>\n      <td>2</td>\n      <td>6</td>\n      <td>3</td>\n      <td>5</td>\n      <td>0</td>\n      <td>0</td>\n      <td>0</td>\n      <td>D</td>\n    </tr>\n    <tr>\n      <td>183</td>\n      <td>2020-04-01</td>\n      <td>15:00</td>\n      <td>Getafe</td>\n      <td>Real Madrid</td>\n      <td>0</td>\n      <td>3</td>\n      <td>A</td>\n      <td>0</td>\n      <td>1</td>\n      <td>A</td>\n      <td>...</td>\n      <td>20</td>\n      <td>14</td>\n      <td>7</td>\n      <td>4</td>\n      <td>3</td>\n      <td>2</td>\n      <td>0</td>\n      <td>0</td>\n      <td>2</td>\n      <td>A</td>\n    </tr>\n    <tr>\n      <td>209</td>\n      <td>2020-01-26</td>\n      <td>20:00</td>\n      <td>Valladolid</td>\n      <td>Real Madrid</td>\n      <td>0</td>\n      <td>1</td>\n      <td>A</td>\n      <td>0</td>\n      <td>0</td>\n      <td>D</td>\n      <td>...</td>\n      <td>7</td>\n      <td>11</td>\n      <td>3</td>\n      <td>5</td>\n      <td>1</td>\n      <td>3</td>\n      <td>0</td>\n      <td>0</td>\n      <td>1</td>\n      <td>A</td>\n    </tr>\n    <tr>\n      <td>227</td>\n      <td>2020-09-02</td>\n      <td>15:00</td>\n      <td>Osasuna</td>\n      <td>Real Madrid</td>\n      <td>1</td>\n      <td>4</td>\n      <td>A</td>\n      <td>1</td>\n      <td>2</td>\n      <td>A</td>\n      <td>...</td>\n      <td>11</td>\n      <td>15</td>\n      <td>4</td>\n      <td>3</td>\n      <td>2</td>\n      <td>2</td>\n      <td>0</td>\n      <td>0</td>\n      <td>2</td>\n      <td>A</td>\n    </tr>\n    <tr>\n      <td>243</td>\n      <td>2020-02-22</td>\n      <td>20:00</td>\n      <td>Levante</td>\n      <td>Real Madrid</td>\n      <td>1</td>\n      <td>0</td>\n      <td>H</td>\n      <td>0</td>\n      <td>0</td>\n      <td>D</td>\n      <td>...</td>\n      <td>16</td>\n      <td>10</td>\n      <td>3</td>\n      <td>7</td>\n      <td>1</td>\n      <td>2</td>\n      <td>0</td>\n      <td>1</td>\n      <td>0</td>\n      <td>H</td>\n    </tr>\n    <tr>\n      <td>268</td>\n      <td>2020-08-03</td>\n      <td>20:00</td>\n      <td>Betis</td>\n      <td>Real Madrid</td>\n      <td>2</td>\n      <td>1</td>\n      <td>H</td>\n      <td>1</td>\n      <td>1</td>\n      <td>D</td>\n      <td>...</td>\n      <td>8</td>\n      <td>11</td>\n      <td>6</td>\n      <td>2</td>\n      <td>1</td>\n      <td>1</td>\n      <td>0</td>\n      <td>1</td>\n      <td>0</td>\n      <td>H</td>\n    </tr>\n    <tr>\n      <td>299</td>\n      <td>2020-06-21</td>\n      <td>21:00</td>\n      <td>Sociedad</td>\n      <td>Real Madrid</td>\n      <td>1</td>\n      <td>2</td>\n      <td>A</td>\n      <td>0</td>\n      <td>0</td>\n      <td>D</td>\n      <td>...</td>\n      <td>16</td>\n      <td>15</td>\n      <td>4</td>\n      <td>1</td>\n      <td>4</td>\n      <td>2</td>\n      <td>0</td>\n      <td>1</td>\n      <td>2</td>\n      <td>A</td>\n    </tr>\n    <tr>\n      <td>318</td>\n      <td>2020-06-28</td>\n      <td>21:00</td>\n      <td>Espanol</td>\n      <td>Real Madrid</td>\n      <td>0</td>\n      <td>1</td>\n      <td>A</td>\n      <td>0</td>\n      <td>1</td>\n      <td>A</td>\n      <td>...</td>\n      <td>18</td>\n      <td>12</td>\n      <td>0</td>\n      <td>5</td>\n      <td>1</td>\n      <td>1</td>\n      <td>0</td>\n      <td>0</td>\n      <td>0</td>\n      <td>D</td>\n    </tr>\n    <tr>\n      <td>334</td>\n      <td>2020-05-07</td>\n      <td>13:00</td>\n      <td>Ath Bilbao</td>\n      <td>Real Madrid</td>\n      <td>0</td>\n      <td>1</td>\n      <td>A</td>\n      <td>0</td>\n      <td>0</td>\n      <td>D</td>\n      <td>...</td>\n      <td>13</td>\n      <td>8</td>\n      <td>3</td>\n      <td>2</td>\n      <td>4</td>\n      <td>3</td>\n      <td>0</td>\n      <td>0</td>\n      <td>1</td>\n      <td>A</td>\n    </tr>\n    <tr>\n      <td>359</td>\n      <td>2020-07-13</td>\n      <td>21:00</td>\n      <td>Granada</td>\n      <td>Real Madrid</td>\n      <td>1</td>\n      <td>2</td>\n      <td>A</td>\n      <td>0</td>\n      <td>2</td>\n      <td>A</td>\n      <td>...</td>\n      <td>18</td>\n      <td>18</td>\n      <td>4</td>\n      <td>3</td>\n      <td>2</td>\n      <td>2</td>\n      <td>0</td>\n      <td>1</td>\n      <td>0</td>\n      <td>H</td>\n    </tr>\n    <tr>\n      <td>376</td>\n      <td>2020-07-19</td>\n      <td>20:00</td>\n      <td>Leganes</td>\n      <td>Real Madrid</td>\n      <td>2</td>\n      <td>2</td>\n      <td>D</td>\n      <td>1</td>\n      <td>1</td>\n      <td>D</td>\n      <td>...</td>\n      <td>9</td>\n      <td>11</td>\n      <td>5</td>\n      <td>2</td>\n      <td>4</td>\n      <td>1</td>\n      <td>0</td>\n      <td>1</td>\n      <td>1</td>\n      <td>D</td>\n    </tr>\n  </tbody>\n</table>\n<p>19 rows × 24 columns</p>\n</div>"
     },
     "metadata": {},
     "execution_count": 52
    }
   ],
   "source": [
    "df_real_madrid_a = df[df[\"AwayTeam\"]==\"Real Madrid\"]\n",
    "df_real_madrid_a"
   ]
  },
  {
   "cell_type": "markdown",
   "metadata": {},
   "source": [
    "### Contar la cantidad de juegos ganados tanto de local, como visitante por el Real Madrid"
   ]
  },
  {
   "cell_type": "code",
   "execution_count": 61,
   "metadata": {},
   "outputs": [
    {
     "output_type": "stream",
     "name": "stdout",
     "text": [
      "El Real Madrid ganó 26 juegos\n"
     ]
    }
   ],
   "source": [
    "real_madrid_ganados = df_real_madrid_h[df_real_madrid_h[\"FTR\"] == \"H\"][\"FTR\"].count() + df_real_madrid_a[df_real_madrid_a[\"FTR\"] == \"A\"][\"FTR\"].count()\n",
    "print(f'El Real Madrid ganó {real_madrid_ganados} juegos')"
   ]
  },
  {
   "cell_type": "markdown",
   "metadata": {},
   "source": [
    "### Lista los nombres de los clubes de la liga española"
   ]
  },
  {
   "cell_type": "code",
   "execution_count": 62,
   "metadata": {},
   "outputs": [
    {
     "output_type": "execute_result",
     "data": {
      "text/plain": [
       "array(['Ath Bilbao', 'Celta', 'Valencia', 'Mallorca', 'Leganes',\n",
       "       'Villarreal', 'Alaves', 'Espanol', 'Betis', 'Ath Madrid',\n",
       "       'Granada', 'Levante', 'Osasuna', 'Real Madrid', 'Getafe',\n",
       "       'Barcelona', 'Sevilla', 'Sociedad', 'Eibar', 'Valladolid'],\n",
       "      dtype=object)"
      ]
     },
     "metadata": {},
     "execution_count": 62
    }
   ],
   "source": [
    "df[\"HomeTeam\"].unique()"
   ]
  },
  {
   "cell_type": "markdown",
   "metadata": {},
   "source": [
    "### Usar ipywidgets para mostrar y filtrar los juegos de local de cada equipo de la liga"
   ]
  },
  {
   "cell_type": "code",
   "execution_count": null,
   "metadata": {},
   "outputs": [],
   "source": []
  },
  {
   "cell_type": "markdown",
   "metadata": {},
   "source": [
    "### Usar ipywidgets para mostrar y filtrar la cantidad de juegos que ganó cada equipo de la liga"
   ]
  },
  {
   "cell_type": "code",
   "execution_count": null,
   "metadata": {},
   "outputs": [],
   "source": []
  },
  {
   "cell_type": "markdown",
   "metadata": {},
   "source": [
    "### 3. La Tabla de Liga:\n",
    "\n",
    "* La tabla de la liga incluirá las siguientes columnas:\n",
    "    * Club: nombre del club.\n",
    "    * MP: total de partidos jugados.\n",
    "    * W: número total de victorias.\n",
    "    * D: número total de empates.\n",
    "    * L: número total de derrotas.\n",
    "    * GF: número total de goles marcados.\n",
    "    * GA: número total de goles recibidos.\n",
    "    * GD: diferencia de goles (GF-GA).\n",
    "    * Pts: puntos totales."
   ]
  },
  {
   "cell_type": "markdown",
   "metadata": {},
   "source": [
    "### Correr la siguiente celda con la función *'crear_tabla'*"
   ]
  },
  {
   "cell_type": "code",
   "execution_count": 36,
   "metadata": {},
   "outputs": [
    {
     "output_type": "error",
     "ename": "NameError",
     "evalue": "name 'laliga' is not defined",
     "traceback": [
      "\u001b[1;31m---------------------------------------------------------------------------\u001b[0m",
      "\u001b[1;31mNameError\u001b[0m                                 Traceback (most recent call last)",
      "\u001b[1;32m<ipython-input-36-6a0414f2031e>\u001b[0m in \u001b[0;36m<module>\u001b[1;34m\u001b[0m\n\u001b[0;32m      1\u001b[0m \u001b[1;31m#clubes de la liga en un array\u001b[0m\u001b[1;33m\u001b[0m\u001b[1;33m\u001b[0m\u001b[1;33m\u001b[0m\u001b[0m\n\u001b[1;32m----> 2\u001b[1;33m \u001b[0mclubs\u001b[0m \u001b[1;33m=\u001b[0m \u001b[0mlaliga\u001b[0m\u001b[1;33m[\u001b[0m\u001b[1;34m'HomeTeam'\u001b[0m\u001b[1;33m]\u001b[0m\u001b[1;33m.\u001b[0m\u001b[0munique\u001b[0m\u001b[1;33m(\u001b[0m\u001b[1;33m)\u001b[0m\u001b[1;33m\u001b[0m\u001b[1;33m\u001b[0m\u001b[0m\n\u001b[0m\u001b[0;32m      3\u001b[0m \u001b[1;33m\u001b[0m\u001b[0m\n\u001b[0;32m      4\u001b[0m \u001b[1;32mdef\u001b[0m \u001b[0mcrear_tabla\u001b[0m\u001b[1;33m(\u001b[0m\u001b[0mclubs\u001b[0m\u001b[1;33m,\u001b[0m \u001b[0mdf\u001b[0m\u001b[1;33m,\u001b[0m \u001b[0mside\u001b[0m\u001b[1;33m)\u001b[0m\u001b[1;33m:\u001b[0m\u001b[1;33m\u001b[0m\u001b[1;33m\u001b[0m\u001b[0m\n\u001b[0;32m      5\u001b[0m     \u001b[1;31m## side = home/away/all\u001b[0m\u001b[1;33m\u001b[0m\u001b[1;33m\u001b[0m\u001b[1;33m\u001b[0m\u001b[0m\n",
      "\u001b[1;31mNameError\u001b[0m: name 'laliga' is not defined"
     ]
    }
   ],
   "source": [
    "#clubes de la liga en un array \n",
    "clubs = laliga['HomeTeam'].unique()\n",
    "\n",
    "def crear_tabla(clubs, df, side):\n",
    "    ## side = home/away/all\n",
    "    ## home = para crear una tabla de los partidos locales de la liga\n",
    "    ## away =  para crear una tabla de los partidos visitante de la liga\n",
    "    ## all = para crear una tabla de todos los valores de la liga \n",
    "    \n",
    "    #diccionario que incluirá la información de cada club\n",
    "    league_table = dict()\n",
    "    \n",
    "    for club in clubs:\n",
    "        ## iterate though club and fill in the values in league_table dictionary\n",
    "        ## iterar a través del club y completar los valores en el diccionario league_table\n",
    "        ## match played, win, draw, lose, goals for, goals against, goal difference, clean sheets, points\n",
    "        mp, w, d, l, gf, ga, gd, cs, pts = 0, 0, 0, 0, 0, 0, 0, 0, 0\n",
    "        \n",
    "\n",
    "        ## recorrerá todo el conjunto de datos y calculará todos los resultados\n",
    "        for i in range(len(df)):\n",
    "            ## la cláusula if-else verificará las condiciones para los equipos locales y visitantes\n",
    "            ## y según la condición calculará los resultados requeridos\n",
    "            ## cuando el club es un equipo local\n",
    "            ## el parámetro de side es para checkear si es unaa tabla de local o no\n",
    "            if df.iloc[i]['HomeTeam'] == club and (side == 'home' or side == 'all'):\n",
    " \n",
    "                if df.iloc[i]['FTR'] == 'H':\n",
    "                    #cuando el equipo local gana, se suma 1 victoria y 3 puntos\n",
    "                    w += 1\n",
    "                    pts += 3\n",
    "                    \n",
    "                elif df.iloc[i]['FTR'] == 'A':\n",
    "                    l += 1\n",
    "                #cuando el equipo visitante gana, se suma 1 derrota y 0 puntos\n",
    "  \n",
    "                else:\n",
    "                 #cuando se empata, se suma 1 empate y 0 puntos\n",
    "\n",
    "                    d += 1\n",
    "                    pts += 1\n",
    "                    \n",
    "                ##calculando los goles a favor y los goles en contra    \n",
    "                gf += df.iloc[i]['FTHG']\n",
    "                ga += df.iloc[i]['FTAG']\n",
    "                \n",
    "                \n",
    "                 ## calculando los partidos con portería a 0\n",
    "                if df.iloc[i]['FTAG'] == 0:\n",
    "                    cs += 1\n",
    "                \n",
    "                ## incrementar la cantidad de partidos jugados\n",
    "                mp += 1\n",
    "                \n",
    "                \n",
    "            # cuando el club es un equipo visitante\n",
    "            ## el parámetro de side es para checkear si es unaa tabla de visitante o no\n",
    "            \n",
    "            elif df.iloc[i]['AwayTeam'] == club and (side == 'away' or side == 'all'):\n",
    "\n",
    "                if df.iloc[i]['FTR'] == 'H':\n",
    "                    #cuando el equipo local gana, se suma 1 derrota  y 0 puntos\n",
    "                    l += 1\n",
    "\n",
    "                elif df.iloc[i]['FTR'] == 'A':\n",
    "                   #cuando el equipo local pierde, se suma 1 victoria y 3 puntos\n",
    "                    w += 1\n",
    "                    pts += 3\n",
    "                    \n",
    "                else:\n",
    "                #cuando se empata, se suma 1 empate y 0 puntos\n",
    "\n",
    "                    d += 1\n",
    "                    pts += 1\n",
    "\n",
    "                ##calculando los goles a favor y los goles en contra    \n",
    "                \n",
    "                gf += df.iloc[i]['FTAG']\n",
    "                ga += df.iloc[i]['FTHG']\n",
    "                \n",
    "                \n",
    "                ## calculando los partidos con portería a 0\n",
    "                if df.iloc[i]['FTHG'] == 0:\n",
    "                    cs += 1\n",
    "\n",
    "                ## incrementar la cantidad de partidos jugados\n",
    "                mp += 1\n",
    "        \n",
    "        #calculando la diferencia de gol \n",
    "        gd = gf - ga\n",
    "        \n",
    "        ## colocando todos los parámetros en un diccionario con una llave que es el nombre del club\n",
    "        league_table[club] = {'MP': mp, 'W': w, 'D': d, 'L': l, 'GF': gf, 'GA': ga, 'GD': gd, 'CS': cs, 'PTS': pts}\n",
    "    \n",
    "    #diccionario con los datos anteriores calculados\n",
    "    return league_table"
   ]
  },
  {
   "cell_type": "markdown",
   "metadata": {},
   "source": [
    "### Asigna a  la función crear_tabla(clubs, laliga, side='all') en una variable tabla_liga e imprimela"
   ]
  },
  {
   "cell_type": "code",
   "execution_count": null,
   "metadata": {},
   "outputs": [],
   "source": []
  },
  {
   "cell_type": "markdown",
   "metadata": {},
   "source": [
    "### Crear un dataframe llamado tabla_liga_df con el diccionario tabla_liga"
   ]
  },
  {
   "cell_type": "code",
   "execution_count": null,
   "metadata": {},
   "outputs": [],
   "source": []
  },
  {
   "cell_type": "markdown",
   "metadata": {},
   "source": [
    "### Convertir columnas en filas y filas en columnas, usando .transpose()"
   ]
  },
  {
   "cell_type": "code",
   "execution_count": null,
   "metadata": {},
   "outputs": [],
   "source": []
  },
  {
   "cell_type": "markdown",
   "metadata": {},
   "source": [
    "### Convierte el Club en una columna y resetea índice"
   ]
  },
  {
   "cell_type": "code",
   "execution_count": null,
   "metadata": {},
   "outputs": [],
   "source": []
  },
  {
   "cell_type": "markdown",
   "metadata": {},
   "source": [
    "### Ordena los valores por la columna PTS y Goles de Diferencia (GD)  y resetea los indices "
   ]
  },
  {
   "cell_type": "code",
   "execution_count": null,
   "metadata": {},
   "outputs": [],
   "source": []
  },
  {
   "cell_type": "markdown",
   "metadata": {},
   "source": [
    "### Aplicale color amarillo a valores más elevados"
   ]
  },
  {
   "cell_type": "code",
   "execution_count": null,
   "metadata": {},
   "outputs": [],
   "source": []
  },
  {
   "cell_type": "markdown",
   "metadata": {},
   "source": [
    "---"
   ]
  },
  {
   "cell_type": "markdown",
   "metadata": {},
   "source": [
    "### 4. Análisis de datos exploratorios (EDA):"
   ]
  },
  {
   "cell_type": "markdown",
   "metadata": {},
   "source": [
    "* **Muestra los 4 equipos clasificados a la UEFA Champions League(UCL).**"
   ]
  },
  {
   "cell_type": "code",
   "execution_count": null,
   "metadata": {},
   "outputs": [],
   "source": []
  },
  {
   "cell_type": "markdown",
   "metadata": {},
   "source": [
    "* **Muestra los 3 equipos calificados a la UEFA Europa League(UEL).**"
   ]
  },
  {
   "cell_type": "code",
   "execution_count": null,
   "metadata": {},
   "outputs": [],
   "source": []
  },
  {
   "cell_type": "markdown",
   "metadata": {},
   "source": [
    "* **Muestra los 3 equipos desendidos**"
   ]
  },
  {
   "cell_type": "code",
   "execution_count": null,
   "metadata": {},
   "outputs": [],
   "source": []
  },
  {
   "cell_type": "markdown",
   "metadata": {},
   "source": [
    "#### Utiliza iterrows() para guardar en un vector los clasificados a Champions League, Europa League, los Descendidos o no va a competiciones europeas"
   ]
  },
  {
   "cell_type": "code",
   "execution_count": null,
   "metadata": {},
   "outputs": [],
   "source": []
  },
  {
   "cell_type": "markdown",
   "metadata": {},
   "source": [
    "#### Crea una función que reciba una fila y que retorne si está clasificado en equipo en Champions League, Europa League, Descendido o no va a competiciones europeas"
   ]
  },
  {
   "cell_type": "code",
   "execution_count": null,
   "metadata": {},
   "outputs": [],
   "source": []
  },
  {
   "cell_type": "markdown",
   "metadata": {},
   "source": [
    "#### Aplique la función anterior con un apply y cre una columna llamada CE (Competiciones Europeas)"
   ]
  },
  {
   "cell_type": "code",
   "execution_count": null,
   "metadata": {},
   "outputs": [],
   "source": []
  },
  {
   "cell_type": "code",
   "execution_count": null,
   "metadata": {},
   "outputs": [],
   "source": []
  },
  {
   "cell_type": "markdown",
   "metadata": {},
   "source": [
    "* **5 equipos con mayor número de goles**"
   ]
  },
  {
   "cell_type": "code",
   "execution_count": null,
   "metadata": {},
   "outputs": [],
   "source": []
  },
  {
   "cell_type": "markdown",
   "metadata": {},
   "source": [
    "* **5 equipos con menor número de goles**"
   ]
  },
  {
   "cell_type": "code",
   "execution_count": null,
   "metadata": {},
   "outputs": [],
   "source": []
  },
  {
   "cell_type": "markdown",
   "metadata": {},
   "source": [
    "* **5 equipos con mayor portería a 0.**"
   ]
  },
  {
   "cell_type": "code",
   "execution_count": null,
   "metadata": {},
   "outputs": [],
   "source": []
  },
  {
   "cell_type": "markdown",
   "metadata": {},
   "source": [
    "* **Los cinco mejores equipos que concedieron la mayor cantidad de goles**"
   ]
  },
  {
   "cell_type": "code",
   "execution_count": null,
   "metadata": {},
   "outputs": [],
   "source": []
  },
  {
   "cell_type": "markdown",
   "metadata": {},
   "source": [
    "* ## **Tabla Local y Tabla Visitante**"
   ]
  },
  {
   "cell_type": "markdown",
   "metadata": {},
   "source": [
    "### Asigna la fución crear_tabla(clubs, laliga, side='home') en una variable llamada tabla_local e imprimela"
   ]
  },
  {
   "cell_type": "code",
   "execution_count": null,
   "metadata": {},
   "outputs": [],
   "source": []
  },
  {
   "cell_type": "markdown",
   "metadata": {},
   "source": [
    "## Realiza el mismo preprocesamiento que con tabla_liga_df"
   ]
  },
  {
   "cell_type": "markdown",
   "metadata": {},
   "source": [
    "* Crear un dataframe llamado tabla_local_df con el diccionario tabla_local\n",
    "* transponer el dataframe tabla_local\n",
    "* Colocar el index Club como una nueva columna y reseteear el index como numérico\n",
    "* Ordenar el dataframe por puntos y goles de diferencia de mayor a menor\n",
    "* Resetear los índices con el dataframe ordenado\n"
   ]
  },
  {
   "cell_type": "code",
   "execution_count": null,
   "metadata": {},
   "outputs": [],
   "source": []
  },
  {
   "cell_type": "markdown",
   "metadata": {},
   "source": [
    "### Realiza lo mismo anterior pero con side='away' en la funcion  crear_tabla(clubs, laliga, side='away'). Usar de variable tabla_visitante y tabla_visitante_df"
   ]
  },
  {
   "cell_type": "code",
   "execution_count": null,
   "metadata": {},
   "outputs": [],
   "source": []
  },
  {
   "cell_type": "code",
   "execution_count": null,
   "metadata": {},
   "outputs": [],
   "source": [
    "def multi_table(table_list):\n",
    "    return HTML(\n",
    "        '<table><tr style=\"background-color:white;\">' + \n",
    "        ''.join(['<td>' + table._repr_html_() + '</td>' for table in table_list]) +\n",
    "        '</tr></table>'\n",
    "    )\n",
    "multi_table([tabla_local_df, tabla_visitante_df])"
   ]
  },
  {
   "cell_type": "markdown",
   "metadata": {},
   "source": [
    "* ***Conclusion***:  La gran mayoría los equipos cuando jugaron sus partidos fuera de casa, perdieron puntos, en comparación a jugar de local\n",
    "\n",
    "<br>"
   ]
  }
 ],
 "metadata": {
  "kernelspec": {
   "name": "python374jvsc74a57bd0e3271cbe9a51c8bed216e53a057067d4c743601406c2e6e1fc0fc05fb8173f2c",
   "display_name": "Python 3.7.4 64-bit ('base': conda)"
  },
  "language_info": {
   "codemirror_mode": {
    "name": "ipython",
    "version": 3
   },
   "file_extension": ".py",
   "mimetype": "text/x-python",
   "name": "python",
   "nbconvert_exporter": "python",
   "pygments_lexer": "ipython3",
   "version": "3.7.4"
  },
  "metadata": {
   "interpreter": {
    "hash": "e404b59586357c814bc0d3940e75d6763c00a48753b225b81f7716971b8e1741"
   }
  }
 },
 "nbformat": 4,
 "nbformat_minor": 4
}